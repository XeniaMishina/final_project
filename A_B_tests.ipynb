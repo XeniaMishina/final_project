{
  "cells": [
    {
      "cell_type": "markdown",
      "metadata": {
        "id": "htisYCRvZ-q2"
      },
      "source": [
        "# A/B тесты\n",
        "\n",
        "## Описание проекта\n",
        "Задача — провести оценку результатов A/B-теста. В распоряжении есть датасет с действиями пользователей, техническое задание и несколько вспомогательных датасетов.\n",
        "\n",
        "Требуется:\n",
        "- Оценить корректность проведения теста\n",
        "  - проверить пересечение тестовой аудитории с конкурирующим тестом,\n",
        "  - проверить совпадение теста и маркетинговых событий, другие проблемы временных границ теста\n",
        "- Проанализировать результаты теста\n",
        " \n",
        "\n",
        "## Техническое задание\n",
        "\n",
        "- Название теста: `recommender_system_test`;\n",
        "- группы: А — контрольная, B — новая платёжная воронка;\n",
        "- дата запуска: `2020-12-07`;\n",
        "- дата остановки набора новых пользователей: `2020-12-21`;\n",
        "- дата остановки: `2021-01-04`;\n",
        "- аудитория: 15% новых пользователей из региона EU;\n",
        "- назначение теста: тестирование изменений, связанных с внедрением улучшенной рекомендательной системы;\n",
        "- ожидаемое количество участников теста: 6000.\n",
        "- ожидаемый эффект: за 14 дней с момента регистрации пользователи покажут улучшение каждой метрики не менее, чем на 10%:\n",
        "    - конверсии в просмотр карточек товаров — событие `product_page`,\n",
        "    - просмотры корзины — `product_cart`,\n",
        "    - покупки — `purchase`.\n",
        "\n"
      ]
    },
    {
      "cell_type": "code",
      "execution_count": 1,
      "metadata": {
        "id": "-AeUHyJraigs"
      },
      "outputs": [],
      "source": [
        "# импорт библиотек \n",
        "import pandas as pd\n",
        "import seaborn as sns\n",
        "import matplotlib.pyplot as plt\n",
        "import numpy as np\n",
        "import math as mth\n",
        "from scipy import stats as st\n"
      ]
    },
    {
      "cell_type": "code",
      "execution_count": 2,
      "metadata": {
        "id": "TYHLjC6Y2gya"
      },
      "outputs": [],
      "source": [
        "import warnings\n",
        "warnings.filterwarnings(\"ignore\")"
      ]
    },
    {
      "cell_type": "code",
      "execution_count": 3,
      "metadata": {
        "id": "kgfPQmVCa2Om"
      },
      "outputs": [],
      "source": [
        "# загрузка файлов\n",
        "marketing_events = pd.read_csv('https://raw.githubusercontent.com/XeniaMishina/final_project/main/ab_project_marketing_events.csv')\n",
        "new_users = pd.read_csv('https://raw.githubusercontent.com/XeniaMishina/final_project/main/final_ab_new_users.csv')\n",
        "events = pd.read_csv('https://raw.githubusercontent.com/XeniaMishina/final_project/main/final_ab_events.csv')\n",
        "participants = pd.read_csv('https://raw.githubusercontent.com/XeniaMishina/final_project/main/final_ab_participants.csv')"
      ]
    },
    {
      "cell_type": "code",
      "execution_count": 4,
      "metadata": {
        "colab": {
          "base_uri": "https://localhost:8080/"
        },
        "id": "bF95Ox96N2UR",
        "outputId": "bb620346-4aa6-4cbf-e95e-d1a851b10d10"
      },
      "outputs": [
        {
          "output_type": "execute_result",
          "data": {
            "text/plain": [
              "0"
            ]
          },
          "metadata": {},
          "execution_count": 4
        }
      ],
      "source": [
        "events.duplicated().sum()"
      ]
    },
    {
      "cell_type": "markdown",
      "metadata": {
        "id": "L3pTN8iX4bNK"
      },
      "source": [
        "## Исследование данных"
      ]
    },
    {
      "cell_type": "code",
      "execution_count": 5,
      "metadata": {
        "id": "tibo-PV0dRLf"
      },
      "outputs": [],
      "source": [
        "# функция, дающая общую информацию о датасете\n",
        "def first_impression(df):\n",
        "    print()\n",
        "    print('Первые 5 строк данных:')\n",
        "    display(df.head())\n",
        "    print('\\n')\n",
        "    print('Общая информация о данных:\\n')\n",
        "    print(df.info())\n",
        "    print('\\n')\n",
        "    print(f'Количество полных строк-дубликатов = {df.duplicated().sum()},')\n",
        "    print(f'что составляет {(df.duplicated().sum() / len(df)):.3%} датафрейма')"
      ]
    },
    {
      "cell_type": "markdown",
      "metadata": {
        "id": "L7D_TYzR5Gqj"
      },
      "source": [
        "### События"
      ]
    },
    {
      "cell_type": "code",
      "execution_count": 6,
      "metadata": {
        "colab": {
          "base_uri": "https://localhost:8080/",
          "height": 703
        },
        "id": "Bc9ymreo4udY",
        "outputId": "3708e7e0-54dd-4bb1-edbc-3976a2c960be"
      },
      "outputs": [
        {
          "output_type": "stream",
          "name": "stdout",
          "text": [
            "<class 'pandas.core.frame.DataFrame'>\n",
            "RangeIndex: 14 entries, 0 to 13\n",
            "Data columns (total 4 columns):\n",
            " #   Column     Non-Null Count  Dtype \n",
            "---  ------     --------------  ----- \n",
            " 0   name       14 non-null     object\n",
            " 1   regions    14 non-null     object\n",
            " 2   start_dt   14 non-null     object\n",
            " 3   finish_dt  14 non-null     object\n",
            "dtypes: object(4)\n",
            "memory usage: 576.0+ bytes\n",
            "None\n"
          ]
        },
        {
          "output_type": "execute_result",
          "data": {
            "text/plain": [
              "                                name                   regions    start_dt  \\\n",
              "0           Christmas&New Year Promo             EU, N.America  2020-12-25   \n",
              "1       St. Valentine's Day Giveaway  EU, CIS, APAC, N.America  2020-02-14   \n",
              "2             St. Patric's Day Promo             EU, N.America  2020-03-17   \n",
              "3                       Easter Promo  EU, CIS, APAC, N.America  2020-04-12   \n",
              "4                  4th of July Promo                 N.America  2020-07-04   \n",
              "5          Black Friday Ads Campaign  EU, CIS, APAC, N.America  2020-11-26   \n",
              "6             Chinese New Year Promo                      APAC  2020-01-25   \n",
              "7   Labor day (May 1st) Ads Campaign             EU, CIS, APAC  2020-05-01   \n",
              "8    International Women's Day Promo             EU, CIS, APAC  2020-03-08   \n",
              "9    Victory Day CIS (May 9th) Event                       CIS  2020-05-09   \n",
              "10         CIS New Year Gift Lottery                       CIS  2020-12-30   \n",
              "11     Dragon Boat Festival Giveaway                      APAC  2020-06-25   \n",
              "12           Single's Day Gift Promo                      APAC  2020-11-11   \n",
              "13             Chinese Moon Festival                      APAC  2020-10-01   \n",
              "\n",
              "     finish_dt  \n",
              "0   2021-01-03  \n",
              "1   2020-02-16  \n",
              "2   2020-03-19  \n",
              "3   2020-04-19  \n",
              "4   2020-07-11  \n",
              "5   2020-12-01  \n",
              "6   2020-02-07  \n",
              "7   2020-05-03  \n",
              "8   2020-03-10  \n",
              "9   2020-05-11  \n",
              "10  2021-01-07  \n",
              "11  2020-07-01  \n",
              "12  2020-11-12  \n",
              "13  2020-10-07  "
            ],
            "text/html": [
              "\n",
              "  <div id=\"df-156524c0-7067-4415-975c-f5dc28b4d2c9\">\n",
              "    <div class=\"colab-df-container\">\n",
              "      <div>\n",
              "<style scoped>\n",
              "    .dataframe tbody tr th:only-of-type {\n",
              "        vertical-align: middle;\n",
              "    }\n",
              "\n",
              "    .dataframe tbody tr th {\n",
              "        vertical-align: top;\n",
              "    }\n",
              "\n",
              "    .dataframe thead th {\n",
              "        text-align: right;\n",
              "    }\n",
              "</style>\n",
              "<table border=\"1\" class=\"dataframe\">\n",
              "  <thead>\n",
              "    <tr style=\"text-align: right;\">\n",
              "      <th></th>\n",
              "      <th>name</th>\n",
              "      <th>regions</th>\n",
              "      <th>start_dt</th>\n",
              "      <th>finish_dt</th>\n",
              "    </tr>\n",
              "  </thead>\n",
              "  <tbody>\n",
              "    <tr>\n",
              "      <th>0</th>\n",
              "      <td>Christmas&amp;New Year Promo</td>\n",
              "      <td>EU, N.America</td>\n",
              "      <td>2020-12-25</td>\n",
              "      <td>2021-01-03</td>\n",
              "    </tr>\n",
              "    <tr>\n",
              "      <th>1</th>\n",
              "      <td>St. Valentine's Day Giveaway</td>\n",
              "      <td>EU, CIS, APAC, N.America</td>\n",
              "      <td>2020-02-14</td>\n",
              "      <td>2020-02-16</td>\n",
              "    </tr>\n",
              "    <tr>\n",
              "      <th>2</th>\n",
              "      <td>St. Patric's Day Promo</td>\n",
              "      <td>EU, N.America</td>\n",
              "      <td>2020-03-17</td>\n",
              "      <td>2020-03-19</td>\n",
              "    </tr>\n",
              "    <tr>\n",
              "      <th>3</th>\n",
              "      <td>Easter Promo</td>\n",
              "      <td>EU, CIS, APAC, N.America</td>\n",
              "      <td>2020-04-12</td>\n",
              "      <td>2020-04-19</td>\n",
              "    </tr>\n",
              "    <tr>\n",
              "      <th>4</th>\n",
              "      <td>4th of July Promo</td>\n",
              "      <td>N.America</td>\n",
              "      <td>2020-07-04</td>\n",
              "      <td>2020-07-11</td>\n",
              "    </tr>\n",
              "    <tr>\n",
              "      <th>5</th>\n",
              "      <td>Black Friday Ads Campaign</td>\n",
              "      <td>EU, CIS, APAC, N.America</td>\n",
              "      <td>2020-11-26</td>\n",
              "      <td>2020-12-01</td>\n",
              "    </tr>\n",
              "    <tr>\n",
              "      <th>6</th>\n",
              "      <td>Chinese New Year Promo</td>\n",
              "      <td>APAC</td>\n",
              "      <td>2020-01-25</td>\n",
              "      <td>2020-02-07</td>\n",
              "    </tr>\n",
              "    <tr>\n",
              "      <th>7</th>\n",
              "      <td>Labor day (May 1st) Ads Campaign</td>\n",
              "      <td>EU, CIS, APAC</td>\n",
              "      <td>2020-05-01</td>\n",
              "      <td>2020-05-03</td>\n",
              "    </tr>\n",
              "    <tr>\n",
              "      <th>8</th>\n",
              "      <td>International Women's Day Promo</td>\n",
              "      <td>EU, CIS, APAC</td>\n",
              "      <td>2020-03-08</td>\n",
              "      <td>2020-03-10</td>\n",
              "    </tr>\n",
              "    <tr>\n",
              "      <th>9</th>\n",
              "      <td>Victory Day CIS (May 9th) Event</td>\n",
              "      <td>CIS</td>\n",
              "      <td>2020-05-09</td>\n",
              "      <td>2020-05-11</td>\n",
              "    </tr>\n",
              "    <tr>\n",
              "      <th>10</th>\n",
              "      <td>CIS New Year Gift Lottery</td>\n",
              "      <td>CIS</td>\n",
              "      <td>2020-12-30</td>\n",
              "      <td>2021-01-07</td>\n",
              "    </tr>\n",
              "    <tr>\n",
              "      <th>11</th>\n",
              "      <td>Dragon Boat Festival Giveaway</td>\n",
              "      <td>APAC</td>\n",
              "      <td>2020-06-25</td>\n",
              "      <td>2020-07-01</td>\n",
              "    </tr>\n",
              "    <tr>\n",
              "      <th>12</th>\n",
              "      <td>Single's Day Gift Promo</td>\n",
              "      <td>APAC</td>\n",
              "      <td>2020-11-11</td>\n",
              "      <td>2020-11-12</td>\n",
              "    </tr>\n",
              "    <tr>\n",
              "      <th>13</th>\n",
              "      <td>Chinese Moon Festival</td>\n",
              "      <td>APAC</td>\n",
              "      <td>2020-10-01</td>\n",
              "      <td>2020-10-07</td>\n",
              "    </tr>\n",
              "  </tbody>\n",
              "</table>\n",
              "</div>\n",
              "      <button class=\"colab-df-convert\" onclick=\"convertToInteractive('df-156524c0-7067-4415-975c-f5dc28b4d2c9')\"\n",
              "              title=\"Convert this dataframe to an interactive table.\"\n",
              "              style=\"display:none;\">\n",
              "        \n",
              "  <svg xmlns=\"http://www.w3.org/2000/svg\" height=\"24px\"viewBox=\"0 0 24 24\"\n",
              "       width=\"24px\">\n",
              "    <path d=\"M0 0h24v24H0V0z\" fill=\"none\"/>\n",
              "    <path d=\"M18.56 5.44l.94 2.06.94-2.06 2.06-.94-2.06-.94-.94-2.06-.94 2.06-2.06.94zm-11 1L8.5 8.5l.94-2.06 2.06-.94-2.06-.94L8.5 2.5l-.94 2.06-2.06.94zm10 10l.94 2.06.94-2.06 2.06-.94-2.06-.94-.94-2.06-.94 2.06-2.06.94z\"/><path d=\"M17.41 7.96l-1.37-1.37c-.4-.4-.92-.59-1.43-.59-.52 0-1.04.2-1.43.59L10.3 9.45l-7.72 7.72c-.78.78-.78 2.05 0 2.83L4 21.41c.39.39.9.59 1.41.59.51 0 1.02-.2 1.41-.59l7.78-7.78 2.81-2.81c.8-.78.8-2.07 0-2.86zM5.41 20L4 18.59l7.72-7.72 1.47 1.35L5.41 20z\"/>\n",
              "  </svg>\n",
              "      </button>\n",
              "      \n",
              "  <style>\n",
              "    .colab-df-container {\n",
              "      display:flex;\n",
              "      flex-wrap:wrap;\n",
              "      gap: 12px;\n",
              "    }\n",
              "\n",
              "    .colab-df-convert {\n",
              "      background-color: #E8F0FE;\n",
              "      border: none;\n",
              "      border-radius: 50%;\n",
              "      cursor: pointer;\n",
              "      display: none;\n",
              "      fill: #1967D2;\n",
              "      height: 32px;\n",
              "      padding: 0 0 0 0;\n",
              "      width: 32px;\n",
              "    }\n",
              "\n",
              "    .colab-df-convert:hover {\n",
              "      background-color: #E2EBFA;\n",
              "      box-shadow: 0px 1px 2px rgba(60, 64, 67, 0.3), 0px 1px 3px 1px rgba(60, 64, 67, 0.15);\n",
              "      fill: #174EA6;\n",
              "    }\n",
              "\n",
              "    [theme=dark] .colab-df-convert {\n",
              "      background-color: #3B4455;\n",
              "      fill: #D2E3FC;\n",
              "    }\n",
              "\n",
              "    [theme=dark] .colab-df-convert:hover {\n",
              "      background-color: #434B5C;\n",
              "      box-shadow: 0px 1px 3px 1px rgba(0, 0, 0, 0.15);\n",
              "      filter: drop-shadow(0px 1px 2px rgba(0, 0, 0, 0.3));\n",
              "      fill: #FFFFFF;\n",
              "    }\n",
              "  </style>\n",
              "\n",
              "      <script>\n",
              "        const buttonEl =\n",
              "          document.querySelector('#df-156524c0-7067-4415-975c-f5dc28b4d2c9 button.colab-df-convert');\n",
              "        buttonEl.style.display =\n",
              "          google.colab.kernel.accessAllowed ? 'block' : 'none';\n",
              "\n",
              "        async function convertToInteractive(key) {\n",
              "          const element = document.querySelector('#df-156524c0-7067-4415-975c-f5dc28b4d2c9');\n",
              "          const dataTable =\n",
              "            await google.colab.kernel.invokeFunction('convertToInteractive',\n",
              "                                                     [key], {});\n",
              "          if (!dataTable) return;\n",
              "\n",
              "          const docLinkHtml = 'Like what you see? Visit the ' +\n",
              "            '<a target=\"_blank\" href=https://colab.research.google.com/notebooks/data_table.ipynb>data table notebook</a>'\n",
              "            + ' to learn more about interactive tables.';\n",
              "          element.innerHTML = '';\n",
              "          dataTable['output_type'] = 'display_data';\n",
              "          await google.colab.output.renderOutput(dataTable, element);\n",
              "          const docLink = document.createElement('div');\n",
              "          docLink.innerHTML = docLinkHtml;\n",
              "          element.appendChild(docLink);\n",
              "        }\n",
              "      </script>\n",
              "    </div>\n",
              "  </div>\n",
              "  "
            ]
          },
          "metadata": {},
          "execution_count": 6
        }
      ],
      "source": [
        "print(marketing_events.info())\n",
        "marketing_events"
      ]
    },
    {
      "cell_type": "markdown",
      "metadata": {
        "id": "W5GPF0gL5KoL"
      },
      "source": [
        "Здесь все хорошо, только приведем даты к нужному типу данных."
      ]
    },
    {
      "cell_type": "code",
      "execution_count": 7,
      "metadata": {
        "colab": {
          "base_uri": "https://localhost:8080/",
          "height": 685
        },
        "id": "Cpb3v6V64zyf",
        "outputId": "b90d7b47-a2ee-4f04-e20d-f946b1197e17"
      },
      "outputs": [
        {
          "output_type": "stream",
          "name": "stdout",
          "text": [
            "<class 'pandas.core.frame.DataFrame'>\n",
            "RangeIndex: 14 entries, 0 to 13\n",
            "Data columns (total 4 columns):\n",
            " #   Column     Non-Null Count  Dtype         \n",
            "---  ------     --------------  -----         \n",
            " 0   name       14 non-null     object        \n",
            " 1   regions    14 non-null     object        \n",
            " 2   start_dt   14 non-null     datetime64[ns]\n",
            " 3   finish_dt  14 non-null     datetime64[ns]\n",
            "dtypes: datetime64[ns](2), object(2)\n",
            "memory usage: 576.0+ bytes\n"
          ]
        },
        {
          "output_type": "execute_result",
          "data": {
            "text/plain": [
              "                                name                   regions   start_dt  \\\n",
              "0           Christmas&New Year Promo             EU, N.America 2020-12-25   \n",
              "1       St. Valentine's Day Giveaway  EU, CIS, APAC, N.America 2020-02-14   \n",
              "2             St. Patric's Day Promo             EU, N.America 2020-03-17   \n",
              "3                       Easter Promo  EU, CIS, APAC, N.America 2020-04-12   \n",
              "4                  4th of July Promo                 N.America 2020-07-04   \n",
              "5          Black Friday Ads Campaign  EU, CIS, APAC, N.America 2020-11-26   \n",
              "6             Chinese New Year Promo                      APAC 2020-01-25   \n",
              "7   Labor day (May 1st) Ads Campaign             EU, CIS, APAC 2020-05-01   \n",
              "8    International Women's Day Promo             EU, CIS, APAC 2020-03-08   \n",
              "9    Victory Day CIS (May 9th) Event                       CIS 2020-05-09   \n",
              "10         CIS New Year Gift Lottery                       CIS 2020-12-30   \n",
              "11     Dragon Boat Festival Giveaway                      APAC 2020-06-25   \n",
              "12           Single's Day Gift Promo                      APAC 2020-11-11   \n",
              "13             Chinese Moon Festival                      APAC 2020-10-01   \n",
              "\n",
              "    finish_dt  \n",
              "0  2021-01-03  \n",
              "1  2020-02-16  \n",
              "2  2020-03-19  \n",
              "3  2020-04-19  \n",
              "4  2020-07-11  \n",
              "5  2020-12-01  \n",
              "6  2020-02-07  \n",
              "7  2020-05-03  \n",
              "8  2020-03-10  \n",
              "9  2020-05-11  \n",
              "10 2021-01-07  \n",
              "11 2020-07-01  \n",
              "12 2020-11-12  \n",
              "13 2020-10-07  "
            ],
            "text/html": [
              "\n",
              "  <div id=\"df-0b7f2d99-c24c-4095-8623-bc0fd025d8d5\">\n",
              "    <div class=\"colab-df-container\">\n",
              "      <div>\n",
              "<style scoped>\n",
              "    .dataframe tbody tr th:only-of-type {\n",
              "        vertical-align: middle;\n",
              "    }\n",
              "\n",
              "    .dataframe tbody tr th {\n",
              "        vertical-align: top;\n",
              "    }\n",
              "\n",
              "    .dataframe thead th {\n",
              "        text-align: right;\n",
              "    }\n",
              "</style>\n",
              "<table border=\"1\" class=\"dataframe\">\n",
              "  <thead>\n",
              "    <tr style=\"text-align: right;\">\n",
              "      <th></th>\n",
              "      <th>name</th>\n",
              "      <th>regions</th>\n",
              "      <th>start_dt</th>\n",
              "      <th>finish_dt</th>\n",
              "    </tr>\n",
              "  </thead>\n",
              "  <tbody>\n",
              "    <tr>\n",
              "      <th>0</th>\n",
              "      <td>Christmas&amp;New Year Promo</td>\n",
              "      <td>EU, N.America</td>\n",
              "      <td>2020-12-25</td>\n",
              "      <td>2021-01-03</td>\n",
              "    </tr>\n",
              "    <tr>\n",
              "      <th>1</th>\n",
              "      <td>St. Valentine's Day Giveaway</td>\n",
              "      <td>EU, CIS, APAC, N.America</td>\n",
              "      <td>2020-02-14</td>\n",
              "      <td>2020-02-16</td>\n",
              "    </tr>\n",
              "    <tr>\n",
              "      <th>2</th>\n",
              "      <td>St. Patric's Day Promo</td>\n",
              "      <td>EU, N.America</td>\n",
              "      <td>2020-03-17</td>\n",
              "      <td>2020-03-19</td>\n",
              "    </tr>\n",
              "    <tr>\n",
              "      <th>3</th>\n",
              "      <td>Easter Promo</td>\n",
              "      <td>EU, CIS, APAC, N.America</td>\n",
              "      <td>2020-04-12</td>\n",
              "      <td>2020-04-19</td>\n",
              "    </tr>\n",
              "    <tr>\n",
              "      <th>4</th>\n",
              "      <td>4th of July Promo</td>\n",
              "      <td>N.America</td>\n",
              "      <td>2020-07-04</td>\n",
              "      <td>2020-07-11</td>\n",
              "    </tr>\n",
              "    <tr>\n",
              "      <th>5</th>\n",
              "      <td>Black Friday Ads Campaign</td>\n",
              "      <td>EU, CIS, APAC, N.America</td>\n",
              "      <td>2020-11-26</td>\n",
              "      <td>2020-12-01</td>\n",
              "    </tr>\n",
              "    <tr>\n",
              "      <th>6</th>\n",
              "      <td>Chinese New Year Promo</td>\n",
              "      <td>APAC</td>\n",
              "      <td>2020-01-25</td>\n",
              "      <td>2020-02-07</td>\n",
              "    </tr>\n",
              "    <tr>\n",
              "      <th>7</th>\n",
              "      <td>Labor day (May 1st) Ads Campaign</td>\n",
              "      <td>EU, CIS, APAC</td>\n",
              "      <td>2020-05-01</td>\n",
              "      <td>2020-05-03</td>\n",
              "    </tr>\n",
              "    <tr>\n",
              "      <th>8</th>\n",
              "      <td>International Women's Day Promo</td>\n",
              "      <td>EU, CIS, APAC</td>\n",
              "      <td>2020-03-08</td>\n",
              "      <td>2020-03-10</td>\n",
              "    </tr>\n",
              "    <tr>\n",
              "      <th>9</th>\n",
              "      <td>Victory Day CIS (May 9th) Event</td>\n",
              "      <td>CIS</td>\n",
              "      <td>2020-05-09</td>\n",
              "      <td>2020-05-11</td>\n",
              "    </tr>\n",
              "    <tr>\n",
              "      <th>10</th>\n",
              "      <td>CIS New Year Gift Lottery</td>\n",
              "      <td>CIS</td>\n",
              "      <td>2020-12-30</td>\n",
              "      <td>2021-01-07</td>\n",
              "    </tr>\n",
              "    <tr>\n",
              "      <th>11</th>\n",
              "      <td>Dragon Boat Festival Giveaway</td>\n",
              "      <td>APAC</td>\n",
              "      <td>2020-06-25</td>\n",
              "      <td>2020-07-01</td>\n",
              "    </tr>\n",
              "    <tr>\n",
              "      <th>12</th>\n",
              "      <td>Single's Day Gift Promo</td>\n",
              "      <td>APAC</td>\n",
              "      <td>2020-11-11</td>\n",
              "      <td>2020-11-12</td>\n",
              "    </tr>\n",
              "    <tr>\n",
              "      <th>13</th>\n",
              "      <td>Chinese Moon Festival</td>\n",
              "      <td>APAC</td>\n",
              "      <td>2020-10-01</td>\n",
              "      <td>2020-10-07</td>\n",
              "    </tr>\n",
              "  </tbody>\n",
              "</table>\n",
              "</div>\n",
              "      <button class=\"colab-df-convert\" onclick=\"convertToInteractive('df-0b7f2d99-c24c-4095-8623-bc0fd025d8d5')\"\n",
              "              title=\"Convert this dataframe to an interactive table.\"\n",
              "              style=\"display:none;\">\n",
              "        \n",
              "  <svg xmlns=\"http://www.w3.org/2000/svg\" height=\"24px\"viewBox=\"0 0 24 24\"\n",
              "       width=\"24px\">\n",
              "    <path d=\"M0 0h24v24H0V0z\" fill=\"none\"/>\n",
              "    <path d=\"M18.56 5.44l.94 2.06.94-2.06 2.06-.94-2.06-.94-.94-2.06-.94 2.06-2.06.94zm-11 1L8.5 8.5l.94-2.06 2.06-.94-2.06-.94L8.5 2.5l-.94 2.06-2.06.94zm10 10l.94 2.06.94-2.06 2.06-.94-2.06-.94-.94-2.06-.94 2.06-2.06.94z\"/><path d=\"M17.41 7.96l-1.37-1.37c-.4-.4-.92-.59-1.43-.59-.52 0-1.04.2-1.43.59L10.3 9.45l-7.72 7.72c-.78.78-.78 2.05 0 2.83L4 21.41c.39.39.9.59 1.41.59.51 0 1.02-.2 1.41-.59l7.78-7.78 2.81-2.81c.8-.78.8-2.07 0-2.86zM5.41 20L4 18.59l7.72-7.72 1.47 1.35L5.41 20z\"/>\n",
              "  </svg>\n",
              "      </button>\n",
              "      \n",
              "  <style>\n",
              "    .colab-df-container {\n",
              "      display:flex;\n",
              "      flex-wrap:wrap;\n",
              "      gap: 12px;\n",
              "    }\n",
              "\n",
              "    .colab-df-convert {\n",
              "      background-color: #E8F0FE;\n",
              "      border: none;\n",
              "      border-radius: 50%;\n",
              "      cursor: pointer;\n",
              "      display: none;\n",
              "      fill: #1967D2;\n",
              "      height: 32px;\n",
              "      padding: 0 0 0 0;\n",
              "      width: 32px;\n",
              "    }\n",
              "\n",
              "    .colab-df-convert:hover {\n",
              "      background-color: #E2EBFA;\n",
              "      box-shadow: 0px 1px 2px rgba(60, 64, 67, 0.3), 0px 1px 3px 1px rgba(60, 64, 67, 0.15);\n",
              "      fill: #174EA6;\n",
              "    }\n",
              "\n",
              "    [theme=dark] .colab-df-convert {\n",
              "      background-color: #3B4455;\n",
              "      fill: #D2E3FC;\n",
              "    }\n",
              "\n",
              "    [theme=dark] .colab-df-convert:hover {\n",
              "      background-color: #434B5C;\n",
              "      box-shadow: 0px 1px 3px 1px rgba(0, 0, 0, 0.15);\n",
              "      filter: drop-shadow(0px 1px 2px rgba(0, 0, 0, 0.3));\n",
              "      fill: #FFFFFF;\n",
              "    }\n",
              "  </style>\n",
              "\n",
              "      <script>\n",
              "        const buttonEl =\n",
              "          document.querySelector('#df-0b7f2d99-c24c-4095-8623-bc0fd025d8d5 button.colab-df-convert');\n",
              "        buttonEl.style.display =\n",
              "          google.colab.kernel.accessAllowed ? 'block' : 'none';\n",
              "\n",
              "        async function convertToInteractive(key) {\n",
              "          const element = document.querySelector('#df-0b7f2d99-c24c-4095-8623-bc0fd025d8d5');\n",
              "          const dataTable =\n",
              "            await google.colab.kernel.invokeFunction('convertToInteractive',\n",
              "                                                     [key], {});\n",
              "          if (!dataTable) return;\n",
              "\n",
              "          const docLinkHtml = 'Like what you see? Visit the ' +\n",
              "            '<a target=\"_blank\" href=https://colab.research.google.com/notebooks/data_table.ipynb>data table notebook</a>'\n",
              "            + ' to learn more about interactive tables.';\n",
              "          element.innerHTML = '';\n",
              "          dataTable['output_type'] = 'display_data';\n",
              "          await google.colab.output.renderOutput(dataTable, element);\n",
              "          const docLink = document.createElement('div');\n",
              "          docLink.innerHTML = docLinkHtml;\n",
              "          element.appendChild(docLink);\n",
              "        }\n",
              "      </script>\n",
              "    </div>\n",
              "  </div>\n",
              "  "
            ]
          },
          "metadata": {},
          "execution_count": 7
        }
      ],
      "source": [
        "marketing_events['start_dt'] = pd.to_datetime(marketing_events['start_dt'])\n",
        "marketing_events['finish_dt'] = pd.to_datetime(marketing_events['finish_dt'])\n",
        "\n",
        "marketing_events.info()\n",
        "marketing_events"
      ]
    },
    {
      "cell_type": "markdown",
      "metadata": {
        "id": "qr8FVs-E5jtK"
      },
      "source": [
        "Теперь можно двигаться дальше."
      ]
    },
    {
      "cell_type": "markdown",
      "metadata": {
        "id": "IuZ6jbX-5ngY"
      },
      "source": [
        "### Новые пользователи"
      ]
    },
    {
      "cell_type": "code",
      "execution_count": 8,
      "metadata": {
        "colab": {
          "base_uri": "https://localhost:8080/",
          "height": 599
        },
        "id": "f8wPMTzp5nCy",
        "outputId": "1304a887-0fa6-43eb-e737-4ee0bc5b518c"
      },
      "outputs": [
        {
          "output_type": "stream",
          "name": "stdout",
          "text": [
            "\n",
            "Первые 5 строк данных:\n"
          ]
        },
        {
          "output_type": "display_data",
          "data": {
            "text/plain": [
              "            user_id  first_date     region   device\n",
              "0  D72A72121175D8BE  2020-12-07         EU       PC\n",
              "1  F1C668619DFE6E65  2020-12-07  N.America  Android\n",
              "2  2E1BF1D4C37EA01F  2020-12-07         EU       PC\n",
              "3  50734A22C0C63768  2020-12-07         EU   iPhone\n",
              "4  E1BDDCE0DAFA2679  2020-12-07  N.America   iPhone"
            ],
            "text/html": [
              "\n",
              "  <div id=\"df-51641dcc-fc74-462d-b4f9-f30766dde015\">\n",
              "    <div class=\"colab-df-container\">\n",
              "      <div>\n",
              "<style scoped>\n",
              "    .dataframe tbody tr th:only-of-type {\n",
              "        vertical-align: middle;\n",
              "    }\n",
              "\n",
              "    .dataframe tbody tr th {\n",
              "        vertical-align: top;\n",
              "    }\n",
              "\n",
              "    .dataframe thead th {\n",
              "        text-align: right;\n",
              "    }\n",
              "</style>\n",
              "<table border=\"1\" class=\"dataframe\">\n",
              "  <thead>\n",
              "    <tr style=\"text-align: right;\">\n",
              "      <th></th>\n",
              "      <th>user_id</th>\n",
              "      <th>first_date</th>\n",
              "      <th>region</th>\n",
              "      <th>device</th>\n",
              "    </tr>\n",
              "  </thead>\n",
              "  <tbody>\n",
              "    <tr>\n",
              "      <th>0</th>\n",
              "      <td>D72A72121175D8BE</td>\n",
              "      <td>2020-12-07</td>\n",
              "      <td>EU</td>\n",
              "      <td>PC</td>\n",
              "    </tr>\n",
              "    <tr>\n",
              "      <th>1</th>\n",
              "      <td>F1C668619DFE6E65</td>\n",
              "      <td>2020-12-07</td>\n",
              "      <td>N.America</td>\n",
              "      <td>Android</td>\n",
              "    </tr>\n",
              "    <tr>\n",
              "      <th>2</th>\n",
              "      <td>2E1BF1D4C37EA01F</td>\n",
              "      <td>2020-12-07</td>\n",
              "      <td>EU</td>\n",
              "      <td>PC</td>\n",
              "    </tr>\n",
              "    <tr>\n",
              "      <th>3</th>\n",
              "      <td>50734A22C0C63768</td>\n",
              "      <td>2020-12-07</td>\n",
              "      <td>EU</td>\n",
              "      <td>iPhone</td>\n",
              "    </tr>\n",
              "    <tr>\n",
              "      <th>4</th>\n",
              "      <td>E1BDDCE0DAFA2679</td>\n",
              "      <td>2020-12-07</td>\n",
              "      <td>N.America</td>\n",
              "      <td>iPhone</td>\n",
              "    </tr>\n",
              "  </tbody>\n",
              "</table>\n",
              "</div>\n",
              "      <button class=\"colab-df-convert\" onclick=\"convertToInteractive('df-51641dcc-fc74-462d-b4f9-f30766dde015')\"\n",
              "              title=\"Convert this dataframe to an interactive table.\"\n",
              "              style=\"display:none;\">\n",
              "        \n",
              "  <svg xmlns=\"http://www.w3.org/2000/svg\" height=\"24px\"viewBox=\"0 0 24 24\"\n",
              "       width=\"24px\">\n",
              "    <path d=\"M0 0h24v24H0V0z\" fill=\"none\"/>\n",
              "    <path d=\"M18.56 5.44l.94 2.06.94-2.06 2.06-.94-2.06-.94-.94-2.06-.94 2.06-2.06.94zm-11 1L8.5 8.5l.94-2.06 2.06-.94-2.06-.94L8.5 2.5l-.94 2.06-2.06.94zm10 10l.94 2.06.94-2.06 2.06-.94-2.06-.94-.94-2.06-.94 2.06-2.06.94z\"/><path d=\"M17.41 7.96l-1.37-1.37c-.4-.4-.92-.59-1.43-.59-.52 0-1.04.2-1.43.59L10.3 9.45l-7.72 7.72c-.78.78-.78 2.05 0 2.83L4 21.41c.39.39.9.59 1.41.59.51 0 1.02-.2 1.41-.59l7.78-7.78 2.81-2.81c.8-.78.8-2.07 0-2.86zM5.41 20L4 18.59l7.72-7.72 1.47 1.35L5.41 20z\"/>\n",
              "  </svg>\n",
              "      </button>\n",
              "      \n",
              "  <style>\n",
              "    .colab-df-container {\n",
              "      display:flex;\n",
              "      flex-wrap:wrap;\n",
              "      gap: 12px;\n",
              "    }\n",
              "\n",
              "    .colab-df-convert {\n",
              "      background-color: #E8F0FE;\n",
              "      border: none;\n",
              "      border-radius: 50%;\n",
              "      cursor: pointer;\n",
              "      display: none;\n",
              "      fill: #1967D2;\n",
              "      height: 32px;\n",
              "      padding: 0 0 0 0;\n",
              "      width: 32px;\n",
              "    }\n",
              "\n",
              "    .colab-df-convert:hover {\n",
              "      background-color: #E2EBFA;\n",
              "      box-shadow: 0px 1px 2px rgba(60, 64, 67, 0.3), 0px 1px 3px 1px rgba(60, 64, 67, 0.15);\n",
              "      fill: #174EA6;\n",
              "    }\n",
              "\n",
              "    [theme=dark] .colab-df-convert {\n",
              "      background-color: #3B4455;\n",
              "      fill: #D2E3FC;\n",
              "    }\n",
              "\n",
              "    [theme=dark] .colab-df-convert:hover {\n",
              "      background-color: #434B5C;\n",
              "      box-shadow: 0px 1px 3px 1px rgba(0, 0, 0, 0.15);\n",
              "      filter: drop-shadow(0px 1px 2px rgba(0, 0, 0, 0.3));\n",
              "      fill: #FFFFFF;\n",
              "    }\n",
              "  </style>\n",
              "\n",
              "      <script>\n",
              "        const buttonEl =\n",
              "          document.querySelector('#df-51641dcc-fc74-462d-b4f9-f30766dde015 button.colab-df-convert');\n",
              "        buttonEl.style.display =\n",
              "          google.colab.kernel.accessAllowed ? 'block' : 'none';\n",
              "\n",
              "        async function convertToInteractive(key) {\n",
              "          const element = document.querySelector('#df-51641dcc-fc74-462d-b4f9-f30766dde015');\n",
              "          const dataTable =\n",
              "            await google.colab.kernel.invokeFunction('convertToInteractive',\n",
              "                                                     [key], {});\n",
              "          if (!dataTable) return;\n",
              "\n",
              "          const docLinkHtml = 'Like what you see? Visit the ' +\n",
              "            '<a target=\"_blank\" href=https://colab.research.google.com/notebooks/data_table.ipynb>data table notebook</a>'\n",
              "            + ' to learn more about interactive tables.';\n",
              "          element.innerHTML = '';\n",
              "          dataTable['output_type'] = 'display_data';\n",
              "          await google.colab.output.renderOutput(dataTable, element);\n",
              "          const docLink = document.createElement('div');\n",
              "          docLink.innerHTML = docLinkHtml;\n",
              "          element.appendChild(docLink);\n",
              "        }\n",
              "      </script>\n",
              "    </div>\n",
              "  </div>\n",
              "  "
            ]
          },
          "metadata": {}
        },
        {
          "output_type": "stream",
          "name": "stdout",
          "text": [
            "\n",
            "\n",
            "Общая информация о данных:\n",
            "\n",
            "<class 'pandas.core.frame.DataFrame'>\n",
            "RangeIndex: 61733 entries, 0 to 61732\n",
            "Data columns (total 4 columns):\n",
            " #   Column      Non-Null Count  Dtype \n",
            "---  ------      --------------  ----- \n",
            " 0   user_id     61733 non-null  object\n",
            " 1   first_date  61733 non-null  object\n",
            " 2   region      61733 non-null  object\n",
            " 3   device      61733 non-null  object\n",
            "dtypes: object(4)\n",
            "memory usage: 1.9+ MB\n",
            "None\n",
            "\n",
            "\n",
            "Количество полных строк-дубликатов = 0,\n",
            "что составляет 0.000% датафрейма\n"
          ]
        }
      ],
      "source": [
        "first_impression(new_users)"
      ]
    },
    {
      "cell_type": "markdown",
      "metadata": {
        "id": "wntbZDyx6SUA"
      },
      "source": [
        "Данные полные, нужно только привести дату к нужному типу."
      ]
    },
    {
      "cell_type": "code",
      "execution_count": 9,
      "metadata": {
        "colab": {
          "base_uri": "https://localhost:8080/"
        },
        "id": "yl28E5b96MPV",
        "outputId": "6b9d640f-ab03-45d3-8c84-e45628e0ec7c"
      },
      "outputs": [
        {
          "output_type": "stream",
          "name": "stdout",
          "text": [
            "<class 'pandas.core.frame.DataFrame'>\n",
            "RangeIndex: 61733 entries, 0 to 61732\n",
            "Data columns (total 4 columns):\n",
            " #   Column      Non-Null Count  Dtype         \n",
            "---  ------      --------------  -----         \n",
            " 0   user_id     61733 non-null  object        \n",
            " 1   first_date  61733 non-null  datetime64[ns]\n",
            " 2   region      61733 non-null  object        \n",
            " 3   device      61733 non-null  object        \n",
            "dtypes: datetime64[ns](1), object(3)\n",
            "memory usage: 1.9+ MB\n"
          ]
        }
      ],
      "source": [
        "new_users['first_date'] = pd.to_datetime(new_users['first_date'])\n",
        "new_users.info()"
      ]
    },
    {
      "cell_type": "markdown",
      "metadata": {
        "id": "POPXgVDX6hDz"
      },
      "source": [
        "Можем двигаться дальше."
      ]
    },
    {
      "cell_type": "markdown",
      "metadata": {
        "id": "21rtA1lA6kFW"
      },
      "source": [
        "### События"
      ]
    },
    {
      "cell_type": "code",
      "execution_count": 10,
      "metadata": {
        "colab": {
          "base_uri": "https://localhost:8080/",
          "height": 599
        },
        "id": "BLWdgHzs6gOW",
        "outputId": "130e69ac-abd9-4e13-e61d-1e5f2333f6f0"
      },
      "outputs": [
        {
          "output_type": "stream",
          "name": "stdout",
          "text": [
            "\n",
            "Первые 5 строк данных:\n"
          ]
        },
        {
          "output_type": "display_data",
          "data": {
            "text/plain": [
              "            user_id             event_dt event_name  details\n",
              "0  E1BDDCE0DAFA2679  2020-12-07 20:22:03   purchase    99.99\n",
              "1  7B6452F081F49504  2020-12-07 09:22:53   purchase     9.99\n",
              "2  9CD9F34546DF254C  2020-12-07 12:59:29   purchase     4.99\n",
              "3  96F27A054B191457  2020-12-07 04:02:40   purchase     4.99\n",
              "4  1FD7660FDF94CA1F  2020-12-07 10:15:09   purchase     4.99"
            ],
            "text/html": [
              "\n",
              "  <div id=\"df-dbe4ef9f-037a-48b1-811e-ffadf652845a\">\n",
              "    <div class=\"colab-df-container\">\n",
              "      <div>\n",
              "<style scoped>\n",
              "    .dataframe tbody tr th:only-of-type {\n",
              "        vertical-align: middle;\n",
              "    }\n",
              "\n",
              "    .dataframe tbody tr th {\n",
              "        vertical-align: top;\n",
              "    }\n",
              "\n",
              "    .dataframe thead th {\n",
              "        text-align: right;\n",
              "    }\n",
              "</style>\n",
              "<table border=\"1\" class=\"dataframe\">\n",
              "  <thead>\n",
              "    <tr style=\"text-align: right;\">\n",
              "      <th></th>\n",
              "      <th>user_id</th>\n",
              "      <th>event_dt</th>\n",
              "      <th>event_name</th>\n",
              "      <th>details</th>\n",
              "    </tr>\n",
              "  </thead>\n",
              "  <tbody>\n",
              "    <tr>\n",
              "      <th>0</th>\n",
              "      <td>E1BDDCE0DAFA2679</td>\n",
              "      <td>2020-12-07 20:22:03</td>\n",
              "      <td>purchase</td>\n",
              "      <td>99.99</td>\n",
              "    </tr>\n",
              "    <tr>\n",
              "      <th>1</th>\n",
              "      <td>7B6452F081F49504</td>\n",
              "      <td>2020-12-07 09:22:53</td>\n",
              "      <td>purchase</td>\n",
              "      <td>9.99</td>\n",
              "    </tr>\n",
              "    <tr>\n",
              "      <th>2</th>\n",
              "      <td>9CD9F34546DF254C</td>\n",
              "      <td>2020-12-07 12:59:29</td>\n",
              "      <td>purchase</td>\n",
              "      <td>4.99</td>\n",
              "    </tr>\n",
              "    <tr>\n",
              "      <th>3</th>\n",
              "      <td>96F27A054B191457</td>\n",
              "      <td>2020-12-07 04:02:40</td>\n",
              "      <td>purchase</td>\n",
              "      <td>4.99</td>\n",
              "    </tr>\n",
              "    <tr>\n",
              "      <th>4</th>\n",
              "      <td>1FD7660FDF94CA1F</td>\n",
              "      <td>2020-12-07 10:15:09</td>\n",
              "      <td>purchase</td>\n",
              "      <td>4.99</td>\n",
              "    </tr>\n",
              "  </tbody>\n",
              "</table>\n",
              "</div>\n",
              "      <button class=\"colab-df-convert\" onclick=\"convertToInteractive('df-dbe4ef9f-037a-48b1-811e-ffadf652845a')\"\n",
              "              title=\"Convert this dataframe to an interactive table.\"\n",
              "              style=\"display:none;\">\n",
              "        \n",
              "  <svg xmlns=\"http://www.w3.org/2000/svg\" height=\"24px\"viewBox=\"0 0 24 24\"\n",
              "       width=\"24px\">\n",
              "    <path d=\"M0 0h24v24H0V0z\" fill=\"none\"/>\n",
              "    <path d=\"M18.56 5.44l.94 2.06.94-2.06 2.06-.94-2.06-.94-.94-2.06-.94 2.06-2.06.94zm-11 1L8.5 8.5l.94-2.06 2.06-.94-2.06-.94L8.5 2.5l-.94 2.06-2.06.94zm10 10l.94 2.06.94-2.06 2.06-.94-2.06-.94-.94-2.06-.94 2.06-2.06.94z\"/><path d=\"M17.41 7.96l-1.37-1.37c-.4-.4-.92-.59-1.43-.59-.52 0-1.04.2-1.43.59L10.3 9.45l-7.72 7.72c-.78.78-.78 2.05 0 2.83L4 21.41c.39.39.9.59 1.41.59.51 0 1.02-.2 1.41-.59l7.78-7.78 2.81-2.81c.8-.78.8-2.07 0-2.86zM5.41 20L4 18.59l7.72-7.72 1.47 1.35L5.41 20z\"/>\n",
              "  </svg>\n",
              "      </button>\n",
              "      \n",
              "  <style>\n",
              "    .colab-df-container {\n",
              "      display:flex;\n",
              "      flex-wrap:wrap;\n",
              "      gap: 12px;\n",
              "    }\n",
              "\n",
              "    .colab-df-convert {\n",
              "      background-color: #E8F0FE;\n",
              "      border: none;\n",
              "      border-radius: 50%;\n",
              "      cursor: pointer;\n",
              "      display: none;\n",
              "      fill: #1967D2;\n",
              "      height: 32px;\n",
              "      padding: 0 0 0 0;\n",
              "      width: 32px;\n",
              "    }\n",
              "\n",
              "    .colab-df-convert:hover {\n",
              "      background-color: #E2EBFA;\n",
              "      box-shadow: 0px 1px 2px rgba(60, 64, 67, 0.3), 0px 1px 3px 1px rgba(60, 64, 67, 0.15);\n",
              "      fill: #174EA6;\n",
              "    }\n",
              "\n",
              "    [theme=dark] .colab-df-convert {\n",
              "      background-color: #3B4455;\n",
              "      fill: #D2E3FC;\n",
              "    }\n",
              "\n",
              "    [theme=dark] .colab-df-convert:hover {\n",
              "      background-color: #434B5C;\n",
              "      box-shadow: 0px 1px 3px 1px rgba(0, 0, 0, 0.15);\n",
              "      filter: drop-shadow(0px 1px 2px rgba(0, 0, 0, 0.3));\n",
              "      fill: #FFFFFF;\n",
              "    }\n",
              "  </style>\n",
              "\n",
              "      <script>\n",
              "        const buttonEl =\n",
              "          document.querySelector('#df-dbe4ef9f-037a-48b1-811e-ffadf652845a button.colab-df-convert');\n",
              "        buttonEl.style.display =\n",
              "          google.colab.kernel.accessAllowed ? 'block' : 'none';\n",
              "\n",
              "        async function convertToInteractive(key) {\n",
              "          const element = document.querySelector('#df-dbe4ef9f-037a-48b1-811e-ffadf652845a');\n",
              "          const dataTable =\n",
              "            await google.colab.kernel.invokeFunction('convertToInteractive',\n",
              "                                                     [key], {});\n",
              "          if (!dataTable) return;\n",
              "\n",
              "          const docLinkHtml = 'Like what you see? Visit the ' +\n",
              "            '<a target=\"_blank\" href=https://colab.research.google.com/notebooks/data_table.ipynb>data table notebook</a>'\n",
              "            + ' to learn more about interactive tables.';\n",
              "          element.innerHTML = '';\n",
              "          dataTable['output_type'] = 'display_data';\n",
              "          await google.colab.output.renderOutput(dataTable, element);\n",
              "          const docLink = document.createElement('div');\n",
              "          docLink.innerHTML = docLinkHtml;\n",
              "          element.appendChild(docLink);\n",
              "        }\n",
              "      </script>\n",
              "    </div>\n",
              "  </div>\n",
              "  "
            ]
          },
          "metadata": {}
        },
        {
          "output_type": "stream",
          "name": "stdout",
          "text": [
            "\n",
            "\n",
            "Общая информация о данных:\n",
            "\n",
            "<class 'pandas.core.frame.DataFrame'>\n",
            "RangeIndex: 440317 entries, 0 to 440316\n",
            "Data columns (total 4 columns):\n",
            " #   Column      Non-Null Count   Dtype  \n",
            "---  ------      --------------   -----  \n",
            " 0   user_id     440317 non-null  object \n",
            " 1   event_dt    440317 non-null  object \n",
            " 2   event_name  440317 non-null  object \n",
            " 3   details     62740 non-null   float64\n",
            "dtypes: float64(1), object(3)\n",
            "memory usage: 13.4+ MB\n",
            "None\n",
            "\n",
            "\n",
            "Количество полных строк-дубликатов = 0,\n",
            "что составляет 0.000% датафрейма\n"
          ]
        }
      ],
      "source": [
        "first_impression(events)"
      ]
    },
    {
      "cell_type": "markdown",
      "metadata": {
        "id": "pYXtdUkd69F9"
      },
      "source": [
        "Пропуски есть только в столбце `details`, что совершенно нормально, так как не для всех событий есть описание, для покупок там хранится цена, остальные действия пусты. Пропуски в этом столбце нормальны.\n",
        "\n",
        " Приведем дату к нужному типу, в остальном все в порядке."
      ]
    },
    {
      "cell_type": "code",
      "execution_count": 11,
      "metadata": {
        "colab": {
          "base_uri": "https://localhost:8080/",
          "height": 403
        },
        "id": "A4KJybxD6r8n",
        "outputId": "7f6eeed0-64db-4b5e-fb56-57e0d6fe536b"
      },
      "outputs": [
        {
          "output_type": "stream",
          "name": "stdout",
          "text": [
            "<class 'pandas.core.frame.DataFrame'>\n",
            "RangeIndex: 440317 entries, 0 to 440316\n",
            "Data columns (total 4 columns):\n",
            " #   Column      Non-Null Count   Dtype         \n",
            "---  ------      --------------   -----         \n",
            " 0   user_id     440317 non-null  object        \n",
            " 1   event_dt    440317 non-null  datetime64[ns]\n",
            " 2   event_name  440317 non-null  object        \n",
            " 3   details     62740 non-null   float64       \n",
            "dtypes: datetime64[ns](1), float64(1), object(2)\n",
            "memory usage: 13.4+ MB\n"
          ]
        },
        {
          "output_type": "execute_result",
          "data": {
            "text/plain": [
              "            user_id            event_dt event_name  details\n",
              "0  E1BDDCE0DAFA2679 2020-12-07 20:22:03   purchase    99.99\n",
              "1  7B6452F081F49504 2020-12-07 09:22:53   purchase     9.99\n",
              "2  9CD9F34546DF254C 2020-12-07 12:59:29   purchase     4.99\n",
              "3  96F27A054B191457 2020-12-07 04:02:40   purchase     4.99\n",
              "4  1FD7660FDF94CA1F 2020-12-07 10:15:09   purchase     4.99"
            ],
            "text/html": [
              "\n",
              "  <div id=\"df-83e40ca3-8668-49e9-ad0d-8c0d4f81abb9\">\n",
              "    <div class=\"colab-df-container\">\n",
              "      <div>\n",
              "<style scoped>\n",
              "    .dataframe tbody tr th:only-of-type {\n",
              "        vertical-align: middle;\n",
              "    }\n",
              "\n",
              "    .dataframe tbody tr th {\n",
              "        vertical-align: top;\n",
              "    }\n",
              "\n",
              "    .dataframe thead th {\n",
              "        text-align: right;\n",
              "    }\n",
              "</style>\n",
              "<table border=\"1\" class=\"dataframe\">\n",
              "  <thead>\n",
              "    <tr style=\"text-align: right;\">\n",
              "      <th></th>\n",
              "      <th>user_id</th>\n",
              "      <th>event_dt</th>\n",
              "      <th>event_name</th>\n",
              "      <th>details</th>\n",
              "    </tr>\n",
              "  </thead>\n",
              "  <tbody>\n",
              "    <tr>\n",
              "      <th>0</th>\n",
              "      <td>E1BDDCE0DAFA2679</td>\n",
              "      <td>2020-12-07 20:22:03</td>\n",
              "      <td>purchase</td>\n",
              "      <td>99.99</td>\n",
              "    </tr>\n",
              "    <tr>\n",
              "      <th>1</th>\n",
              "      <td>7B6452F081F49504</td>\n",
              "      <td>2020-12-07 09:22:53</td>\n",
              "      <td>purchase</td>\n",
              "      <td>9.99</td>\n",
              "    </tr>\n",
              "    <tr>\n",
              "      <th>2</th>\n",
              "      <td>9CD9F34546DF254C</td>\n",
              "      <td>2020-12-07 12:59:29</td>\n",
              "      <td>purchase</td>\n",
              "      <td>4.99</td>\n",
              "    </tr>\n",
              "    <tr>\n",
              "      <th>3</th>\n",
              "      <td>96F27A054B191457</td>\n",
              "      <td>2020-12-07 04:02:40</td>\n",
              "      <td>purchase</td>\n",
              "      <td>4.99</td>\n",
              "    </tr>\n",
              "    <tr>\n",
              "      <th>4</th>\n",
              "      <td>1FD7660FDF94CA1F</td>\n",
              "      <td>2020-12-07 10:15:09</td>\n",
              "      <td>purchase</td>\n",
              "      <td>4.99</td>\n",
              "    </tr>\n",
              "  </tbody>\n",
              "</table>\n",
              "</div>\n",
              "      <button class=\"colab-df-convert\" onclick=\"convertToInteractive('df-83e40ca3-8668-49e9-ad0d-8c0d4f81abb9')\"\n",
              "              title=\"Convert this dataframe to an interactive table.\"\n",
              "              style=\"display:none;\">\n",
              "        \n",
              "  <svg xmlns=\"http://www.w3.org/2000/svg\" height=\"24px\"viewBox=\"0 0 24 24\"\n",
              "       width=\"24px\">\n",
              "    <path d=\"M0 0h24v24H0V0z\" fill=\"none\"/>\n",
              "    <path d=\"M18.56 5.44l.94 2.06.94-2.06 2.06-.94-2.06-.94-.94-2.06-.94 2.06-2.06.94zm-11 1L8.5 8.5l.94-2.06 2.06-.94-2.06-.94L8.5 2.5l-.94 2.06-2.06.94zm10 10l.94 2.06.94-2.06 2.06-.94-2.06-.94-.94-2.06-.94 2.06-2.06.94z\"/><path d=\"M17.41 7.96l-1.37-1.37c-.4-.4-.92-.59-1.43-.59-.52 0-1.04.2-1.43.59L10.3 9.45l-7.72 7.72c-.78.78-.78 2.05 0 2.83L4 21.41c.39.39.9.59 1.41.59.51 0 1.02-.2 1.41-.59l7.78-7.78 2.81-2.81c.8-.78.8-2.07 0-2.86zM5.41 20L4 18.59l7.72-7.72 1.47 1.35L5.41 20z\"/>\n",
              "  </svg>\n",
              "      </button>\n",
              "      \n",
              "  <style>\n",
              "    .colab-df-container {\n",
              "      display:flex;\n",
              "      flex-wrap:wrap;\n",
              "      gap: 12px;\n",
              "    }\n",
              "\n",
              "    .colab-df-convert {\n",
              "      background-color: #E8F0FE;\n",
              "      border: none;\n",
              "      border-radius: 50%;\n",
              "      cursor: pointer;\n",
              "      display: none;\n",
              "      fill: #1967D2;\n",
              "      height: 32px;\n",
              "      padding: 0 0 0 0;\n",
              "      width: 32px;\n",
              "    }\n",
              "\n",
              "    .colab-df-convert:hover {\n",
              "      background-color: #E2EBFA;\n",
              "      box-shadow: 0px 1px 2px rgba(60, 64, 67, 0.3), 0px 1px 3px 1px rgba(60, 64, 67, 0.15);\n",
              "      fill: #174EA6;\n",
              "    }\n",
              "\n",
              "    [theme=dark] .colab-df-convert {\n",
              "      background-color: #3B4455;\n",
              "      fill: #D2E3FC;\n",
              "    }\n",
              "\n",
              "    [theme=dark] .colab-df-convert:hover {\n",
              "      background-color: #434B5C;\n",
              "      box-shadow: 0px 1px 3px 1px rgba(0, 0, 0, 0.15);\n",
              "      filter: drop-shadow(0px 1px 2px rgba(0, 0, 0, 0.3));\n",
              "      fill: #FFFFFF;\n",
              "    }\n",
              "  </style>\n",
              "\n",
              "      <script>\n",
              "        const buttonEl =\n",
              "          document.querySelector('#df-83e40ca3-8668-49e9-ad0d-8c0d4f81abb9 button.colab-df-convert');\n",
              "        buttonEl.style.display =\n",
              "          google.colab.kernel.accessAllowed ? 'block' : 'none';\n",
              "\n",
              "        async function convertToInteractive(key) {\n",
              "          const element = document.querySelector('#df-83e40ca3-8668-49e9-ad0d-8c0d4f81abb9');\n",
              "          const dataTable =\n",
              "            await google.colab.kernel.invokeFunction('convertToInteractive',\n",
              "                                                     [key], {});\n",
              "          if (!dataTable) return;\n",
              "\n",
              "          const docLinkHtml = 'Like what you see? Visit the ' +\n",
              "            '<a target=\"_blank\" href=https://colab.research.google.com/notebooks/data_table.ipynb>data table notebook</a>'\n",
              "            + ' to learn more about interactive tables.';\n",
              "          element.innerHTML = '';\n",
              "          dataTable['output_type'] = 'display_data';\n",
              "          await google.colab.output.renderOutput(dataTable, element);\n",
              "          const docLink = document.createElement('div');\n",
              "          docLink.innerHTML = docLinkHtml;\n",
              "          element.appendChild(docLink);\n",
              "        }\n",
              "      </script>\n",
              "    </div>\n",
              "  </div>\n",
              "  "
            ]
          },
          "metadata": {},
          "execution_count": 11
        }
      ],
      "source": [
        "events['event_dt'] = pd.to_datetime(events['event_dt'])\n",
        "events.info()\n",
        "events.head()"
      ]
    },
    {
      "cell_type": "code",
      "execution_count": 12,
      "metadata": {
        "colab": {
          "base_uri": "https://localhost:8080/"
        },
        "id": "Fu-znCtg7ZVO",
        "outputId": "2d3a6c6d-27d8-4c38-eba4-224047fbe06b"
      },
      "outputs": [
        {
          "output_type": "stream",
          "name": "stdout",
          "text": [
            "<class 'pandas.core.frame.DataFrame'>\n",
            "Int64Index: 62740 entries, 0 to 62739\n",
            "Data columns (total 4 columns):\n",
            " #   Column      Non-Null Count  Dtype         \n",
            "---  ------      --------------  -----         \n",
            " 0   user_id     62740 non-null  object        \n",
            " 1   event_dt    62740 non-null  datetime64[ns]\n",
            " 2   event_name  62740 non-null  object        \n",
            " 3   details     62740 non-null  float64       \n",
            "dtypes: datetime64[ns](1), float64(1), object(2)\n",
            "memory usage: 2.4+ MB\n"
          ]
        }
      ],
      "source": [
        "events.query('event_name == \"purchase\"').info()"
      ]
    },
    {
      "cell_type": "markdown",
      "metadata": {
        "id": "0A7OticK7l0Z"
      },
      "source": [
        "Для покупок все цены на месте. Здесь данные в норме. Двигаемся дальше."
      ]
    },
    {
      "cell_type": "markdown",
      "metadata": {
        "id": "xM1J_TCH7w2V"
      },
      "source": [
        "### Участники"
      ]
    },
    {
      "cell_type": "code",
      "execution_count": 13,
      "metadata": {
        "colab": {
          "base_uri": "https://localhost:8080/",
          "height": 581
        },
        "id": "ndoQBCux73hF",
        "outputId": "f0bb26fb-d1af-420c-fda2-a1218d815264"
      },
      "outputs": [
        {
          "output_type": "stream",
          "name": "stdout",
          "text": [
            "\n",
            "Первые 5 строк данных:\n"
          ]
        },
        {
          "output_type": "display_data",
          "data": {
            "text/plain": [
              "            user_id group                  ab_test\n",
              "0  D1ABA3E2887B6A73     A  recommender_system_test\n",
              "1  A7A3664BD6242119     A  recommender_system_test\n",
              "2  DABC14FDDFADD29E     A  recommender_system_test\n",
              "3  04988C5DF189632E     A  recommender_system_test\n",
              "4  482F14783456D21B     B  recommender_system_test"
            ],
            "text/html": [
              "\n",
              "  <div id=\"df-56796ee5-caff-4384-86e5-1b3fbe7b5f1a\">\n",
              "    <div class=\"colab-df-container\">\n",
              "      <div>\n",
              "<style scoped>\n",
              "    .dataframe tbody tr th:only-of-type {\n",
              "        vertical-align: middle;\n",
              "    }\n",
              "\n",
              "    .dataframe tbody tr th {\n",
              "        vertical-align: top;\n",
              "    }\n",
              "\n",
              "    .dataframe thead th {\n",
              "        text-align: right;\n",
              "    }\n",
              "</style>\n",
              "<table border=\"1\" class=\"dataframe\">\n",
              "  <thead>\n",
              "    <tr style=\"text-align: right;\">\n",
              "      <th></th>\n",
              "      <th>user_id</th>\n",
              "      <th>group</th>\n",
              "      <th>ab_test</th>\n",
              "    </tr>\n",
              "  </thead>\n",
              "  <tbody>\n",
              "    <tr>\n",
              "      <th>0</th>\n",
              "      <td>D1ABA3E2887B6A73</td>\n",
              "      <td>A</td>\n",
              "      <td>recommender_system_test</td>\n",
              "    </tr>\n",
              "    <tr>\n",
              "      <th>1</th>\n",
              "      <td>A7A3664BD6242119</td>\n",
              "      <td>A</td>\n",
              "      <td>recommender_system_test</td>\n",
              "    </tr>\n",
              "    <tr>\n",
              "      <th>2</th>\n",
              "      <td>DABC14FDDFADD29E</td>\n",
              "      <td>A</td>\n",
              "      <td>recommender_system_test</td>\n",
              "    </tr>\n",
              "    <tr>\n",
              "      <th>3</th>\n",
              "      <td>04988C5DF189632E</td>\n",
              "      <td>A</td>\n",
              "      <td>recommender_system_test</td>\n",
              "    </tr>\n",
              "    <tr>\n",
              "      <th>4</th>\n",
              "      <td>482F14783456D21B</td>\n",
              "      <td>B</td>\n",
              "      <td>recommender_system_test</td>\n",
              "    </tr>\n",
              "  </tbody>\n",
              "</table>\n",
              "</div>\n",
              "      <button class=\"colab-df-convert\" onclick=\"convertToInteractive('df-56796ee5-caff-4384-86e5-1b3fbe7b5f1a')\"\n",
              "              title=\"Convert this dataframe to an interactive table.\"\n",
              "              style=\"display:none;\">\n",
              "        \n",
              "  <svg xmlns=\"http://www.w3.org/2000/svg\" height=\"24px\"viewBox=\"0 0 24 24\"\n",
              "       width=\"24px\">\n",
              "    <path d=\"M0 0h24v24H0V0z\" fill=\"none\"/>\n",
              "    <path d=\"M18.56 5.44l.94 2.06.94-2.06 2.06-.94-2.06-.94-.94-2.06-.94 2.06-2.06.94zm-11 1L8.5 8.5l.94-2.06 2.06-.94-2.06-.94L8.5 2.5l-.94 2.06-2.06.94zm10 10l.94 2.06.94-2.06 2.06-.94-2.06-.94-.94-2.06-.94 2.06-2.06.94z\"/><path d=\"M17.41 7.96l-1.37-1.37c-.4-.4-.92-.59-1.43-.59-.52 0-1.04.2-1.43.59L10.3 9.45l-7.72 7.72c-.78.78-.78 2.05 0 2.83L4 21.41c.39.39.9.59 1.41.59.51 0 1.02-.2 1.41-.59l7.78-7.78 2.81-2.81c.8-.78.8-2.07 0-2.86zM5.41 20L4 18.59l7.72-7.72 1.47 1.35L5.41 20z\"/>\n",
              "  </svg>\n",
              "      </button>\n",
              "      \n",
              "  <style>\n",
              "    .colab-df-container {\n",
              "      display:flex;\n",
              "      flex-wrap:wrap;\n",
              "      gap: 12px;\n",
              "    }\n",
              "\n",
              "    .colab-df-convert {\n",
              "      background-color: #E8F0FE;\n",
              "      border: none;\n",
              "      border-radius: 50%;\n",
              "      cursor: pointer;\n",
              "      display: none;\n",
              "      fill: #1967D2;\n",
              "      height: 32px;\n",
              "      padding: 0 0 0 0;\n",
              "      width: 32px;\n",
              "    }\n",
              "\n",
              "    .colab-df-convert:hover {\n",
              "      background-color: #E2EBFA;\n",
              "      box-shadow: 0px 1px 2px rgba(60, 64, 67, 0.3), 0px 1px 3px 1px rgba(60, 64, 67, 0.15);\n",
              "      fill: #174EA6;\n",
              "    }\n",
              "\n",
              "    [theme=dark] .colab-df-convert {\n",
              "      background-color: #3B4455;\n",
              "      fill: #D2E3FC;\n",
              "    }\n",
              "\n",
              "    [theme=dark] .colab-df-convert:hover {\n",
              "      background-color: #434B5C;\n",
              "      box-shadow: 0px 1px 3px 1px rgba(0, 0, 0, 0.15);\n",
              "      filter: drop-shadow(0px 1px 2px rgba(0, 0, 0, 0.3));\n",
              "      fill: #FFFFFF;\n",
              "    }\n",
              "  </style>\n",
              "\n",
              "      <script>\n",
              "        const buttonEl =\n",
              "          document.querySelector('#df-56796ee5-caff-4384-86e5-1b3fbe7b5f1a button.colab-df-convert');\n",
              "        buttonEl.style.display =\n",
              "          google.colab.kernel.accessAllowed ? 'block' : 'none';\n",
              "\n",
              "        async function convertToInteractive(key) {\n",
              "          const element = document.querySelector('#df-56796ee5-caff-4384-86e5-1b3fbe7b5f1a');\n",
              "          const dataTable =\n",
              "            await google.colab.kernel.invokeFunction('convertToInteractive',\n",
              "                                                     [key], {});\n",
              "          if (!dataTable) return;\n",
              "\n",
              "          const docLinkHtml = 'Like what you see? Visit the ' +\n",
              "            '<a target=\"_blank\" href=https://colab.research.google.com/notebooks/data_table.ipynb>data table notebook</a>'\n",
              "            + ' to learn more about interactive tables.';\n",
              "          element.innerHTML = '';\n",
              "          dataTable['output_type'] = 'display_data';\n",
              "          await google.colab.output.renderOutput(dataTable, element);\n",
              "          const docLink = document.createElement('div');\n",
              "          docLink.innerHTML = docLinkHtml;\n",
              "          element.appendChild(docLink);\n",
              "        }\n",
              "      </script>\n",
              "    </div>\n",
              "  </div>\n",
              "  "
            ]
          },
          "metadata": {}
        },
        {
          "output_type": "stream",
          "name": "stdout",
          "text": [
            "\n",
            "\n",
            "Общая информация о данных:\n",
            "\n",
            "<class 'pandas.core.frame.DataFrame'>\n",
            "RangeIndex: 18268 entries, 0 to 18267\n",
            "Data columns (total 3 columns):\n",
            " #   Column   Non-Null Count  Dtype \n",
            "---  ------   --------------  ----- \n",
            " 0   user_id  18268 non-null  object\n",
            " 1   group    18268 non-null  object\n",
            " 2   ab_test  18268 non-null  object\n",
            "dtypes: object(3)\n",
            "memory usage: 428.3+ KB\n",
            "None\n",
            "\n",
            "\n",
            "Количество полных строк-дубликатов = 0,\n",
            "что составляет 0.000% датафрейма\n"
          ]
        }
      ],
      "source": [
        "first_impression(participants)"
      ]
    },
    {
      "cell_type": "markdown",
      "metadata": {
        "id": "p59UFVJh7-_l"
      },
      "source": [
        "Здесь все в норме. Идем дальше."
      ]
    },
    {
      "cell_type": "markdown",
      "metadata": {
        "id": "uYx7jtN_8Dgo"
      },
      "source": [
        "## Оценка корректности проведения теста"
      ]
    },
    {
      "cell_type": "markdown",
      "metadata": {
        "id": "9fzV8wsh8NmO"
      },
      "source": [
        "### Соответствие данных требованиям технического задания\n",
        "\n",
        "\n",
        "\n",
        "\n",
        "**Техническое задание**\n",
        "\n",
        "- Название теста: `recommender_system_test`;\n",
        "- группы: А — контрольная, B — новая платёжная воронка;\n",
        "- дата запуска: `2020-12-07`;\n",
        "- дата остановки набора новых пользователей: `2020-12-21`;\n",
        "- дата остановки: `2021-01-04`;\n",
        "- аудитория: 15% новых пользователей из региона EU;\n",
        "- назначение теста: тестирование изменений, связанных с внедрением улучшенной рекомендательной системы;\n",
        "- ожидаемое количество участников теста: 6000.\n",
        "- ожидаемый эффект: за 14 дней с момента регистрации пользователи покажут улучшение каждой метрики не менее, чем на 10%:\n",
        "    - конверсии в просмотр карточек товаров — событие `product_page`,\n",
        "    - просмотры корзины — `product_cart`,\n",
        "    - покупки — `purchase`."
      ]
    },
    {
      "cell_type": "code",
      "execution_count": 14,
      "metadata": {
        "colab": {
          "base_uri": "https://localhost:8080/",
          "height": 424
        },
        "id": "Gix6VMwB8NAG",
        "outputId": "ecf4cb81-6787-4bad-9508-a008c39e8ec8"
      },
      "outputs": [
        {
          "output_type": "execute_result",
          "data": {
            "text/plain": [
              "                user_id group                  ab_test first_date region  \\\n",
              "0      D1ABA3E2887B6A73     A  recommender_system_test 2020-12-07     EU   \n",
              "1      A7A3664BD6242119     A  recommender_system_test 2020-12-20     EU   \n",
              "2      DABC14FDDFADD29E     A  recommender_system_test 2020-12-08     EU   \n",
              "3      04988C5DF189632E     A  recommender_system_test 2020-12-14     EU   \n",
              "4      482F14783456D21B     B  recommender_system_test 2020-12-14     EU   \n",
              "...                 ...   ...                      ...        ...    ...   \n",
              "18263  1D302F8688B91781     B        interface_eu_test 2020-12-15     EU   \n",
              "18264  3DE51B726983B657     A        interface_eu_test 2020-12-07     EU   \n",
              "18265  F501F79D332BE86C     A        interface_eu_test 2020-12-17     EU   \n",
              "18266  63FBE257B05F2245     A        interface_eu_test 2020-12-20     EU   \n",
              "18267  79F9ABFB029CF724     B        interface_eu_test 2020-12-14     EU   \n",
              "\n",
              "        device  \n",
              "0           PC  \n",
              "1       iPhone  \n",
              "2          Mac  \n",
              "3       iPhone  \n",
              "4           PC  \n",
              "...        ...  \n",
              "18263       PC  \n",
              "18264  Android  \n",
              "18265      Mac  \n",
              "18266  Android  \n",
              "18267       PC  \n",
              "\n",
              "[18268 rows x 6 columns]"
            ],
            "text/html": [
              "\n",
              "  <div id=\"df-2f98b146-3bf5-40b3-a976-caedaa664ca2\">\n",
              "    <div class=\"colab-df-container\">\n",
              "      <div>\n",
              "<style scoped>\n",
              "    .dataframe tbody tr th:only-of-type {\n",
              "        vertical-align: middle;\n",
              "    }\n",
              "\n",
              "    .dataframe tbody tr th {\n",
              "        vertical-align: top;\n",
              "    }\n",
              "\n",
              "    .dataframe thead th {\n",
              "        text-align: right;\n",
              "    }\n",
              "</style>\n",
              "<table border=\"1\" class=\"dataframe\">\n",
              "  <thead>\n",
              "    <tr style=\"text-align: right;\">\n",
              "      <th></th>\n",
              "      <th>user_id</th>\n",
              "      <th>group</th>\n",
              "      <th>ab_test</th>\n",
              "      <th>first_date</th>\n",
              "      <th>region</th>\n",
              "      <th>device</th>\n",
              "    </tr>\n",
              "  </thead>\n",
              "  <tbody>\n",
              "    <tr>\n",
              "      <th>0</th>\n",
              "      <td>D1ABA3E2887B6A73</td>\n",
              "      <td>A</td>\n",
              "      <td>recommender_system_test</td>\n",
              "      <td>2020-12-07</td>\n",
              "      <td>EU</td>\n",
              "      <td>PC</td>\n",
              "    </tr>\n",
              "    <tr>\n",
              "      <th>1</th>\n",
              "      <td>A7A3664BD6242119</td>\n",
              "      <td>A</td>\n",
              "      <td>recommender_system_test</td>\n",
              "      <td>2020-12-20</td>\n",
              "      <td>EU</td>\n",
              "      <td>iPhone</td>\n",
              "    </tr>\n",
              "    <tr>\n",
              "      <th>2</th>\n",
              "      <td>DABC14FDDFADD29E</td>\n",
              "      <td>A</td>\n",
              "      <td>recommender_system_test</td>\n",
              "      <td>2020-12-08</td>\n",
              "      <td>EU</td>\n",
              "      <td>Mac</td>\n",
              "    </tr>\n",
              "    <tr>\n",
              "      <th>3</th>\n",
              "      <td>04988C5DF189632E</td>\n",
              "      <td>A</td>\n",
              "      <td>recommender_system_test</td>\n",
              "      <td>2020-12-14</td>\n",
              "      <td>EU</td>\n",
              "      <td>iPhone</td>\n",
              "    </tr>\n",
              "    <tr>\n",
              "      <th>4</th>\n",
              "      <td>482F14783456D21B</td>\n",
              "      <td>B</td>\n",
              "      <td>recommender_system_test</td>\n",
              "      <td>2020-12-14</td>\n",
              "      <td>EU</td>\n",
              "      <td>PC</td>\n",
              "    </tr>\n",
              "    <tr>\n",
              "      <th>...</th>\n",
              "      <td>...</td>\n",
              "      <td>...</td>\n",
              "      <td>...</td>\n",
              "      <td>...</td>\n",
              "      <td>...</td>\n",
              "      <td>...</td>\n",
              "    </tr>\n",
              "    <tr>\n",
              "      <th>18263</th>\n",
              "      <td>1D302F8688B91781</td>\n",
              "      <td>B</td>\n",
              "      <td>interface_eu_test</td>\n",
              "      <td>2020-12-15</td>\n",
              "      <td>EU</td>\n",
              "      <td>PC</td>\n",
              "    </tr>\n",
              "    <tr>\n",
              "      <th>18264</th>\n",
              "      <td>3DE51B726983B657</td>\n",
              "      <td>A</td>\n",
              "      <td>interface_eu_test</td>\n",
              "      <td>2020-12-07</td>\n",
              "      <td>EU</td>\n",
              "      <td>Android</td>\n",
              "    </tr>\n",
              "    <tr>\n",
              "      <th>18265</th>\n",
              "      <td>F501F79D332BE86C</td>\n",
              "      <td>A</td>\n",
              "      <td>interface_eu_test</td>\n",
              "      <td>2020-12-17</td>\n",
              "      <td>EU</td>\n",
              "      <td>Mac</td>\n",
              "    </tr>\n",
              "    <tr>\n",
              "      <th>18266</th>\n",
              "      <td>63FBE257B05F2245</td>\n",
              "      <td>A</td>\n",
              "      <td>interface_eu_test</td>\n",
              "      <td>2020-12-20</td>\n",
              "      <td>EU</td>\n",
              "      <td>Android</td>\n",
              "    </tr>\n",
              "    <tr>\n",
              "      <th>18267</th>\n",
              "      <td>79F9ABFB029CF724</td>\n",
              "      <td>B</td>\n",
              "      <td>interface_eu_test</td>\n",
              "      <td>2020-12-14</td>\n",
              "      <td>EU</td>\n",
              "      <td>PC</td>\n",
              "    </tr>\n",
              "  </tbody>\n",
              "</table>\n",
              "<p>18268 rows × 6 columns</p>\n",
              "</div>\n",
              "      <button class=\"colab-df-convert\" onclick=\"convertToInteractive('df-2f98b146-3bf5-40b3-a976-caedaa664ca2')\"\n",
              "              title=\"Convert this dataframe to an interactive table.\"\n",
              "              style=\"display:none;\">\n",
              "        \n",
              "  <svg xmlns=\"http://www.w3.org/2000/svg\" height=\"24px\"viewBox=\"0 0 24 24\"\n",
              "       width=\"24px\">\n",
              "    <path d=\"M0 0h24v24H0V0z\" fill=\"none\"/>\n",
              "    <path d=\"M18.56 5.44l.94 2.06.94-2.06 2.06-.94-2.06-.94-.94-2.06-.94 2.06-2.06.94zm-11 1L8.5 8.5l.94-2.06 2.06-.94-2.06-.94L8.5 2.5l-.94 2.06-2.06.94zm10 10l.94 2.06.94-2.06 2.06-.94-2.06-.94-.94-2.06-.94 2.06-2.06.94z\"/><path d=\"M17.41 7.96l-1.37-1.37c-.4-.4-.92-.59-1.43-.59-.52 0-1.04.2-1.43.59L10.3 9.45l-7.72 7.72c-.78.78-.78 2.05 0 2.83L4 21.41c.39.39.9.59 1.41.59.51 0 1.02-.2 1.41-.59l7.78-7.78 2.81-2.81c.8-.78.8-2.07 0-2.86zM5.41 20L4 18.59l7.72-7.72 1.47 1.35L5.41 20z\"/>\n",
              "  </svg>\n",
              "      </button>\n",
              "      \n",
              "  <style>\n",
              "    .colab-df-container {\n",
              "      display:flex;\n",
              "      flex-wrap:wrap;\n",
              "      gap: 12px;\n",
              "    }\n",
              "\n",
              "    .colab-df-convert {\n",
              "      background-color: #E8F0FE;\n",
              "      border: none;\n",
              "      border-radius: 50%;\n",
              "      cursor: pointer;\n",
              "      display: none;\n",
              "      fill: #1967D2;\n",
              "      height: 32px;\n",
              "      padding: 0 0 0 0;\n",
              "      width: 32px;\n",
              "    }\n",
              "\n",
              "    .colab-df-convert:hover {\n",
              "      background-color: #E2EBFA;\n",
              "      box-shadow: 0px 1px 2px rgba(60, 64, 67, 0.3), 0px 1px 3px 1px rgba(60, 64, 67, 0.15);\n",
              "      fill: #174EA6;\n",
              "    }\n",
              "\n",
              "    [theme=dark] .colab-df-convert {\n",
              "      background-color: #3B4455;\n",
              "      fill: #D2E3FC;\n",
              "    }\n",
              "\n",
              "    [theme=dark] .colab-df-convert:hover {\n",
              "      background-color: #434B5C;\n",
              "      box-shadow: 0px 1px 3px 1px rgba(0, 0, 0, 0.15);\n",
              "      filter: drop-shadow(0px 1px 2px rgba(0, 0, 0, 0.3));\n",
              "      fill: #FFFFFF;\n",
              "    }\n",
              "  </style>\n",
              "\n",
              "      <script>\n",
              "        const buttonEl =\n",
              "          document.querySelector('#df-2f98b146-3bf5-40b3-a976-caedaa664ca2 button.colab-df-convert');\n",
              "        buttonEl.style.display =\n",
              "          google.colab.kernel.accessAllowed ? 'block' : 'none';\n",
              "\n",
              "        async function convertToInteractive(key) {\n",
              "          const element = document.querySelector('#df-2f98b146-3bf5-40b3-a976-caedaa664ca2');\n",
              "          const dataTable =\n",
              "            await google.colab.kernel.invokeFunction('convertToInteractive',\n",
              "                                                     [key], {});\n",
              "          if (!dataTable) return;\n",
              "\n",
              "          const docLinkHtml = 'Like what you see? Visit the ' +\n",
              "            '<a target=\"_blank\" href=https://colab.research.google.com/notebooks/data_table.ipynb>data table notebook</a>'\n",
              "            + ' to learn more about interactive tables.';\n",
              "          element.innerHTML = '';\n",
              "          dataTable['output_type'] = 'display_data';\n",
              "          await google.colab.output.renderOutput(dataTable, element);\n",
              "          const docLink = document.createElement('div');\n",
              "          docLink.innerHTML = docLinkHtml;\n",
              "          element.appendChild(docLink);\n",
              "        }\n",
              "      </script>\n",
              "    </div>\n",
              "  </div>\n",
              "  "
            ]
          },
          "metadata": {},
          "execution_count": 14
        }
      ],
      "source": [
        "# объединим датафреймы пользователей и участников теста\n",
        "participants = participants.merge(new_users, on='user_id', how='left')\n",
        "participants"
      ]
    },
    {
      "cell_type": "code",
      "execution_count": 15,
      "metadata": {
        "colab": {
          "base_uri": "https://localhost:8080/",
          "height": 424
        },
        "id": "b7v70lOs9_5b",
        "outputId": "8797448e-c9e8-46bf-a720-663b3e53538e"
      },
      "outputs": [
        {
          "output_type": "execute_result",
          "data": {
            "text/plain": [
              "               user_id group                  ab_test first_date     region  \\\n",
              "0     D1ABA3E2887B6A73     A  recommender_system_test 2020-12-07         EU   \n",
              "1     A7A3664BD6242119     A  recommender_system_test 2020-12-20         EU   \n",
              "2     DABC14FDDFADD29E     A  recommender_system_test 2020-12-08         EU   \n",
              "3     04988C5DF189632E     A  recommender_system_test 2020-12-14         EU   \n",
              "4     482F14783456D21B     B  recommender_system_test 2020-12-14         EU   \n",
              "...                ...   ...                      ...        ...        ...   \n",
              "6696  053FB26D6D49EDDC     A  recommender_system_test 2020-12-10  N.America   \n",
              "6697  9D263B8EF15CF188     B  recommender_system_test 2020-12-16  N.America   \n",
              "6698  F2FBBA33F37DEC46     A  recommender_system_test 2020-12-18       APAC   \n",
              "6699  29C92313A98B1176     B  recommender_system_test 2020-12-07       APAC   \n",
              "6700  6715343AFBA285AE     B  recommender_system_test 2020-12-07        CIS   \n",
              "\n",
              "       device  \n",
              "0          PC  \n",
              "1      iPhone  \n",
              "2         Mac  \n",
              "3      iPhone  \n",
              "4          PC  \n",
              "...       ...  \n",
              "6696  Android  \n",
              "6697      Mac  \n",
              "6698      Mac  \n",
              "6699  Android  \n",
              "6700  Android  \n",
              "\n",
              "[6701 rows x 6 columns]"
            ],
            "text/html": [
              "\n",
              "  <div id=\"df-9b80993c-ea0e-4891-a3e5-6c191bde5b8c\">\n",
              "    <div class=\"colab-df-container\">\n",
              "      <div>\n",
              "<style scoped>\n",
              "    .dataframe tbody tr th:only-of-type {\n",
              "        vertical-align: middle;\n",
              "    }\n",
              "\n",
              "    .dataframe tbody tr th {\n",
              "        vertical-align: top;\n",
              "    }\n",
              "\n",
              "    .dataframe thead th {\n",
              "        text-align: right;\n",
              "    }\n",
              "</style>\n",
              "<table border=\"1\" class=\"dataframe\">\n",
              "  <thead>\n",
              "    <tr style=\"text-align: right;\">\n",
              "      <th></th>\n",
              "      <th>user_id</th>\n",
              "      <th>group</th>\n",
              "      <th>ab_test</th>\n",
              "      <th>first_date</th>\n",
              "      <th>region</th>\n",
              "      <th>device</th>\n",
              "    </tr>\n",
              "  </thead>\n",
              "  <tbody>\n",
              "    <tr>\n",
              "      <th>0</th>\n",
              "      <td>D1ABA3E2887B6A73</td>\n",
              "      <td>A</td>\n",
              "      <td>recommender_system_test</td>\n",
              "      <td>2020-12-07</td>\n",
              "      <td>EU</td>\n",
              "      <td>PC</td>\n",
              "    </tr>\n",
              "    <tr>\n",
              "      <th>1</th>\n",
              "      <td>A7A3664BD6242119</td>\n",
              "      <td>A</td>\n",
              "      <td>recommender_system_test</td>\n",
              "      <td>2020-12-20</td>\n",
              "      <td>EU</td>\n",
              "      <td>iPhone</td>\n",
              "    </tr>\n",
              "    <tr>\n",
              "      <th>2</th>\n",
              "      <td>DABC14FDDFADD29E</td>\n",
              "      <td>A</td>\n",
              "      <td>recommender_system_test</td>\n",
              "      <td>2020-12-08</td>\n",
              "      <td>EU</td>\n",
              "      <td>Mac</td>\n",
              "    </tr>\n",
              "    <tr>\n",
              "      <th>3</th>\n",
              "      <td>04988C5DF189632E</td>\n",
              "      <td>A</td>\n",
              "      <td>recommender_system_test</td>\n",
              "      <td>2020-12-14</td>\n",
              "      <td>EU</td>\n",
              "      <td>iPhone</td>\n",
              "    </tr>\n",
              "    <tr>\n",
              "      <th>4</th>\n",
              "      <td>482F14783456D21B</td>\n",
              "      <td>B</td>\n",
              "      <td>recommender_system_test</td>\n",
              "      <td>2020-12-14</td>\n",
              "      <td>EU</td>\n",
              "      <td>PC</td>\n",
              "    </tr>\n",
              "    <tr>\n",
              "      <th>...</th>\n",
              "      <td>...</td>\n",
              "      <td>...</td>\n",
              "      <td>...</td>\n",
              "      <td>...</td>\n",
              "      <td>...</td>\n",
              "      <td>...</td>\n",
              "    </tr>\n",
              "    <tr>\n",
              "      <th>6696</th>\n",
              "      <td>053FB26D6D49EDDC</td>\n",
              "      <td>A</td>\n",
              "      <td>recommender_system_test</td>\n",
              "      <td>2020-12-10</td>\n",
              "      <td>N.America</td>\n",
              "      <td>Android</td>\n",
              "    </tr>\n",
              "    <tr>\n",
              "      <th>6697</th>\n",
              "      <td>9D263B8EF15CF188</td>\n",
              "      <td>B</td>\n",
              "      <td>recommender_system_test</td>\n",
              "      <td>2020-12-16</td>\n",
              "      <td>N.America</td>\n",
              "      <td>Mac</td>\n",
              "    </tr>\n",
              "    <tr>\n",
              "      <th>6698</th>\n",
              "      <td>F2FBBA33F37DEC46</td>\n",
              "      <td>A</td>\n",
              "      <td>recommender_system_test</td>\n",
              "      <td>2020-12-18</td>\n",
              "      <td>APAC</td>\n",
              "      <td>Mac</td>\n",
              "    </tr>\n",
              "    <tr>\n",
              "      <th>6699</th>\n",
              "      <td>29C92313A98B1176</td>\n",
              "      <td>B</td>\n",
              "      <td>recommender_system_test</td>\n",
              "      <td>2020-12-07</td>\n",
              "      <td>APAC</td>\n",
              "      <td>Android</td>\n",
              "    </tr>\n",
              "    <tr>\n",
              "      <th>6700</th>\n",
              "      <td>6715343AFBA285AE</td>\n",
              "      <td>B</td>\n",
              "      <td>recommender_system_test</td>\n",
              "      <td>2020-12-07</td>\n",
              "      <td>CIS</td>\n",
              "      <td>Android</td>\n",
              "    </tr>\n",
              "  </tbody>\n",
              "</table>\n",
              "<p>6701 rows × 6 columns</p>\n",
              "</div>\n",
              "      <button class=\"colab-df-convert\" onclick=\"convertToInteractive('df-9b80993c-ea0e-4891-a3e5-6c191bde5b8c')\"\n",
              "              title=\"Convert this dataframe to an interactive table.\"\n",
              "              style=\"display:none;\">\n",
              "        \n",
              "  <svg xmlns=\"http://www.w3.org/2000/svg\" height=\"24px\"viewBox=\"0 0 24 24\"\n",
              "       width=\"24px\">\n",
              "    <path d=\"M0 0h24v24H0V0z\" fill=\"none\"/>\n",
              "    <path d=\"M18.56 5.44l.94 2.06.94-2.06 2.06-.94-2.06-.94-.94-2.06-.94 2.06-2.06.94zm-11 1L8.5 8.5l.94-2.06 2.06-.94-2.06-.94L8.5 2.5l-.94 2.06-2.06.94zm10 10l.94 2.06.94-2.06 2.06-.94-2.06-.94-.94-2.06-.94 2.06-2.06.94z\"/><path d=\"M17.41 7.96l-1.37-1.37c-.4-.4-.92-.59-1.43-.59-.52 0-1.04.2-1.43.59L10.3 9.45l-7.72 7.72c-.78.78-.78 2.05 0 2.83L4 21.41c.39.39.9.59 1.41.59.51 0 1.02-.2 1.41-.59l7.78-7.78 2.81-2.81c.8-.78.8-2.07 0-2.86zM5.41 20L4 18.59l7.72-7.72 1.47 1.35L5.41 20z\"/>\n",
              "  </svg>\n",
              "      </button>\n",
              "      \n",
              "  <style>\n",
              "    .colab-df-container {\n",
              "      display:flex;\n",
              "      flex-wrap:wrap;\n",
              "      gap: 12px;\n",
              "    }\n",
              "\n",
              "    .colab-df-convert {\n",
              "      background-color: #E8F0FE;\n",
              "      border: none;\n",
              "      border-radius: 50%;\n",
              "      cursor: pointer;\n",
              "      display: none;\n",
              "      fill: #1967D2;\n",
              "      height: 32px;\n",
              "      padding: 0 0 0 0;\n",
              "      width: 32px;\n",
              "    }\n",
              "\n",
              "    .colab-df-convert:hover {\n",
              "      background-color: #E2EBFA;\n",
              "      box-shadow: 0px 1px 2px rgba(60, 64, 67, 0.3), 0px 1px 3px 1px rgba(60, 64, 67, 0.15);\n",
              "      fill: #174EA6;\n",
              "    }\n",
              "\n",
              "    [theme=dark] .colab-df-convert {\n",
              "      background-color: #3B4455;\n",
              "      fill: #D2E3FC;\n",
              "    }\n",
              "\n",
              "    [theme=dark] .colab-df-convert:hover {\n",
              "      background-color: #434B5C;\n",
              "      box-shadow: 0px 1px 3px 1px rgba(0, 0, 0, 0.15);\n",
              "      filter: drop-shadow(0px 1px 2px rgba(0, 0, 0, 0.3));\n",
              "      fill: #FFFFFF;\n",
              "    }\n",
              "  </style>\n",
              "\n",
              "      <script>\n",
              "        const buttonEl =\n",
              "          document.querySelector('#df-9b80993c-ea0e-4891-a3e5-6c191bde5b8c button.colab-df-convert');\n",
              "        buttonEl.style.display =\n",
              "          google.colab.kernel.accessAllowed ? 'block' : 'none';\n",
              "\n",
              "        async function convertToInteractive(key) {\n",
              "          const element = document.querySelector('#df-9b80993c-ea0e-4891-a3e5-6c191bde5b8c');\n",
              "          const dataTable =\n",
              "            await google.colab.kernel.invokeFunction('convertToInteractive',\n",
              "                                                     [key], {});\n",
              "          if (!dataTable) return;\n",
              "\n",
              "          const docLinkHtml = 'Like what you see? Visit the ' +\n",
              "            '<a target=\"_blank\" href=https://colab.research.google.com/notebooks/data_table.ipynb>data table notebook</a>'\n",
              "            + ' to learn more about interactive tables.';\n",
              "          element.innerHTML = '';\n",
              "          dataTable['output_type'] = 'display_data';\n",
              "          await google.colab.output.renderOutput(dataTable, element);\n",
              "          const docLink = document.createElement('div');\n",
              "          docLink.innerHTML = docLinkHtml;\n",
              "          element.appendChild(docLink);\n",
              "        }\n",
              "      </script>\n",
              "    </div>\n",
              "  </div>\n",
              "  "
            ]
          },
          "metadata": {},
          "execution_count": 15
        }
      ],
      "source": [
        "# название теста: recommender_system_test\n",
        "participants_filtered = participants.query('ab_test == \"recommender_system_test\"')\n",
        "\n",
        "participants_filtered"
      ]
    },
    {
      "cell_type": "code",
      "execution_count": 16,
      "metadata": {
        "colab": {
          "base_uri": "https://localhost:8080/"
        },
        "id": "puhRnw0p_VfC",
        "outputId": "d178280a-39d3-471e-9ace-95bf900f3328"
      },
      "outputs": [
        {
          "output_type": "execute_result",
          "data": {
            "text/plain": [
              "Timestamp('2020-12-07 00:00:00')"
            ]
          },
          "metadata": {},
          "execution_count": 16
        }
      ],
      "source": [
        "# дата запуска: 2020-12-07\n",
        "participants_filtered['first_date'].min()"
      ]
    },
    {
      "cell_type": "markdown",
      "metadata": {
        "id": "HyAFUGIr_xlm"
      },
      "source": [
        "Все совпадает.\n",
        "\n"
      ]
    },
    {
      "cell_type": "code",
      "execution_count": 17,
      "metadata": {
        "colab": {
          "base_uri": "https://localhost:8080/"
        },
        "id": "-hnhGIjl_uRV",
        "outputId": "15156b84-47aa-45d3-86aa-811f68886c46"
      },
      "outputs": [
        {
          "output_type": "execute_result",
          "data": {
            "text/plain": [
              "Timestamp('2020-12-21 00:00:00')"
            ]
          },
          "metadata": {},
          "execution_count": 17
        }
      ],
      "source": [
        "# дата остановки набора новых пользователей: 2020-12-21\n",
        "participants_filtered['first_date'].max()"
      ]
    },
    {
      "cell_type": "markdown",
      "metadata": {
        "id": "7duB1hCKABi7"
      },
      "source": [
        "Корректно."
      ]
    },
    {
      "cell_type": "code",
      "execution_count": 18,
      "metadata": {
        "colab": {
          "base_uri": "https://localhost:8080/"
        },
        "id": "P2OtK9oB_-SI",
        "outputId": "ac74084e-fec8-499a-e718-a5160426b55a"
      },
      "outputs": [
        {
          "output_type": "execute_result",
          "data": {
            "text/plain": [
              "Timestamp('2020-12-30 23:36:33')"
            ]
          },
          "metadata": {},
          "execution_count": 18
        }
      ],
      "source": [
        "# дата остановки: 2021-01-04\n",
        "events['event_dt'].max()"
      ]
    },
    {
      "cell_type": "markdown",
      "metadata": {
        "id": "GkJSNOakA-wa"
      },
      "source": [
        "Все верно. События закончились даже раньше.  \n",
        "Но получается, что многие пользователи не успели прожить 14 дней. Это может плохо повлиять на корректность результатов теста, так как ожидалось, что все проживут минимум 2 недели.\n"
      ]
    },
    {
      "cell_type": "code",
      "execution_count": 19,
      "metadata": {
        "colab": {
          "base_uri": "https://localhost:8080/",
          "height": 424
        },
        "id": "Vy8zOU9Oujh2",
        "outputId": "ca4ec5a4-48a0-4035-bbbc-6ba63840ce37"
      },
      "outputs": [
        {
          "output_type": "execute_result",
          "data": {
            "text/plain": [
              "               user_id group                  ab_test first_date     region  \\\n",
              "0     D1ABA3E2887B6A73     A  recommender_system_test 2020-12-07         EU   \n",
              "1     A7A3664BD6242119     A  recommender_system_test 2020-12-20         EU   \n",
              "2     DABC14FDDFADD29E     A  recommender_system_test 2020-12-08         EU   \n",
              "3     04988C5DF189632E     A  recommender_system_test 2020-12-14         EU   \n",
              "4     482F14783456D21B     B  recommender_system_test 2020-12-14         EU   \n",
              "...                ...   ...                      ...        ...        ...   \n",
              "6696  053FB26D6D49EDDC     A  recommender_system_test 2020-12-10  N.America   \n",
              "6697  9D263B8EF15CF188     B  recommender_system_test 2020-12-16  N.America   \n",
              "6698  F2FBBA33F37DEC46     A  recommender_system_test 2020-12-18       APAC   \n",
              "6699  29C92313A98B1176     B  recommender_system_test 2020-12-07       APAC   \n",
              "6700  6715343AFBA285AE     B  recommender_system_test 2020-12-07        CIS   \n",
              "\n",
              "       device  \n",
              "0          PC  \n",
              "1      iPhone  \n",
              "2         Mac  \n",
              "3      iPhone  \n",
              "4          PC  \n",
              "...       ...  \n",
              "6696  Android  \n",
              "6697      Mac  \n",
              "6698      Mac  \n",
              "6699  Android  \n",
              "6700  Android  \n",
              "\n",
              "[6701 rows x 6 columns]"
            ],
            "text/html": [
              "\n",
              "  <div id=\"df-a6998e69-7c14-4c0a-9daa-dfb99e51f3e4\">\n",
              "    <div class=\"colab-df-container\">\n",
              "      <div>\n",
              "<style scoped>\n",
              "    .dataframe tbody tr th:only-of-type {\n",
              "        vertical-align: middle;\n",
              "    }\n",
              "\n",
              "    .dataframe tbody tr th {\n",
              "        vertical-align: top;\n",
              "    }\n",
              "\n",
              "    .dataframe thead th {\n",
              "        text-align: right;\n",
              "    }\n",
              "</style>\n",
              "<table border=\"1\" class=\"dataframe\">\n",
              "  <thead>\n",
              "    <tr style=\"text-align: right;\">\n",
              "      <th></th>\n",
              "      <th>user_id</th>\n",
              "      <th>group</th>\n",
              "      <th>ab_test</th>\n",
              "      <th>first_date</th>\n",
              "      <th>region</th>\n",
              "      <th>device</th>\n",
              "    </tr>\n",
              "  </thead>\n",
              "  <tbody>\n",
              "    <tr>\n",
              "      <th>0</th>\n",
              "      <td>D1ABA3E2887B6A73</td>\n",
              "      <td>A</td>\n",
              "      <td>recommender_system_test</td>\n",
              "      <td>2020-12-07</td>\n",
              "      <td>EU</td>\n",
              "      <td>PC</td>\n",
              "    </tr>\n",
              "    <tr>\n",
              "      <th>1</th>\n",
              "      <td>A7A3664BD6242119</td>\n",
              "      <td>A</td>\n",
              "      <td>recommender_system_test</td>\n",
              "      <td>2020-12-20</td>\n",
              "      <td>EU</td>\n",
              "      <td>iPhone</td>\n",
              "    </tr>\n",
              "    <tr>\n",
              "      <th>2</th>\n",
              "      <td>DABC14FDDFADD29E</td>\n",
              "      <td>A</td>\n",
              "      <td>recommender_system_test</td>\n",
              "      <td>2020-12-08</td>\n",
              "      <td>EU</td>\n",
              "      <td>Mac</td>\n",
              "    </tr>\n",
              "    <tr>\n",
              "      <th>3</th>\n",
              "      <td>04988C5DF189632E</td>\n",
              "      <td>A</td>\n",
              "      <td>recommender_system_test</td>\n",
              "      <td>2020-12-14</td>\n",
              "      <td>EU</td>\n",
              "      <td>iPhone</td>\n",
              "    </tr>\n",
              "    <tr>\n",
              "      <th>4</th>\n",
              "      <td>482F14783456D21B</td>\n",
              "      <td>B</td>\n",
              "      <td>recommender_system_test</td>\n",
              "      <td>2020-12-14</td>\n",
              "      <td>EU</td>\n",
              "      <td>PC</td>\n",
              "    </tr>\n",
              "    <tr>\n",
              "      <th>...</th>\n",
              "      <td>...</td>\n",
              "      <td>...</td>\n",
              "      <td>...</td>\n",
              "      <td>...</td>\n",
              "      <td>...</td>\n",
              "      <td>...</td>\n",
              "    </tr>\n",
              "    <tr>\n",
              "      <th>6696</th>\n",
              "      <td>053FB26D6D49EDDC</td>\n",
              "      <td>A</td>\n",
              "      <td>recommender_system_test</td>\n",
              "      <td>2020-12-10</td>\n",
              "      <td>N.America</td>\n",
              "      <td>Android</td>\n",
              "    </tr>\n",
              "    <tr>\n",
              "      <th>6697</th>\n",
              "      <td>9D263B8EF15CF188</td>\n",
              "      <td>B</td>\n",
              "      <td>recommender_system_test</td>\n",
              "      <td>2020-12-16</td>\n",
              "      <td>N.America</td>\n",
              "      <td>Mac</td>\n",
              "    </tr>\n",
              "    <tr>\n",
              "      <th>6698</th>\n",
              "      <td>F2FBBA33F37DEC46</td>\n",
              "      <td>A</td>\n",
              "      <td>recommender_system_test</td>\n",
              "      <td>2020-12-18</td>\n",
              "      <td>APAC</td>\n",
              "      <td>Mac</td>\n",
              "    </tr>\n",
              "    <tr>\n",
              "      <th>6699</th>\n",
              "      <td>29C92313A98B1176</td>\n",
              "      <td>B</td>\n",
              "      <td>recommender_system_test</td>\n",
              "      <td>2020-12-07</td>\n",
              "      <td>APAC</td>\n",
              "      <td>Android</td>\n",
              "    </tr>\n",
              "    <tr>\n",
              "      <th>6700</th>\n",
              "      <td>6715343AFBA285AE</td>\n",
              "      <td>B</td>\n",
              "      <td>recommender_system_test</td>\n",
              "      <td>2020-12-07</td>\n",
              "      <td>CIS</td>\n",
              "      <td>Android</td>\n",
              "    </tr>\n",
              "  </tbody>\n",
              "</table>\n",
              "<p>6701 rows × 6 columns</p>\n",
              "</div>\n",
              "      <button class=\"colab-df-convert\" onclick=\"convertToInteractive('df-a6998e69-7c14-4c0a-9daa-dfb99e51f3e4')\"\n",
              "              title=\"Convert this dataframe to an interactive table.\"\n",
              "              style=\"display:none;\">\n",
              "        \n",
              "  <svg xmlns=\"http://www.w3.org/2000/svg\" height=\"24px\"viewBox=\"0 0 24 24\"\n",
              "       width=\"24px\">\n",
              "    <path d=\"M0 0h24v24H0V0z\" fill=\"none\"/>\n",
              "    <path d=\"M18.56 5.44l.94 2.06.94-2.06 2.06-.94-2.06-.94-.94-2.06-.94 2.06-2.06.94zm-11 1L8.5 8.5l.94-2.06 2.06-.94-2.06-.94L8.5 2.5l-.94 2.06-2.06.94zm10 10l.94 2.06.94-2.06 2.06-.94-2.06-.94-.94-2.06-.94 2.06-2.06.94z\"/><path d=\"M17.41 7.96l-1.37-1.37c-.4-.4-.92-.59-1.43-.59-.52 0-1.04.2-1.43.59L10.3 9.45l-7.72 7.72c-.78.78-.78 2.05 0 2.83L4 21.41c.39.39.9.59 1.41.59.51 0 1.02-.2 1.41-.59l7.78-7.78 2.81-2.81c.8-.78.8-2.07 0-2.86zM5.41 20L4 18.59l7.72-7.72 1.47 1.35L5.41 20z\"/>\n",
              "  </svg>\n",
              "      </button>\n",
              "      \n",
              "  <style>\n",
              "    .colab-df-container {\n",
              "      display:flex;\n",
              "      flex-wrap:wrap;\n",
              "      gap: 12px;\n",
              "    }\n",
              "\n",
              "    .colab-df-convert {\n",
              "      background-color: #E8F0FE;\n",
              "      border: none;\n",
              "      border-radius: 50%;\n",
              "      cursor: pointer;\n",
              "      display: none;\n",
              "      fill: #1967D2;\n",
              "      height: 32px;\n",
              "      padding: 0 0 0 0;\n",
              "      width: 32px;\n",
              "    }\n",
              "\n",
              "    .colab-df-convert:hover {\n",
              "      background-color: #E2EBFA;\n",
              "      box-shadow: 0px 1px 2px rgba(60, 64, 67, 0.3), 0px 1px 3px 1px rgba(60, 64, 67, 0.15);\n",
              "      fill: #174EA6;\n",
              "    }\n",
              "\n",
              "    [theme=dark] .colab-df-convert {\n",
              "      background-color: #3B4455;\n",
              "      fill: #D2E3FC;\n",
              "    }\n",
              "\n",
              "    [theme=dark] .colab-df-convert:hover {\n",
              "      background-color: #434B5C;\n",
              "      box-shadow: 0px 1px 3px 1px rgba(0, 0, 0, 0.15);\n",
              "      filter: drop-shadow(0px 1px 2px rgba(0, 0, 0, 0.3));\n",
              "      fill: #FFFFFF;\n",
              "    }\n",
              "  </style>\n",
              "\n",
              "      <script>\n",
              "        const buttonEl =\n",
              "          document.querySelector('#df-a6998e69-7c14-4c0a-9daa-dfb99e51f3e4 button.colab-df-convert');\n",
              "        buttonEl.style.display =\n",
              "          google.colab.kernel.accessAllowed ? 'block' : 'none';\n",
              "\n",
              "        async function convertToInteractive(key) {\n",
              "          const element = document.querySelector('#df-a6998e69-7c14-4c0a-9daa-dfb99e51f3e4');\n",
              "          const dataTable =\n",
              "            await google.colab.kernel.invokeFunction('convertToInteractive',\n",
              "                                                     [key], {});\n",
              "          if (!dataTable) return;\n",
              "\n",
              "          const docLinkHtml = 'Like what you see? Visit the ' +\n",
              "            '<a target=\"_blank\" href=https://colab.research.google.com/notebooks/data_table.ipynb>data table notebook</a>'\n",
              "            + ' to learn more about interactive tables.';\n",
              "          element.innerHTML = '';\n",
              "          dataTable['output_type'] = 'display_data';\n",
              "          await google.colab.output.renderOutput(dataTable, element);\n",
              "          const docLink = document.createElement('div');\n",
              "          docLink.innerHTML = docLinkHtml;\n",
              "          element.appendChild(docLink);\n",
              "        }\n",
              "      </script>\n",
              "    </div>\n",
              "  </div>\n",
              "  "
            ]
          },
          "metadata": {},
          "execution_count": 19
        }
      ],
      "source": [
        "# Проверим, что каждый пользователь состоит лишь в одной группе\n",
        "participants_filtered"
      ]
    },
    {
      "cell_type": "code",
      "execution_count": 20,
      "metadata": {
        "colab": {
          "base_uri": "https://localhost:8080/"
        },
        "id": "IEuybIV7Appw",
        "outputId": "49bac5a8-8273-40e5-fa7f-9b5ec01d25d7"
      },
      "outputs": [
        {
          "output_type": "stream",
          "name": "stdout",
          "text": [
            "Всего в EU пользователей: 46270\n",
            "В нашем тесте пользователей: 6351\n",
            "Это 13.73% от общего числа пользователей.\n"
          ]
        }
      ],
      "source": [
        "# аудитория: 15% новых пользователей из региона EU\n",
        "participants_filtered = participants_filtered.query('region == \"EU\"')\n",
        "EU_all = len(new_users[new_users['region'] == 'EU'])\n",
        "EU_test = len(participants_filtered)\n",
        "print(f\"Всего в EU пользователей: {EU_all}\")\n",
        "print(f'В нашем тесте пользователей: {EU_test}')\n",
        "print(f'Это{EU_test / EU_all: .2%} от общего числа пользователей.' )\n"
      ]
    },
    {
      "cell_type": "code",
      "execution_count": 21,
      "metadata": {
        "colab": {
          "base_uri": "https://localhost:8080/"
        },
        "id": "b2NeCx2mN2UX",
        "outputId": "cc8565e7-8b35-4afe-9be8-246f2d0193e9"
      },
      "outputs": [
        {
          "output_type": "stream",
          "name": "stdout",
          "text": [
            "Отличие с ТЗ по количеству пользователей: 5.53%\n",
            "Отличие с ТЗ по проценту европейской аудитории: 8.49%\n"
          ]
        }
      ],
      "source": [
        "# посчитаем отличия с ТЗ в процентах\n",
        "expected_amount_of_participants = 6000\n",
        "expected_percent_of_EU_participants = 15\n",
        "\n",
        "print(f\"Отличие с ТЗ по количеству пользователей: {abs(EU_test - expected_amount_of_participants) / max(EU_test, expected_amount_of_participants):.2%}\")\n",
        "print(f'Отличие с ТЗ по проценту европейской аудитории: {abs(expected_percent_of_EU_participants - 100 * EU_test / EU_all) / max(expected_percent_of_EU_participants, 100 * EU_test / EU_all):.2%}')\n"
      ]
    },
    {
      "cell_type": "markdown",
      "metadata": {
        "id": "gVXIYxmDCw4D"
      },
      "source": [
        "Мы захватили несколько меньший процент пользователей - 13.73%. Ожидаемое количество в 6000 практически соблюдено, в нашем тесте 6351 пользователь. \n",
        "\n",
        "Отклонения не так критичны, в целом здесь ТЗ соблюдено."
      ]
    },
    {
      "cell_type": "markdown",
      "metadata": {
        "id": "x1dSBLSKDQdL"
      },
      "source": [
        "### Время проведения теста"
      ]
    },
    {
      "cell_type": "code",
      "execution_count": 22,
      "metadata": {
        "colab": {
          "base_uri": "https://localhost:8080/",
          "height": 175
        },
        "id": "BWNTKBuIDC_Y",
        "outputId": "c5fded9a-56c7-4d6e-da28-73f6e95f2672"
      },
      "outputs": [
        {
          "output_type": "execute_result",
          "data": {
            "text/plain": [
              "                         name                   regions   start_dt  finish_dt\n",
              "0    Christmas&New Year Promo             EU, N.America 2020-12-25 2021-01-03\n",
              "5   Black Friday Ads Campaign  EU, CIS, APAC, N.America 2020-11-26 2020-12-01\n",
              "10  CIS New Year Gift Lottery                       CIS 2020-12-30 2021-01-07\n",
              "12    Single's Day Gift Promo                      APAC 2020-11-11 2020-11-12"
            ],
            "text/html": [
              "\n",
              "  <div id=\"df-1dc2ed08-0c9d-4f8e-b12e-f949ec37a6b2\">\n",
              "    <div class=\"colab-df-container\">\n",
              "      <div>\n",
              "<style scoped>\n",
              "    .dataframe tbody tr th:only-of-type {\n",
              "        vertical-align: middle;\n",
              "    }\n",
              "\n",
              "    .dataframe tbody tr th {\n",
              "        vertical-align: top;\n",
              "    }\n",
              "\n",
              "    .dataframe thead th {\n",
              "        text-align: right;\n",
              "    }\n",
              "</style>\n",
              "<table border=\"1\" class=\"dataframe\">\n",
              "  <thead>\n",
              "    <tr style=\"text-align: right;\">\n",
              "      <th></th>\n",
              "      <th>name</th>\n",
              "      <th>regions</th>\n",
              "      <th>start_dt</th>\n",
              "      <th>finish_dt</th>\n",
              "    </tr>\n",
              "  </thead>\n",
              "  <tbody>\n",
              "    <tr>\n",
              "      <th>0</th>\n",
              "      <td>Christmas&amp;New Year Promo</td>\n",
              "      <td>EU, N.America</td>\n",
              "      <td>2020-12-25</td>\n",
              "      <td>2021-01-03</td>\n",
              "    </tr>\n",
              "    <tr>\n",
              "      <th>5</th>\n",
              "      <td>Black Friday Ads Campaign</td>\n",
              "      <td>EU, CIS, APAC, N.America</td>\n",
              "      <td>2020-11-26</td>\n",
              "      <td>2020-12-01</td>\n",
              "    </tr>\n",
              "    <tr>\n",
              "      <th>10</th>\n",
              "      <td>CIS New Year Gift Lottery</td>\n",
              "      <td>CIS</td>\n",
              "      <td>2020-12-30</td>\n",
              "      <td>2021-01-07</td>\n",
              "    </tr>\n",
              "    <tr>\n",
              "      <th>12</th>\n",
              "      <td>Single's Day Gift Promo</td>\n",
              "      <td>APAC</td>\n",
              "      <td>2020-11-11</td>\n",
              "      <td>2020-11-12</td>\n",
              "    </tr>\n",
              "  </tbody>\n",
              "</table>\n",
              "</div>\n",
              "      <button class=\"colab-df-convert\" onclick=\"convertToInteractive('df-1dc2ed08-0c9d-4f8e-b12e-f949ec37a6b2')\"\n",
              "              title=\"Convert this dataframe to an interactive table.\"\n",
              "              style=\"display:none;\">\n",
              "        \n",
              "  <svg xmlns=\"http://www.w3.org/2000/svg\" height=\"24px\"viewBox=\"0 0 24 24\"\n",
              "       width=\"24px\">\n",
              "    <path d=\"M0 0h24v24H0V0z\" fill=\"none\"/>\n",
              "    <path d=\"M18.56 5.44l.94 2.06.94-2.06 2.06-.94-2.06-.94-.94-2.06-.94 2.06-2.06.94zm-11 1L8.5 8.5l.94-2.06 2.06-.94-2.06-.94L8.5 2.5l-.94 2.06-2.06.94zm10 10l.94 2.06.94-2.06 2.06-.94-2.06-.94-.94-2.06-.94 2.06-2.06.94z\"/><path d=\"M17.41 7.96l-1.37-1.37c-.4-.4-.92-.59-1.43-.59-.52 0-1.04.2-1.43.59L10.3 9.45l-7.72 7.72c-.78.78-.78 2.05 0 2.83L4 21.41c.39.39.9.59 1.41.59.51 0 1.02-.2 1.41-.59l7.78-7.78 2.81-2.81c.8-.78.8-2.07 0-2.86zM5.41 20L4 18.59l7.72-7.72 1.47 1.35L5.41 20z\"/>\n",
              "  </svg>\n",
              "      </button>\n",
              "      \n",
              "  <style>\n",
              "    .colab-df-container {\n",
              "      display:flex;\n",
              "      flex-wrap:wrap;\n",
              "      gap: 12px;\n",
              "    }\n",
              "\n",
              "    .colab-df-convert {\n",
              "      background-color: #E8F0FE;\n",
              "      border: none;\n",
              "      border-radius: 50%;\n",
              "      cursor: pointer;\n",
              "      display: none;\n",
              "      fill: #1967D2;\n",
              "      height: 32px;\n",
              "      padding: 0 0 0 0;\n",
              "      width: 32px;\n",
              "    }\n",
              "\n",
              "    .colab-df-convert:hover {\n",
              "      background-color: #E2EBFA;\n",
              "      box-shadow: 0px 1px 2px rgba(60, 64, 67, 0.3), 0px 1px 3px 1px rgba(60, 64, 67, 0.15);\n",
              "      fill: #174EA6;\n",
              "    }\n",
              "\n",
              "    [theme=dark] .colab-df-convert {\n",
              "      background-color: #3B4455;\n",
              "      fill: #D2E3FC;\n",
              "    }\n",
              "\n",
              "    [theme=dark] .colab-df-convert:hover {\n",
              "      background-color: #434B5C;\n",
              "      box-shadow: 0px 1px 3px 1px rgba(0, 0, 0, 0.15);\n",
              "      filter: drop-shadow(0px 1px 2px rgba(0, 0, 0, 0.3));\n",
              "      fill: #FFFFFF;\n",
              "    }\n",
              "  </style>\n",
              "\n",
              "      <script>\n",
              "        const buttonEl =\n",
              "          document.querySelector('#df-1dc2ed08-0c9d-4f8e-b12e-f949ec37a6b2 button.colab-df-convert');\n",
              "        buttonEl.style.display =\n",
              "          google.colab.kernel.accessAllowed ? 'block' : 'none';\n",
              "\n",
              "        async function convertToInteractive(key) {\n",
              "          const element = document.querySelector('#df-1dc2ed08-0c9d-4f8e-b12e-f949ec37a6b2');\n",
              "          const dataTable =\n",
              "            await google.colab.kernel.invokeFunction('convertToInteractive',\n",
              "                                                     [key], {});\n",
              "          if (!dataTable) return;\n",
              "\n",
              "          const docLinkHtml = 'Like what you see? Visit the ' +\n",
              "            '<a target=\"_blank\" href=https://colab.research.google.com/notebooks/data_table.ipynb>data table notebook</a>'\n",
              "            + ' to learn more about interactive tables.';\n",
              "          element.innerHTML = '';\n",
              "          dataTable['output_type'] = 'display_data';\n",
              "          await google.colab.output.renderOutput(dataTable, element);\n",
              "          const docLink = document.createElement('div');\n",
              "          docLink.innerHTML = docLinkHtml;\n",
              "          element.appendChild(docLink);\n",
              "        }\n",
              "      </script>\n",
              "    </div>\n",
              "  </div>\n",
              "  "
            ]
          },
          "metadata": {},
          "execution_count": 22
        }
      ],
      "source": [
        "marketing_events[('2020-11-07' <= marketing_events['start_dt']) & (marketing_events['start_dt'] <= '2021-01-04')]\n"
      ]
    },
    {
      "cell_type": "markdown",
      "metadata": {
        "id": "fpeHKx4UFIEe"
      },
      "source": [
        "Так как мы находимся в регионе `EU`, то проведение теста выпадает на Рождество и Новый Год.  \n",
        "\n",
        "За предшествующий началу теста месяц в интересующем регионе `EU` не проводилось больше никаких других кампаний.\n",
        "\n",
        "Посмотрим, повлияло ли проведение новогодней/рождественской кампании на всплеск активности."
      ]
    },
    {
      "cell_type": "code",
      "execution_count": 23,
      "metadata": {
        "colab": {
          "base_uri": "https://localhost:8080/",
          "height": 662
        },
        "id": "0pWMfoSpMeE8",
        "outputId": "25cf3928-f9a6-4846-d40f-6829537a1985"
      },
      "outputs": [
        {
          "output_type": "display_data",
          "data": {
            "text/plain": [
              "<Figure size 1080x720 with 1 Axes>"
            ],
            "image/png": "[encoded data removed]"
          },
          "metadata": {
            "needs_background": "light"
          }
        }
      ],
      "source": [
        "# посмотрим, повлияло ли это событие на всплеск активности\n",
        "events['event_date'] = events['event_dt'].dt.date\n",
        "events_per_day = events.groupby('event_date', as_index=False)['event_dt'].count().rename(columns={'event_dt': 'events_cnt'})\n",
        "\n",
        "fig, ax = plt.subplots(figsize=(15,10))\n",
        "\n",
        "sns.barplot(data=events_per_day, \n",
        "            x='event_date',\n",
        "            y='events_cnt').set(title='Количество событий по дням')\n",
        "plt.xticks(rotation=50)\n",
        "plt.xlabel('Дата')\n",
        "plt.ylabel('Количество событий');"
      ]
    },
    {
      "cell_type": "markdown",
      "metadata": {
        "id": "YUDIIh6XtPDh"
      },
      "source": [
        "Кажется, всплеска активности после 25 декабря не наблюдается, даже, скорее, наоборот. Посмотрим, может это повлияло на одну из групп."
      ]
    },
    {
      "cell_type": "code",
      "execution_count": 24,
      "metadata": {
        "colab": {
          "base_uri": "https://localhost:8080/",
          "height": 421
        },
        "id": "TiQgHaHZl7fY",
        "outputId": "0bc2c7ac-0bf1-4c47-8600-da70cb957d3f"
      },
      "outputs": [
        {
          "output_type": "display_data",
          "data": {
            "text/plain": [
              "<Figure size 1296x432 with 2 Axes>"
            ],
            "image/png": "[encoded data removed]"
          },
          "metadata": {
            "needs_background": "light"
          }
        }
      ],
      "source": [
        "events_per_group = events.merge(participants_filtered, on='user_id', how='right')\n",
        "events_A = events_per_group.query('group == \"A\"')\n",
        "events_B = events_per_group.query('group == \"B\"')\n",
        "\n",
        "events_A_cnt_per_day = events_A.groupby('event_date', as_index=False)['event_dt'].count().rename(columns={'event_dt': 'events_cnt'})\n",
        "events_B_cnt_per_day = events_B.groupby('event_date', as_index=False)['event_dt'].count().rename(columns={'event_dt': 'events_cnt'})\n",
        "\n",
        "fig, ax = plt.subplots(1, 2, figsize=(18,6))\n",
        "\n",
        "\n",
        "fig1 = sns.barplot(data=events_A_cnt_per_day, \n",
        "                   x='event_date',\n",
        "                   y='events_cnt',\n",
        "                   ax=ax[0]).set(title='Количество событий по дням в группе A',\n",
        "                                 xlabel='Дата',\n",
        "                             ylabel='Количество событий в день')\n",
        "plt.sca(ax[0])\n",
        "plt.xticks(rotation=50)\n",
        "\n",
        "fig1 = sns.barplot(data=events_B_cnt_per_day, \n",
        "                   x='event_date',\n",
        "                   y='events_cnt',\n",
        "                   ax=ax[1]).set(title='Количество событий по дням в группе B',\n",
        "                                 xlabel='Дата',\n",
        "                                 ylabel='Количество событий в день')\n",
        "plt.sca(ax[1])\n",
        "plt.xticks(rotation=50);\n"
      ]
    },
    {
      "cell_type": "markdown",
      "metadata": {
        "id": "HcITzG3UtZ5n"
      },
      "source": [
        "Для обеих групп рекламная компания в честь Рождества не повлияла на всплеск активности. Можем двигаться дальше."
      ]
    },
    {
      "cell_type": "markdown",
      "metadata": {
        "id": "mzcOcsm-MJ99"
      },
      "source": [
        "### Аудитория теста"
      ]
    },
    {
      "cell_type": "markdown",
      "metadata": {
        "id": "sp_xLMvLMQae"
      },
      "source": [
        "Удостоверимся, что нет пересечений с конкурирующим тестом и нет пользователей, участвующих в двух группах теста одновременно. Проверим равномерность распределения по тестовым группам и правильность их формирования."
      ]
    },
    {
      "cell_type": "code",
      "execution_count": 25,
      "metadata": {
        "colab": {
          "base_uri": "https://localhost:8080/"
        },
        "id": "9CmovkR64dVj",
        "outputId": "1ce6f553-2c51-4afd-cf56-ad2981e87ba6"
      },
      "outputs": [
        {
          "output_type": "stream",
          "name": "stdout",
          "text": [
            "Количество пользователей, состоящих одновременно в двух группах нашего теста: 0\n"
          ]
        }
      ],
      "source": [
        "# проверим, что пользователи нашего теста состоят лишь в олной группе этого теста\n",
        "print(f'''Количество пользователей, состоящих одновременно в двух группах нашего теста: {\n",
        "    len(participants_filtered.groupby('user_id', as_index=False)['group'].count().rename(columns={'group': 'group_cnt'}).query('group_cnt > 1'))\n",
        "}''')\n"
      ]
    },
    {
      "cell_type": "markdown",
      "metadata": {
        "id": "Zo7xL6eb5ZXk"
      },
      "source": [
        "Распределение по группах с точки зрения не пересечения двух групп корректно. \n",
        "\n",
        "Теперь посчитаем размеры групп."
      ]
    },
    {
      "cell_type": "code",
      "execution_count": 26,
      "metadata": {
        "colab": {
          "base_uri": "https://localhost:8080/"
        },
        "id": "Ji_lR02mMNPP",
        "outputId": "3f85b830-e7c2-4f5f-f0db-2cd3247578d9"
      },
      "outputs": [
        {
          "output_type": "stream",
          "name": "stdout",
          "text": [
            "Размер группы A: 3634\n",
            "Размер группы B: 2717\n",
            "Процентное различие размеров груп: 25.23%\n"
          ]
        }
      ],
      "source": [
        "# посчитаем размеры групп\n",
        "\n",
        "participants_A = participants_filtered.query('group == \"A\"')\n",
        "participants_B = participants_filtered.query('group == \"B\"')\n",
        "cnt_A, cnt_B = len(participants_A), len(participants_B)\n",
        "\n",
        "print(f'Размер группы A: {cnt_A}\\nРазмер группы B: {cnt_B}\\nПроцентное различие размеров груп: {abs(cnt_B - cnt_A) / max(cnt_B, cnt_A):.2%}')\n"
      ]
    },
    {
      "cell_type": "markdown",
      "metadata": {
        "id": "zzLDccUp62R4"
      },
      "source": [
        "Размеры групп, конечно, ощутимо отличаются, но так как мы тестируем относительную метрику - конверсию, то в целом провести тест можно.\n",
        "\n",
        "Посмотрим на пересечения с конкурирующим тестом.\n",
        "\n"
      ]
    },
    {
      "cell_type": "code",
      "execution_count": 27,
      "metadata": {
        "colab": {
          "base_uri": "https://localhost:8080/",
          "height": 477
        },
        "id": "_dY4vXhDtsEK",
        "outputId": "aeb69bdd-4334-4646-e43d-df6dad1f896c"
      },
      "outputs": [
        {
          "output_type": "stream",
          "name": "stdout",
          "text": [
            "Количество людей, участвующих в двух тестах одновременно: 1602\n",
            "\n",
            "Участники нашего теста, состоящие в группе B другого теста\n"
          ]
        },
        {
          "output_type": "execute_result",
          "data": {
            "text/plain": [
              "               user_id group                  ab_test first_date region  \\\n",
              "29    5D5E6EE92AF6E9E0     B  recommender_system_test 2020-12-21     EU   \n",
              "44    FC3F3E4DA7C85F88     A  recommender_system_test 2020-12-20     EU   \n",
              "49    FE2AF0E94DBD470E     A  recommender_system_test 2020-12-21     EU   \n",
              "53    952D1EEBF552BC95     B  recommender_system_test 2020-12-21     EU   \n",
              "60    C5AD06762E628169     A  recommender_system_test 2020-12-09     EU   \n",
              "...                ...   ...                      ...        ...    ...   \n",
              "6305  32164CC8F884B9A5     A  recommender_system_test 2020-12-11     EU   \n",
              "6309  7FE6DDDB6C85C934     A  recommender_system_test 2020-12-11     EU   \n",
              "6311  8F72F2114F2D5184     B  recommender_system_test 2020-12-12     EU   \n",
              "6318  96BDD55846D1F7F6     A  recommender_system_test 2020-12-20     EU   \n",
              "6323  C2DC7B6881CE6E30     B  recommender_system_test 2020-12-10     EU   \n",
              "\n",
              "       device  \n",
              "29    Android  \n",
              "44         PC  \n",
              "49    Android  \n",
              "53    Android  \n",
              "60    Android  \n",
              "...       ...  \n",
              "6305  Android  \n",
              "6309   iPhone  \n",
              "6311       PC  \n",
              "6318   iPhone  \n",
              "6323       PC  \n",
              "\n",
              "[783 rows x 6 columns]"
            ],
            "text/html": [
              "\n",
              "  <div id=\"df-c7585b2d-8d50-4b31-8a0f-382c821ad300\">\n",
              "    <div class=\"colab-df-container\">\n",
              "      <div>\n",
              "<style scoped>\n",
              "    .dataframe tbody tr th:only-of-type {\n",
              "        vertical-align: middle;\n",
              "    }\n",
              "\n",
              "    .dataframe tbody tr th {\n",
              "        vertical-align: top;\n",
              "    }\n",
              "\n",
              "    .dataframe thead th {\n",
              "        text-align: right;\n",
              "    }\n",
              "</style>\n",
              "<table border=\"1\" class=\"dataframe\">\n",
              "  <thead>\n",
              "    <tr style=\"text-align: right;\">\n",
              "      <th></th>\n",
              "      <th>user_id</th>\n",
              "      <th>group</th>\n",
              "      <th>ab_test</th>\n",
              "      <th>first_date</th>\n",
              "      <th>region</th>\n",
              "      <th>device</th>\n",
              "    </tr>\n",
              "  </thead>\n",
              "  <tbody>\n",
              "    <tr>\n",
              "      <th>29</th>\n",
              "      <td>5D5E6EE92AF6E9E0</td>\n",
              "      <td>B</td>\n",
              "      <td>recommender_system_test</td>\n",
              "      <td>2020-12-21</td>\n",
              "      <td>EU</td>\n",
              "      <td>Android</td>\n",
              "    </tr>\n",
              "    <tr>\n",
              "      <th>44</th>\n",
              "      <td>FC3F3E4DA7C85F88</td>\n",
              "      <td>A</td>\n",
              "      <td>recommender_system_test</td>\n",
              "      <td>2020-12-20</td>\n",
              "      <td>EU</td>\n",
              "      <td>PC</td>\n",
              "    </tr>\n",
              "    <tr>\n",
              "      <th>49</th>\n",
              "      <td>FE2AF0E94DBD470E</td>\n",
              "      <td>A</td>\n",
              "      <td>recommender_system_test</td>\n",
              "      <td>2020-12-21</td>\n",
              "      <td>EU</td>\n",
              "      <td>Android</td>\n",
              "    </tr>\n",
              "    <tr>\n",
              "      <th>53</th>\n",
              "      <td>952D1EEBF552BC95</td>\n",
              "      <td>B</td>\n",
              "      <td>recommender_system_test</td>\n",
              "      <td>2020-12-21</td>\n",
              "      <td>EU</td>\n",
              "      <td>Android</td>\n",
              "    </tr>\n",
              "    <tr>\n",
              "      <th>60</th>\n",
              "      <td>C5AD06762E628169</td>\n",
              "      <td>A</td>\n",
              "      <td>recommender_system_test</td>\n",
              "      <td>2020-12-09</td>\n",
              "      <td>EU</td>\n",
              "      <td>Android</td>\n",
              "    </tr>\n",
              "    <tr>\n",
              "      <th>...</th>\n",
              "      <td>...</td>\n",
              "      <td>...</td>\n",
              "      <td>...</td>\n",
              "      <td>...</td>\n",
              "      <td>...</td>\n",
              "      <td>...</td>\n",
              "    </tr>\n",
              "    <tr>\n",
              "      <th>6305</th>\n",
              "      <td>32164CC8F884B9A5</td>\n",
              "      <td>A</td>\n",
              "      <td>recommender_system_test</td>\n",
              "      <td>2020-12-11</td>\n",
              "      <td>EU</td>\n",
              "      <td>Android</td>\n",
              "    </tr>\n",
              "    <tr>\n",
              "      <th>6309</th>\n",
              "      <td>7FE6DDDB6C85C934</td>\n",
              "      <td>A</td>\n",
              "      <td>recommender_system_test</td>\n",
              "      <td>2020-12-11</td>\n",
              "      <td>EU</td>\n",
              "      <td>iPhone</td>\n",
              "    </tr>\n",
              "    <tr>\n",
              "      <th>6311</th>\n",
              "      <td>8F72F2114F2D5184</td>\n",
              "      <td>B</td>\n",
              "      <td>recommender_system_test</td>\n",
              "      <td>2020-12-12</td>\n",
              "      <td>EU</td>\n",
              "      <td>PC</td>\n",
              "    </tr>\n",
              "    <tr>\n",
              "      <th>6318</th>\n",
              "      <td>96BDD55846D1F7F6</td>\n",
              "      <td>A</td>\n",
              "      <td>recommender_system_test</td>\n",
              "      <td>2020-12-20</td>\n",
              "      <td>EU</td>\n",
              "      <td>iPhone</td>\n",
              "    </tr>\n",
              "    <tr>\n",
              "      <th>6323</th>\n",
              "      <td>C2DC7B6881CE6E30</td>\n",
              "      <td>B</td>\n",
              "      <td>recommender_system_test</td>\n",
              "      <td>2020-12-10</td>\n",
              "      <td>EU</td>\n",
              "      <td>PC</td>\n",
              "    </tr>\n",
              "  </tbody>\n",
              "</table>\n",
              "<p>783 rows × 6 columns</p>\n",
              "</div>\n",
              "      <button class=\"colab-df-convert\" onclick=\"convertToInteractive('df-c7585b2d-8d50-4b31-8a0f-382c821ad300')\"\n",
              "              title=\"Convert this dataframe to an interactive table.\"\n",
              "              style=\"display:none;\">\n",
              "        \n",
              "  <svg xmlns=\"http://www.w3.org/2000/svg\" height=\"24px\"viewBox=\"0 0 24 24\"\n",
              "       width=\"24px\">\n",
              "    <path d=\"M0 0h24v24H0V0z\" fill=\"none\"/>\n",
              "    <path d=\"M18.56 5.44l.94 2.06.94-2.06 2.06-.94-2.06-.94-.94-2.06-.94 2.06-2.06.94zm-11 1L8.5 8.5l.94-2.06 2.06-.94-2.06-.94L8.5 2.5l-.94 2.06-2.06.94zm10 10l.94 2.06.94-2.06 2.06-.94-2.06-.94-.94-2.06-.94 2.06-2.06.94z\"/><path d=\"M17.41 7.96l-1.37-1.37c-.4-.4-.92-.59-1.43-.59-.52 0-1.04.2-1.43.59L10.3 9.45l-7.72 7.72c-.78.78-.78 2.05 0 2.83L4 21.41c.39.39.9.59 1.41.59.51 0 1.02-.2 1.41-.59l7.78-7.78 2.81-2.81c.8-.78.8-2.07 0-2.86zM5.41 20L4 18.59l7.72-7.72 1.47 1.35L5.41 20z\"/>\n",
              "  </svg>\n",
              "      </button>\n",
              "      \n",
              "  <style>\n",
              "    .colab-df-container {\n",
              "      display:flex;\n",
              "      flex-wrap:wrap;\n",
              "      gap: 12px;\n",
              "    }\n",
              "\n",
              "    .colab-df-convert {\n",
              "      background-color: #E8F0FE;\n",
              "      border: none;\n",
              "      border-radius: 50%;\n",
              "      cursor: pointer;\n",
              "      display: none;\n",
              "      fill: #1967D2;\n",
              "      height: 32px;\n",
              "      padding: 0 0 0 0;\n",
              "      width: 32px;\n",
              "    }\n",
              "\n",
              "    .colab-df-convert:hover {\n",
              "      background-color: #E2EBFA;\n",
              "      box-shadow: 0px 1px 2px rgba(60, 64, 67, 0.3), 0px 1px 3px 1px rgba(60, 64, 67, 0.15);\n",
              "      fill: #174EA6;\n",
              "    }\n",
              "\n",
              "    [theme=dark] .colab-df-convert {\n",
              "      background-color: #3B4455;\n",
              "      fill: #D2E3FC;\n",
              "    }\n",
              "\n",
              "    [theme=dark] .colab-df-convert:hover {\n",
              "      background-color: #434B5C;\n",
              "      box-shadow: 0px 1px 3px 1px rgba(0, 0, 0, 0.15);\n",
              "      filter: drop-shadow(0px 1px 2px rgba(0, 0, 0, 0.3));\n",
              "      fill: #FFFFFF;\n",
              "    }\n",
              "  </style>\n",
              "\n",
              "      <script>\n",
              "        const buttonEl =\n",
              "          document.querySelector('#df-c7585b2d-8d50-4b31-8a0f-382c821ad300 button.colab-df-convert');\n",
              "        buttonEl.style.display =\n",
              "          google.colab.kernel.accessAllowed ? 'block' : 'none';\n",
              "\n",
              "        async function convertToInteractive(key) {\n",
              "          const element = document.querySelector('#df-c7585b2d-8d50-4b31-8a0f-382c821ad300');\n",
              "          const dataTable =\n",
              "            await google.colab.kernel.invokeFunction('convertToInteractive',\n",
              "                                                     [key], {});\n",
              "          if (!dataTable) return;\n",
              "\n",
              "          const docLinkHtml = 'Like what you see? Visit the ' +\n",
              "            '<a target=\"_blank\" href=https://colab.research.google.com/notebooks/data_table.ipynb>data table notebook</a>'\n",
              "            + ' to learn more about interactive tables.';\n",
              "          element.innerHTML = '';\n",
              "          dataTable['output_type'] = 'display_data';\n",
              "          await google.colab.output.renderOutput(dataTable, element);\n",
              "          const docLink = document.createElement('div');\n",
              "          docLink.innerHTML = docLinkHtml;\n",
              "          element.appendChild(docLink);\n",
              "        }\n",
              "      </script>\n",
              "    </div>\n",
              "  </div>\n",
              "  "
            ]
          },
          "metadata": {},
          "execution_count": 27
        }
      ],
      "source": [
        "# пересечения с конкурирующим тестом\n",
        "participants_2_tests = participants.groupby('user_id', as_index=False)['ab_test'].count().rename(columns={'ab_test': 'test_cnt'}).query('test_cnt > 1')\n",
        "print(f'Количество людей, участвующих в двух тестах одновременно: {len(participants_2_tests)}')\n",
        "\n",
        "print()\n",
        "print('Участники нашего теста, состоящие в группе B другого теста')\n",
        "second_test_b_group = participants.query('group == \"B\" and ab_test == \"interface_eu_test\"').user_id.unique()\n",
        "participants_filtered.query('user_id in @second_test_b_group')"
      ]
    },
    {
      "cell_type": "markdown",
      "metadata": {
        "id": "F-wfA3EU215G"
      },
      "source": [
        "Посмотрим, сколько из них принадлежат каждой из групп A и B нашего теста."
      ]
    },
    {
      "cell_type": "code",
      "execution_count": 28,
      "metadata": {
        "colab": {
          "base_uri": "https://localhost:8080/"
        },
        "id": "vCpREqtlzrnC",
        "outputId": "bdbabef0-c42a-4d85-b8e9-23a81b299ed4"
      },
      "outputs": [
        {
          "output_type": "stream",
          "name": "stdout",
          "text": [
            "A: 439\n",
            "B: 344\n"
          ]
        }
      ],
      "source": [
        "cnt_A_participate_in_other_test_B_group, cnt_B_participate_in_other_test_B_group = participants_filtered.query('user_id in @second_test_b_group')['group'].value_counts()\n",
        "print(f'A: {cnt_A_participate_in_other_test_B_group}\\nB: {cnt_B_participate_in_other_test_B_group}')\n"
      ]
    },
    {
      "cell_type": "markdown",
      "metadata": {
        "id": "NNlLCIw_288V"
      },
      "source": [
        "Посмотрим, сколько процентов каждой группы пересекаются с тестируемой группой B другого теста:"
      ]
    },
    {
      "cell_type": "code",
      "execution_count": 29,
      "metadata": {
        "colab": {
          "base_uri": "https://localhost:8080/"
        },
        "id": "YtBVIP7q20ZM",
        "outputId": "f527cba6-b7f7-4939-8df3-165f924bb091"
      },
      "outputs": [
        {
          "output_type": "stream",
          "name": "stdout",
          "text": [
            "процент пересечения в группе A: 12.08%\n",
            "процент пересечения в группе B: 12.66%\n"
          ]
        }
      ],
      "source": [
        "print(f'процент пересечения в группе A: {cnt_A_participate_in_other_test_B_group / cnt_A:.2%}\\nпроцент пересечения в группе B: {cnt_B_participate_in_other_test_B_group / cnt_B:.2%}')"
      ]
    },
    {
      "cell_type": "markdown",
      "metadata": {
        "id": "Vz0JE3D54Mvt"
      },
      "source": [
        "Так как проценты задействованых в другом тесте примерно равны, можно считать, что влияние, оказываемое другим тестом на группы, будет примерно одинаковым и на результаты нашего теста не повлияет. \n",
        "\n",
        "\n",
        "Посмотрим, есть ли в наших группах пользователи, не совершавших за время тестирование действий."
      ]
    },
    {
      "cell_type": "code",
      "execution_count": 30,
      "metadata": {
        "colab": {
          "base_uri": "https://localhost:8080/"
        },
        "id": "ADi7rktz4DqJ",
        "outputId": "7378428a-6e82-480d-de96-2eb55c42aa3c"
      },
      "outputs": [
        {
          "output_type": "stream",
          "name": "stdout",
          "text": [
            "Количество бездействующих в группе A: 1030\n",
            "Количество бездействующих в группе B: 1840\n",
            "\n",
            "Процент бездействующих в группе A: 28.34%\n",
            "Процент бездействующих в группе B: 67.72%\n"
          ]
        }
      ],
      "source": [
        "idle_participants_A = events_A.groupby('user_id', as_index=False)['event_name'].count().rename(columns={'event_name': 'events_cnt'}).query('events_cnt == 0')\n",
        "idle_participants_B = events_B.groupby('user_id', as_index=False)['event_name'].count().rename(columns={'event_name': 'events_cnt'}).query('events_cnt == 0')\n",
        "\n",
        "print(f'Количество бездействующих в группе A: {len(idle_participants_A)}\\nКоличество бездействующих в группе B: {len(idle_participants_B)}')\n",
        "print()\n",
        "print(f'Процент бездействующих в группе A: {len(idle_participants_A) / cnt_A:.2%}\\nПроцент бездействующих в группе B: {len(idle_participants_B) / cnt_B:.2%}')"
      ]
    },
    {
      "cell_type": "markdown",
      "metadata": {
        "id": "BSInr74r-hyc"
      },
      "source": [
        "В наших группах оказалось очень много мертвых душ, к тому же, в тестируемой группе их более, чем в два раза больше. Это может сильно повлиять на результаты теста."
      ]
    },
    {
      "cell_type": "markdown",
      "metadata": {
        "id": "hElmQvFO-yv2"
      },
      "source": [
        "## Исследовательский анализ данных"
      ]
    },
    {
      "cell_type": "markdown",
      "metadata": {
        "id": "zIQtfzw0jDWe"
      },
      "source": [
        "### Распределение количества событий на пользователя в разных группах"
      ]
    },
    {
      "cell_type": "code",
      "execution_count": 31,
      "metadata": {
        "colab": {
          "base_uri": "https://localhost:8080/",
          "height": 387
        },
        "id": "0vghRSfK-2QD",
        "outputId": "2f7e1687-d8cd-45df-a7dc-bc2a94ad3523"
      },
      "outputs": [
        {
          "output_type": "display_data",
          "data": {
            "text/plain": [
              "<Figure size 1296x432 with 2 Axes>"
            ],
            "image/png": "[encoded data removed]"
          },
          "metadata": {
            "needs_background": "light"
          }
        }
      ],
      "source": [
        "events_A_cnt_per_user = events_A.groupby('user_id', as_index=False)['event_dt'].count().rename(columns={'event_dt': 'events_cnt'})\n",
        "events_B_cnt_per_user = events_B.groupby('user_id', as_index=False)['event_dt'].count().rename(columns={'event_dt': 'events_cnt'})\n",
        "\n",
        "fig, ax = plt.subplots(1, 2, figsize=(18,6))\n",
        "\n",
        "\n",
        "fig1 = sns.histplot(data=events_A_cnt_per_user, \n",
        "                   x='events_cnt',\n",
        "                   ax=ax[0]).set(title='Распределение количества событий на пользователя в группе A',\n",
        "                                 xlabel='Количество событий, совершенных пользователем',\n",
        "                                 ylabel='Количество пользователей')\n",
        "plt.sca(ax[0])\n",
        "\n",
        "\n",
        "fig1 = sns.histplot(data=events_B_cnt_per_user, \n",
        "                   x='events_cnt',\n",
        "                   ax=ax[1]).set(title='Распределение количества событий на пользователя в группе B',\n",
        "                                 xlabel='Количество событий, совершенных пользователем',\n",
        "                                 ylabel='Количество пользователей')\n",
        "plt.sca(ax[1])\n",
        "\n"
      ]
    },
    {
      "cell_type": "code",
      "execution_count": 32,
      "metadata": {
        "colab": {
          "base_uri": "https://localhost:8080/",
          "height": 700
        },
        "id": "n6jLnHB_use4",
        "outputId": "e1a6eba5-dd32-4c5d-b78a-89ebad98549f"
      },
      "outputs": [
        {
          "output_type": "stream",
          "name": "stdout",
          "text": [
            "Распределение количества событий на пользователя в группе A\n"
          ]
        },
        {
          "output_type": "display_data",
          "data": {
            "text/plain": [
              "        events_cnt\n",
              "count  3634.000000\n",
              "mean      5.038250\n",
              "std       4.559231\n",
              "min       0.000000\n",
              "50%       4.000000\n",
              "75%       8.000000\n",
              "95%      12.000000\n",
              "99%      18.000000\n",
              "max      24.000000"
            ],
            "text/html": [
              "\n",
              "  <div id=\"df-b19b98a1-b262-43c3-8e69-0c0b07745616\">\n",
              "    <div class=\"colab-df-container\">\n",
              "      <div>\n",
              "<style scoped>\n",
              "    .dataframe tbody tr th:only-of-type {\n",
              "        vertical-align: middle;\n",
              "    }\n",
              "\n",
              "    .dataframe tbody tr th {\n",
              "        vertical-align: top;\n",
              "    }\n",
              "\n",
              "    .dataframe thead th {\n",
              "        text-align: right;\n",
              "    }\n",
              "</style>\n",
              "<table border=\"1\" class=\"dataframe\">\n",
              "  <thead>\n",
              "    <tr style=\"text-align: right;\">\n",
              "      <th></th>\n",
              "      <th>events_cnt</th>\n",
              "    </tr>\n",
              "  </thead>\n",
              "  <tbody>\n",
              "    <tr>\n",
              "      <th>count</th>\n",
              "      <td>3634.000000</td>\n",
              "    </tr>\n",
              "    <tr>\n",
              "      <th>mean</th>\n",
              "      <td>5.038250</td>\n",
              "    </tr>\n",
              "    <tr>\n",
              "      <th>std</th>\n",
              "      <td>4.559231</td>\n",
              "    </tr>\n",
              "    <tr>\n",
              "      <th>min</th>\n",
              "      <td>0.000000</td>\n",
              "    </tr>\n",
              "    <tr>\n",
              "      <th>50%</th>\n",
              "      <td>4.000000</td>\n",
              "    </tr>\n",
              "    <tr>\n",
              "      <th>75%</th>\n",
              "      <td>8.000000</td>\n",
              "    </tr>\n",
              "    <tr>\n",
              "      <th>95%</th>\n",
              "      <td>12.000000</td>\n",
              "    </tr>\n",
              "    <tr>\n",
              "      <th>99%</th>\n",
              "      <td>18.000000</td>\n",
              "    </tr>\n",
              "    <tr>\n",
              "      <th>max</th>\n",
              "      <td>24.000000</td>\n",
              "    </tr>\n",
              "  </tbody>\n",
              "</table>\n",
              "</div>\n",
              "      <button class=\"colab-df-convert\" onclick=\"convertToInteractive('df-b19b98a1-b262-43c3-8e69-0c0b07745616')\"\n",
              "              title=\"Convert this dataframe to an interactive table.\"\n",
              "              style=\"display:none;\">\n",
              "        \n",
              "  <svg xmlns=\"http://www.w3.org/2000/svg\" height=\"24px\"viewBox=\"0 0 24 24\"\n",
              "       width=\"24px\">\n",
              "    <path d=\"M0 0h24v24H0V0z\" fill=\"none\"/>\n",
              "    <path d=\"M18.56 5.44l.94 2.06.94-2.06 2.06-.94-2.06-.94-.94-2.06-.94 2.06-2.06.94zm-11 1L8.5 8.5l.94-2.06 2.06-.94-2.06-.94L8.5 2.5l-.94 2.06-2.06.94zm10 10l.94 2.06.94-2.06 2.06-.94-2.06-.94-.94-2.06-.94 2.06-2.06.94z\"/><path d=\"M17.41 7.96l-1.37-1.37c-.4-.4-.92-.59-1.43-.59-.52 0-1.04.2-1.43.59L10.3 9.45l-7.72 7.72c-.78.78-.78 2.05 0 2.83L4 21.41c.39.39.9.59 1.41.59.51 0 1.02-.2 1.41-.59l7.78-7.78 2.81-2.81c.8-.78.8-2.07 0-2.86zM5.41 20L4 18.59l7.72-7.72 1.47 1.35L5.41 20z\"/>\n",
              "  </svg>\n",
              "      </button>\n",
              "      \n",
              "  <style>\n",
              "    .colab-df-container {\n",
              "      display:flex;\n",
              "      flex-wrap:wrap;\n",
              "      gap: 12px;\n",
              "    }\n",
              "\n",
              "    .colab-df-convert {\n",
              "      background-color: #E8F0FE;\n",
              "      border: none;\n",
              "      border-radius: 50%;\n",
              "      cursor: pointer;\n",
              "      display: none;\n",
              "      fill: #1967D2;\n",
              "      height: 32px;\n",
              "      padding: 0 0 0 0;\n",
              "      width: 32px;\n",
              "    }\n",
              "\n",
              "    .colab-df-convert:hover {\n",
              "      background-color: #E2EBFA;\n",
              "      box-shadow: 0px 1px 2px rgba(60, 64, 67, 0.3), 0px 1px 3px 1px rgba(60, 64, 67, 0.15);\n",
              "      fill: #174EA6;\n",
              "    }\n",
              "\n",
              "    [theme=dark] .colab-df-convert {\n",
              "      background-color: #3B4455;\n",
              "      fill: #D2E3FC;\n",
              "    }\n",
              "\n",
              "    [theme=dark] .colab-df-convert:hover {\n",
              "      background-color: #434B5C;\n",
              "      box-shadow: 0px 1px 3px 1px rgba(0, 0, 0, 0.15);\n",
              "      filter: drop-shadow(0px 1px 2px rgba(0, 0, 0, 0.3));\n",
              "      fill: #FFFFFF;\n",
              "    }\n",
              "  </style>\n",
              "\n",
              "      <script>\n",
              "        const buttonEl =\n",
              "          document.querySelector('#df-b19b98a1-b262-43c3-8e69-0c0b07745616 button.colab-df-convert');\n",
              "        buttonEl.style.display =\n",
              "          google.colab.kernel.accessAllowed ? 'block' : 'none';\n",
              "\n",
              "        async function convertToInteractive(key) {\n",
              "          const element = document.querySelector('#df-b19b98a1-b262-43c3-8e69-0c0b07745616');\n",
              "          const dataTable =\n",
              "            await google.colab.kernel.invokeFunction('convertToInteractive',\n",
              "                                                     [key], {});\n",
              "          if (!dataTable) return;\n",
              "\n",
              "          const docLinkHtml = 'Like what you see? Visit the ' +\n",
              "            '<a target=\"_blank\" href=https://colab.research.google.com/notebooks/data_table.ipynb>data table notebook</a>'\n",
              "            + ' to learn more about interactive tables.';\n",
              "          element.innerHTML = '';\n",
              "          dataTable['output_type'] = 'display_data';\n",
              "          await google.colab.output.renderOutput(dataTable, element);\n",
              "          const docLink = document.createElement('div');\n",
              "          docLink.innerHTML = docLinkHtml;\n",
              "          element.appendChild(docLink);\n",
              "        }\n",
              "      </script>\n",
              "    </div>\n",
              "  </div>\n",
              "  "
            ]
          },
          "metadata": {}
        },
        {
          "output_type": "stream",
          "name": "stdout",
          "text": [
            "\n",
            "Распределение количества событий на пользователя в группе B\n"
          ]
        },
        {
          "output_type": "display_data",
          "data": {
            "text/plain": [
              "        events_cnt\n",
              "count  2717.000000\n",
              "mean      1.881119\n",
              "std       3.370506\n",
              "min       0.000000\n",
              "50%       0.000000\n",
              "75%       3.000000\n",
              "95%       9.000000\n",
              "99%      12.000000\n",
              "max      28.000000"
            ],
            "text/html": [
              "\n",
              "  <div id=\"df-200ce8a2-1a6b-40f3-8856-e3a2df494b46\">\n",
              "    <div class=\"colab-df-container\">\n",
              "      <div>\n",
              "<style scoped>\n",
              "    .dataframe tbody tr th:only-of-type {\n",
              "        vertical-align: middle;\n",
              "    }\n",
              "\n",
              "    .dataframe tbody tr th {\n",
              "        vertical-align: top;\n",
              "    }\n",
              "\n",
              "    .dataframe thead th {\n",
              "        text-align: right;\n",
              "    }\n",
              "</style>\n",
              "<table border=\"1\" class=\"dataframe\">\n",
              "  <thead>\n",
              "    <tr style=\"text-align: right;\">\n",
              "      <th></th>\n",
              "      <th>events_cnt</th>\n",
              "    </tr>\n",
              "  </thead>\n",
              "  <tbody>\n",
              "    <tr>\n",
              "      <th>count</th>\n",
              "      <td>2717.000000</td>\n",
              "    </tr>\n",
              "    <tr>\n",
              "      <th>mean</th>\n",
              "      <td>1.881119</td>\n",
              "    </tr>\n",
              "    <tr>\n",
              "      <th>std</th>\n",
              "      <td>3.370506</td>\n",
              "    </tr>\n",
              "    <tr>\n",
              "      <th>min</th>\n",
              "      <td>0.000000</td>\n",
              "    </tr>\n",
              "    <tr>\n",
              "      <th>50%</th>\n",
              "      <td>0.000000</td>\n",
              "    </tr>\n",
              "    <tr>\n",
              "      <th>75%</th>\n",
              "      <td>3.000000</td>\n",
              "    </tr>\n",
              "    <tr>\n",
              "      <th>95%</th>\n",
              "      <td>9.000000</td>\n",
              "    </tr>\n",
              "    <tr>\n",
              "      <th>99%</th>\n",
              "      <td>12.000000</td>\n",
              "    </tr>\n",
              "    <tr>\n",
              "      <th>max</th>\n",
              "      <td>28.000000</td>\n",
              "    </tr>\n",
              "  </tbody>\n",
              "</table>\n",
              "</div>\n",
              "      <button class=\"colab-df-convert\" onclick=\"convertToInteractive('df-200ce8a2-1a6b-40f3-8856-e3a2df494b46')\"\n",
              "              title=\"Convert this dataframe to an interactive table.\"\n",
              "              style=\"display:none;\">\n",
              "        \n",
              "  <svg xmlns=\"http://www.w3.org/2000/svg\" height=\"24px\"viewBox=\"0 0 24 24\"\n",
              "       width=\"24px\">\n",
              "    <path d=\"M0 0h24v24H0V0z\" fill=\"none\"/>\n",
              "    <path d=\"M18.56 5.44l.94 2.06.94-2.06 2.06-.94-2.06-.94-.94-2.06-.94 2.06-2.06.94zm-11 1L8.5 8.5l.94-2.06 2.06-.94-2.06-.94L8.5 2.5l-.94 2.06-2.06.94zm10 10l.94 2.06.94-2.06 2.06-.94-2.06-.94-.94-2.06-.94 2.06-2.06.94z\"/><path d=\"M17.41 7.96l-1.37-1.37c-.4-.4-.92-.59-1.43-.59-.52 0-1.04.2-1.43.59L10.3 9.45l-7.72 7.72c-.78.78-.78 2.05 0 2.83L4 21.41c.39.39.9.59 1.41.59.51 0 1.02-.2 1.41-.59l7.78-7.78 2.81-2.81c.8-.78.8-2.07 0-2.86zM5.41 20L4 18.59l7.72-7.72 1.47 1.35L5.41 20z\"/>\n",
              "  </svg>\n",
              "      </button>\n",
              "      \n",
              "  <style>\n",
              "    .colab-df-container {\n",
              "      display:flex;\n",
              "      flex-wrap:wrap;\n",
              "      gap: 12px;\n",
              "    }\n",
              "\n",
              "    .colab-df-convert {\n",
              "      background-color: #E8F0FE;\n",
              "      border: none;\n",
              "      border-radius: 50%;\n",
              "      cursor: pointer;\n",
              "      display: none;\n",
              "      fill: #1967D2;\n",
              "      height: 32px;\n",
              "      padding: 0 0 0 0;\n",
              "      width: 32px;\n",
              "    }\n",
              "\n",
              "    .colab-df-convert:hover {\n",
              "      background-color: #E2EBFA;\n",
              "      box-shadow: 0px 1px 2px rgba(60, 64, 67, 0.3), 0px 1px 3px 1px rgba(60, 64, 67, 0.15);\n",
              "      fill: #174EA6;\n",
              "    }\n",
              "\n",
              "    [theme=dark] .colab-df-convert {\n",
              "      background-color: #3B4455;\n",
              "      fill: #D2E3FC;\n",
              "    }\n",
              "\n",
              "    [theme=dark] .colab-df-convert:hover {\n",
              "      background-color: #434B5C;\n",
              "      box-shadow: 0px 1px 3px 1px rgba(0, 0, 0, 0.15);\n",
              "      filter: drop-shadow(0px 1px 2px rgba(0, 0, 0, 0.3));\n",
              "      fill: #FFFFFF;\n",
              "    }\n",
              "  </style>\n",
              "\n",
              "      <script>\n",
              "        const buttonEl =\n",
              "          document.querySelector('#df-200ce8a2-1a6b-40f3-8856-e3a2df494b46 button.colab-df-convert');\n",
              "        buttonEl.style.display =\n",
              "          google.colab.kernel.accessAllowed ? 'block' : 'none';\n",
              "\n",
              "        async function convertToInteractive(key) {\n",
              "          const element = document.querySelector('#df-200ce8a2-1a6b-40f3-8856-e3a2df494b46');\n",
              "          const dataTable =\n",
              "            await google.colab.kernel.invokeFunction('convertToInteractive',\n",
              "                                                     [key], {});\n",
              "          if (!dataTable) return;\n",
              "\n",
              "          const docLinkHtml = 'Like what you see? Visit the ' +\n",
              "            '<a target=\"_blank\" href=https://colab.research.google.com/notebooks/data_table.ipynb>data table notebook</a>'\n",
              "            + ' to learn more about interactive tables.';\n",
              "          element.innerHTML = '';\n",
              "          dataTable['output_type'] = 'display_data';\n",
              "          await google.colab.output.renderOutput(dataTable, element);\n",
              "          const docLink = document.createElement('div');\n",
              "          docLink.innerHTML = docLinkHtml;\n",
              "          element.appendChild(docLink);\n",
              "        }\n",
              "      </script>\n",
              "    </div>\n",
              "  </div>\n",
              "  "
            ]
          },
          "metadata": {}
        }
      ],
      "source": [
        "print('Распределение количества событий на пользователя в группе A')\n",
        "display(events_A_cnt_per_user.describe(percentiles=[.5, .75, .95, .99]))\n",
        "print()\n",
        "print('Распределение количества событий на пользователя в группе B')\n",
        "display(events_B_cnt_per_user.describe(percentiles=[.5, .75, .95, .99]))"
      ]
    },
    {
      "cell_type": "markdown",
      "metadata": {
        "id": "8APbd6H0vQwv"
      },
      "source": [
        "Так как 99% значений количества событий на человека в обеих группах менее 20, то построим распределения в пределах 20 действий на пользователя."
      ]
    },
    {
      "cell_type": "code",
      "execution_count": 33,
      "metadata": {
        "colab": {
          "base_uri": "https://localhost:8080/",
          "height": 387
        },
        "id": "vp5JzT6PwNbW",
        "outputId": "7d463bc2-2b3e-4dbc-9395-3ed2bc01f16f"
      },
      "outputs": [
        {
          "output_type": "display_data",
          "data": {
            "text/plain": [
              "<Figure size 1296x432 with 2 Axes>"
            ],
            "image/png": "[encoded data removed]"
          },
          "metadata": {
            "needs_background": "light"
          }
        }
      ],
      "source": [
        "# строим те же распределения, избавившись от выбросов\n",
        "fig, ax = plt.subplots(1, 2, figsize=(18,6))\n",
        "\n",
        "fig1 = sns.histplot(data=events_A_cnt_per_user.query('events_cnt <= 20'), \n",
        "                   x='events_cnt',\n",
        "                   bins=20,\n",
        "                   color='red',\n",
        "                   alpha=0.5,\n",
        "                   label='Группа A',\n",
        "                   ax=ax[0]).set(title='Распределение количества событий на пользователя с учеом нулей',\n",
        "                                  xlabel='Количество событий, совершенных пользователем',\n",
        "                                  ylabel='Количество пользователей')\n",
        "\n",
        "\n",
        "\n",
        "fig1 = sns.histplot(data=events_B_cnt_per_user.query('events_cnt <= 20'), \n",
        "                   x='events_cnt',\n",
        "                   bins=20,\n",
        "                   alpha=0.5,\n",
        "                   label='Группа B',\n",
        "                   ax=ax[0])\n",
        "plt.sca(ax[0])\n",
        "ax[0].set_xticks(list(range(0, 21, 2)));\n",
        "ax[0].legend()\n",
        "\n",
        "fig2 = sns.histplot(data=events_A_cnt_per_user.query('events_cnt <= 20').query('events_cnt > 0'), \n",
        "                   x='events_cnt',\n",
        "                   bins=20,\n",
        "                   color='red',\n",
        "                   alpha=0.5,\n",
        "                   label='Группа A',\n",
        "                   ax=ax[1]).set(title='Распределение количества событий на пользователя без учета нулей',\n",
        "                                  xlabel='Количество событий, совершенных пользователем',\n",
        "                                  ylabel='Количество пользователей')\n",
        "\n",
        "\n",
        "\n",
        "fig2 = sns.histplot(data=events_B_cnt_per_user.query('events_cnt <= 20').query('events_cnt > 0'), \n",
        "                   x='events_cnt',\n",
        "                   bins=20,\n",
        "                   alpha=0.5,\n",
        "                   label='Группа B',\n",
        "                   ax=ax[1])\n",
        "plt.sca(ax[1])\n",
        "ax[1].set_xticks(list(range(0, 21, 2)))\n",
        "ax[1].legend();"
      ]
    },
    {
      "cell_type": "markdown",
      "metadata": {
        "id": "Q7Y7mf9zxWbR"
      },
      "source": [
        "Распределения имеют одинаковую форму, однако в группе A пользователи сильно активнее пользователей в группе B. Но это объясняется тем, что в группе B большая часть пользователей неактивны."
      ]
    },
    {
      "cell_type": "code",
      "execution_count": 34,
      "metadata": {
        "colab": {
          "base_uri": "https://localhost:8080/"
        },
        "id": "Do4TdiQUsuuW",
        "outputId": "b2d68e9e-ee48-47cc-9629-8d1e3d2d16ae"
      },
      "outputs": [
        {
          "output_type": "stream",
          "name": "stdout",
          "text": [
            "Активных пользователей в группе A: 2604\n",
            "Активных пользователей в группе B: 877\n"
          ]
        }
      ],
      "source": [
        "print(f'Активных пользователей в группе A: {cnt_A - len(idle_participants_A)}')\n",
        "print(f'Активных пользователей в группе B: {cnt_B - len(idle_participants_B)}')"
      ]
    },
    {
      "cell_type": "markdown",
      "metadata": {
        "id": "TgZSNgFlyMhQ"
      },
      "source": [
        "Отсюда и возника такая разница в абсолютных значениях. Но по форме распределения одинаковы."
      ]
    },
    {
      "cell_type": "markdown",
      "metadata": {
        "id": "NkbKPEySyZX6"
      },
      "source": [
        "### Распределение количества событий по дням в разных группах"
      ]
    },
    {
      "cell_type": "markdown",
      "metadata": {
        "id": "C6NGmwSHyg2P"
      },
      "source": [
        "Мы уже смотрели на это распределение. Взглянем еще раз."
      ]
    },
    {
      "cell_type": "code",
      "execution_count": 35,
      "metadata": {
        "colab": {
          "base_uri": "https://localhost:8080/",
          "height": 421
        },
        "id": "RIOM3ZAnySd-",
        "outputId": "8b51430b-0ef8-4683-eb95-5c41bc499a89"
      },
      "outputs": [
        {
          "output_type": "display_data",
          "data": {
            "text/plain": [
              "<Figure size 1296x432 with 2 Axes>"
            ],
            "image/png": "[encoded data removed]"
          },
          "metadata": {
            "needs_background": "light"
          }
        }
      ],
      "source": [
        "fig, ax = plt.subplots(1, 2, figsize=(18,6))\n",
        "\n",
        "\n",
        "fig1 = sns.barplot(data=events_A_cnt_per_day, \n",
        "                   x='event_date',\n",
        "                   y='events_cnt',\n",
        "                   ax=ax[0]).set(title='Количество событий по дням в группе A',\n",
        "                                 xlabel='Дата',\n",
        "                             ylabel='Количество событий в день')\n",
        "plt.sca(ax[0])\n",
        "plt.xticks(rotation=50)\n",
        "\n",
        "fig1 = sns.barplot(data=events_B_cnt_per_day, \n",
        "                   x='event_date',\n",
        "                   y='events_cnt',\n",
        "                   ax=ax[1]).set(title='Количество событий по дням в группе B',\n",
        "                                 xlabel='Дата',\n",
        "                                 ylabel='Количество событий в день')\n",
        "plt.sca(ax[1])\n",
        "plt.xticks(rotation=50);"
      ]
    },
    {
      "cell_type": "code",
      "execution_count": 36,
      "metadata": {
        "colab": {
          "base_uri": "https://localhost:8080/",
          "height": 425
        },
        "id": "NNwjeCCJy41L",
        "outputId": "cffbc9a2-3256-4cc9-f9c6-fb412d85fe6a"
      },
      "outputs": [
        {
          "output_type": "display_data",
          "data": {
            "text/plain": [
              "<Figure size 1296x432 with 1 Axes>"
            ],
            "image/png": "[encoded data removed]"
          },
          "metadata": {
            "needs_background": "light"
          }
        }
      ],
      "source": [
        "fig, ax = plt.subplots(figsize=(18,6))\n",
        "\n",
        "sns.barplot(data=events_A_cnt_per_day, \n",
        "            x='event_date',\n",
        "            y='events_cnt',\n",
        "            label='Группа A',\n",
        "            color='red',\n",
        "            alpha=.5)\n",
        "\n",
        "\n",
        "sns.barplot(data=events_B_cnt_per_day, \n",
        "            x='event_date',\n",
        "            y='events_cnt',\n",
        "            label='Группа B',\n",
        "            color='blue',\n",
        "            alpha=.5)\n",
        "\n",
        "plt.title('Количество событий по дням')\n",
        "plt.xlabel('Дата')\n",
        "plt.ylabel('Количество событий в день')\n",
        "plt.legend()\n",
        "plt.xticks(rotation=50);"
      ]
    },
    {
      "cell_type": "markdown",
      "metadata": {
        "id": "6GOv7DT62tZe"
      },
      "source": [
        "В группе B количество событий по дням практически не менялось, а вот в группе A 14 декабря случился всплеск активности. Распределения количество действий по дням сильно отличаются.  \n",
        "\n",
        "\n",
        "Посомотрим на количество регистраций по дням для обеих групп."
      ]
    },
    {
      "cell_type": "code",
      "execution_count": 37,
      "metadata": {
        "colab": {
          "base_uri": "https://localhost:8080/",
          "height": 445
        },
        "id": "xGHfWsFR0cbl",
        "outputId": "48693dc9-da89-4f96-9136-fc3b24a90d6c"
      },
      "outputs": [
        {
          "output_type": "display_data",
          "data": {
            "text/plain": [
              "<Figure size 1080x432 with 1 Axes>"
            ],
            "image/png": "[encoded data removed]"
          },
          "metadata": {
            "needs_background": "light"
          }
        }
      ],
      "source": [
        "participants_filtered['first_date'] = pd.to_datetime(participants_filtered['first_date']).dt.date\n",
        "registrations_A_cnt_per_day = participants_filtered.query('group == \"A\"').groupby('first_date', as_index=False)['user_id'].count().rename(columns={'user_id': 'reg_cnt'})\n",
        "registrations_B_cnt_per_day = participants_filtered.query('group == \"B\"').groupby('first_date', as_index=False)['user_id'].count().rename(columns={'user_id': 'reg_cnt'})\n",
        "\n",
        "fig, ax = plt.subplots(figsize=(15,6))\n",
        "\n",
        "sns.barplot(data=registrations_A_cnt_per_day, \n",
        "            x='first_date',\n",
        "            y='reg_cnt',\n",
        "            label='Группа A',\n",
        "            color='red',\n",
        "            alpha=.5)\n",
        "\n",
        "\n",
        "sns.barplot(data=registrations_B_cnt_per_day, \n",
        "            x='first_date',\n",
        "            y='reg_cnt',\n",
        "            label='Группа B',\n",
        "            color='blue',\n",
        "            alpha=.5)\n",
        "\n",
        "plt.title('Количество регистраций по дням')\n",
        "plt.xlabel('Дата')\n",
        "plt.ylabel('Количество регистраций в день')\n",
        "plt.legend()\n",
        "plt.xticks(rotation=50);\n"
      ]
    },
    {
      "cell_type": "markdown",
      "metadata": {
        "id": "kYIvn4FY3CvU"
      },
      "source": [
        "Количество регистраций имеет примерно одну и ту же форму, абсолютные значения разные, но и количество пользователей в группе B меньше. Всплеск действий в группе A 14 декабря этим не объяснить."
      ]
    },
    {
      "cell_type": "markdown",
      "metadata": {
        "id": "894J69cO3WzK"
      },
      "source": [
        "### Как меняется конверсия в воронке в выборках на разных этапах?"
      ]
    },
    {
      "cell_type": "code",
      "execution_count": 38,
      "metadata": {
        "colab": {
          "base_uri": "https://localhost:8080/",
          "height": 206
        },
        "id": "uPSuURvA8SMc",
        "outputId": "f8bfffc9-75ca-4ea9-fed2-5371d74595eb"
      },
      "outputs": [
        {
          "output_type": "execute_result",
          "data": {
            "text/plain": [
              "group            A    B\n",
              "event_name             \n",
              "login         2604  877\n",
              "product_page  1685  493\n",
              "purchase       833  249\n",
              "product_cart   782  244"
            ],
            "text/html": [
              "\n",
              "  <div id=\"df-3308a6c1-5971-4cdc-94c0-53f18736071d\">\n",
              "    <div class=\"colab-df-container\">\n",
              "      <div>\n",
              "<style scoped>\n",
              "    .dataframe tbody tr th:only-of-type {\n",
              "        vertical-align: middle;\n",
              "    }\n",
              "\n",
              "    .dataframe tbody tr th {\n",
              "        vertical-align: top;\n",
              "    }\n",
              "\n",
              "    .dataframe thead th {\n",
              "        text-align: right;\n",
              "    }\n",
              "</style>\n",
              "<table border=\"1\" class=\"dataframe\">\n",
              "  <thead>\n",
              "    <tr style=\"text-align: right;\">\n",
              "      <th>group</th>\n",
              "      <th>A</th>\n",
              "      <th>B</th>\n",
              "    </tr>\n",
              "    <tr>\n",
              "      <th>event_name</th>\n",
              "      <th></th>\n",
              "      <th></th>\n",
              "    </tr>\n",
              "  </thead>\n",
              "  <tbody>\n",
              "    <tr>\n",
              "      <th>login</th>\n",
              "      <td>2604</td>\n",
              "      <td>877</td>\n",
              "    </tr>\n",
              "    <tr>\n",
              "      <th>product_page</th>\n",
              "      <td>1685</td>\n",
              "      <td>493</td>\n",
              "    </tr>\n",
              "    <tr>\n",
              "      <th>purchase</th>\n",
              "      <td>833</td>\n",
              "      <td>249</td>\n",
              "    </tr>\n",
              "    <tr>\n",
              "      <th>product_cart</th>\n",
              "      <td>782</td>\n",
              "      <td>244</td>\n",
              "    </tr>\n",
              "  </tbody>\n",
              "</table>\n",
              "</div>\n",
              "      <button class=\"colab-df-convert\" onclick=\"convertToInteractive('df-3308a6c1-5971-4cdc-94c0-53f18736071d')\"\n",
              "              title=\"Convert this dataframe to an interactive table.\"\n",
              "              style=\"display:none;\">\n",
              "        \n",
              "  <svg xmlns=\"http://www.w3.org/2000/svg\" height=\"24px\"viewBox=\"0 0 24 24\"\n",
              "       width=\"24px\">\n",
              "    <path d=\"M0 0h24v24H0V0z\" fill=\"none\"/>\n",
              "    <path d=\"M18.56 5.44l.94 2.06.94-2.06 2.06-.94-2.06-.94-.94-2.06-.94 2.06-2.06.94zm-11 1L8.5 8.5l.94-2.06 2.06-.94-2.06-.94L8.5 2.5l-.94 2.06-2.06.94zm10 10l.94 2.06.94-2.06 2.06-.94-2.06-.94-.94-2.06-.94 2.06-2.06.94z\"/><path d=\"M17.41 7.96l-1.37-1.37c-.4-.4-.92-.59-1.43-.59-.52 0-1.04.2-1.43.59L10.3 9.45l-7.72 7.72c-.78.78-.78 2.05 0 2.83L4 21.41c.39.39.9.59 1.41.59.51 0 1.02-.2 1.41-.59l7.78-7.78 2.81-2.81c.8-.78.8-2.07 0-2.86zM5.41 20L4 18.59l7.72-7.72 1.47 1.35L5.41 20z\"/>\n",
              "  </svg>\n",
              "      </button>\n",
              "      \n",
              "  <style>\n",
              "    .colab-df-container {\n",
              "      display:flex;\n",
              "      flex-wrap:wrap;\n",
              "      gap: 12px;\n",
              "    }\n",
              "\n",
              "    .colab-df-convert {\n",
              "      background-color: #E8F0FE;\n",
              "      border: none;\n",
              "      border-radius: 50%;\n",
              "      cursor: pointer;\n",
              "      display: none;\n",
              "      fill: #1967D2;\n",
              "      height: 32px;\n",
              "      padding: 0 0 0 0;\n",
              "      width: 32px;\n",
              "    }\n",
              "\n",
              "    .colab-df-convert:hover {\n",
              "      background-color: #E2EBFA;\n",
              "      box-shadow: 0px 1px 2px rgba(60, 64, 67, 0.3), 0px 1px 3px 1px rgba(60, 64, 67, 0.15);\n",
              "      fill: #174EA6;\n",
              "    }\n",
              "\n",
              "    [theme=dark] .colab-df-convert {\n",
              "      background-color: #3B4455;\n",
              "      fill: #D2E3FC;\n",
              "    }\n",
              "\n",
              "    [theme=dark] .colab-df-convert:hover {\n",
              "      background-color: #434B5C;\n",
              "      box-shadow: 0px 1px 3px 1px rgba(0, 0, 0, 0.15);\n",
              "      filter: drop-shadow(0px 1px 2px rgba(0, 0, 0, 0.3));\n",
              "      fill: #FFFFFF;\n",
              "    }\n",
              "  </style>\n",
              "\n",
              "      <script>\n",
              "        const buttonEl =\n",
              "          document.querySelector('#df-3308a6c1-5971-4cdc-94c0-53f18736071d button.colab-df-convert');\n",
              "        buttonEl.style.display =\n",
              "          google.colab.kernel.accessAllowed ? 'block' : 'none';\n",
              "\n",
              "        async function convertToInteractive(key) {\n",
              "          const element = document.querySelector('#df-3308a6c1-5971-4cdc-94c0-53f18736071d');\n",
              "          const dataTable =\n",
              "            await google.colab.kernel.invokeFunction('convertToInteractive',\n",
              "                                                     [key], {});\n",
              "          if (!dataTable) return;\n",
              "\n",
              "          const docLinkHtml = 'Like what you see? Visit the ' +\n",
              "            '<a target=\"_blank\" href=https://colab.research.google.com/notebooks/data_table.ipynb>data table notebook</a>'\n",
              "            + ' to learn more about interactive tables.';\n",
              "          element.innerHTML = '';\n",
              "          dataTable['output_type'] = 'display_data';\n",
              "          await google.colab.output.renderOutput(dataTable, element);\n",
              "          const docLink = document.createElement('div');\n",
              "          docLink.innerHTML = docLinkHtml;\n",
              "          element.appendChild(docLink);\n",
              "        }\n",
              "      </script>\n",
              "    </div>\n",
              "  </div>\n",
              "  "
            ]
          },
          "metadata": {},
          "execution_count": 38
        }
      ],
      "source": [
        "funnel_df = events_per_group.pivot_table(index='event_name', \n",
        "                                         values='user_id', \n",
        "                                         columns='group', \n",
        "                                         aggfunc=lambda x: x.nunique())\n",
        "\n",
        "funnel_df.sort_values(by ='A', ascending = False, inplace=True)\n",
        "#funnel_df = funnel_df.reindex(['login', 'product_page', 'product_cart', 'purchase']).reset_index()\n",
        "funnel_df\n"
      ]
    },
    {
      "cell_type": "code",
      "execution_count": 39,
      "metadata": {
        "colab": {
          "base_uri": "https://localhost:8080/",
          "height": 1000
        },
        "id": "GiMsC7fS84Ff",
        "outputId": "91c7e0b4-a237-4b9e-ea05-bf19adbce6fd"
      },
      "outputs": [
        {
          "output_type": "stream",
          "name": "stdout",
          "text": [
            "Группа A\n"
          ]
        },
        {
          "output_type": "display_data",
          "data": {
            "text/html": [
              "<html>\n",
              "<head><meta charset=\"utf-8\" /></head>\n",
              "<body>\n",
              "    <div>            <script src=\"https://cdnjs.cloudflare.com/ajax/libs/mathjax/2.7.5/MathJax.js?config=TeX-AMS-MML_SVG\"></script><script type=\"text/javascript\">if (window.MathJax) {MathJax.Hub.Config({SVG: {font: \"STIX-Web\"}});}</script>                <script type=\"text/javascript\">window.PlotlyConfig = {MathJaxConfig: 'local'};</script>\n",
              "        <script src=\"https://cdn.plot.ly/plotly-2.8.3.min.js\"></script>                <div id=\"2d61b578-84fc-4358-ad9b-fce1ea962230\" class=\"plotly-graph-div\" style=\"height:525px; width:100%;\"></div>            <script type=\"text/javascript\">                                    window.PLOTLYENV=window.PLOTLYENV || {};                                    if (document.getElementById(\"2d61b578-84fc-4358-ad9b-fce1ea962230\")) {                    Plotly.newPlot(                        \"2d61b578-84fc-4358-ad9b-fce1ea962230\",                        [{\"x\":[2604,1685,782,833],\"y\":[\"\\u041f\\u043e\\u0441\\u0435\\u0442\\u0438\\u0442\\u0435\\u043b\\u0435\\u0439\",\"\\u041f\\u0440\\u043e\\u0441\\u043c\\u043e\\u0442\\u0440 \\u043a\\u0430\\u0440\\u0442\\u043e\\u0447\\u0435\\u043a \\u0442\\u043e\\u0432\\u0430\\u0440\\u043e\\u0432\",\"\\u041f\\u0440\\u043e\\u0441\\u043c\\u043e\\u0442\\u0440 \\u043a\\u043e\\u0440\\u0437\\u0438\\u043d\\u044b\",\"\\u041f\\u043e\\u043a\\u0443\\u043f\\u043a\\u0430\"],\"type\":\"funnel\"}],                        {\"template\":{\"data\":{\"bar\":[{\"error_x\":{\"color\":\"#2a3f5f\"},\"error_y\":{\"color\":\"#2a3f5f\"},\"marker\":{\"line\":{\"color\":\"#E5ECF6\",\"width\":0.5},\"pattern\":{\"fillmode\":\"overlay\",\"size\":10,\"solidity\":0.2}},\"type\":\"bar\"}],\"barpolar\":[{\"marker\":{\"line\":{\"color\":\"#E5ECF6\",\"width\":0.5},\"pattern\":{\"fillmode\":\"overlay\",\"size\":10,\"solidity\":0.2}},\"type\":\"barpolar\"}],\"carpet\":[{\"aaxis\":{\"endlinecolor\":\"#2a3f5f\",\"gridcolor\":\"white\",\"linecolor\":\"white\",\"minorgridcolor\":\"white\",\"startlinecolor\":\"#2a3f5f\"},\"baxis\":{\"endlinecolor\":\"#2a3f5f\",\"gridcolor\":\"white\",\"linecolor\":\"white\",\"minorgridcolor\":\"white\",\"startlinecolor\":\"#2a3f5f\"},\"type\":\"carpet\"}],\"choropleth\":[{\"colorbar\":{\"outlinewidth\":0,\"ticks\":\"\"},\"type\":\"choropleth\"}],\"contour\":[{\"colorbar\":{\"outlinewidth\":0,\"ticks\":\"\"},\"colorscale\":[[0.0,\"#0d0887\"],[0.1111111111111111,\"#46039f\"],[0.2222222222222222,\"#7201a8\"],[0.3333333333333333,\"#9c179e\"],[0.4444444444444444,\"#bd3786\"],[0.5555555555555556,\"#d8576b\"],[0.6666666666666666,\"#ed7953\"],[0.7777777777777778,\"#fb9f3a\"],[0.8888888888888888,\"#fdca26\"],[1.0,\"#f0f921\"]],\"type\":\"contour\"}],\"contourcarpet\":[{\"colorbar\":{\"outlinewidth\":0,\"ticks\":\"\"},\"type\":\"contourcarpet\"}],\"heatmap\":[{\"colorbar\":{\"outlinewidth\":0,\"ticks\":\"\"},\"colorscale\":[[0.0,\"#0d0887\"],[0.1111111111111111,\"#46039f\"],[0.2222222222222222,\"#7201a8\"],[0.3333333333333333,\"#9c179e\"],[0.4444444444444444,\"#bd3786\"],[0.5555555555555556,\"#d8576b\"],[0.6666666666666666,\"#ed7953\"],[0.7777777777777778,\"#fb9f3a\"],[0.8888888888888888,\"#fdca26\"],[1.0,\"#f0f921\"]],\"type\":\"heatmap\"}],\"heatmapgl\":[{\"colorbar\":{\"outlinewidth\":0,\"ticks\":\"\"},\"colorscale\":[[0.0,\"#0d0887\"],[0.1111111111111111,\"#46039f\"],[0.2222222222222222,\"#7201a8\"],[0.3333333333333333,\"#9c179e\"],[0.4444444444444444,\"#bd3786\"],[0.5555555555555556,\"#d8576b\"],[0.6666666666666666,\"#ed7953\"],[0.7777777777777778,\"#fb9f3a\"],[0.8888888888888888,\"#fdca26\"],[1.0,\"#f0f921\"]],\"type\":\"heatmapgl\"}],\"histogram\":[{\"marker\":{\"pattern\":{\"fillmode\":\"overlay\",\"size\":10,\"solidity\":0.2}},\"type\":\"histogram\"}],\"histogram2d\":[{\"colorbar\":{\"outlinewidth\":0,\"ticks\":\"\"},\"colorscale\":[[0.0,\"#0d0887\"],[0.1111111111111111,\"#46039f\"],[0.2222222222222222,\"#7201a8\"],[0.3333333333333333,\"#9c179e\"],[0.4444444444444444,\"#bd3786\"],[0.5555555555555556,\"#d8576b\"],[0.6666666666666666,\"#ed7953\"],[0.7777777777777778,\"#fb9f3a\"],[0.8888888888888888,\"#fdca26\"],[1.0,\"#f0f921\"]],\"type\":\"histogram2d\"}],\"histogram2dcontour\":[{\"colorbar\":{\"outlinewidth\":0,\"ticks\":\"\"},\"colorscale\":[[0.0,\"#0d0887\"],[0.1111111111111111,\"#46039f\"],[0.2222222222222222,\"#7201a8\"],[0.3333333333333333,\"#9c179e\"],[0.4444444444444444,\"#bd3786\"],[0.5555555555555556,\"#d8576b\"],[0.6666666666666666,\"#ed7953\"],[0.7777777777777778,\"#fb9f3a\"],[0.8888888888888888,\"#fdca26\"],[1.0,\"#f0f921\"]],\"type\":\"histogram2dcontour\"}],\"mesh3d\":[{\"colorbar\":{\"outlinewidth\":0,\"ticks\":\"\"},\"type\":\"mesh3d\"}],\"parcoords\":[{\"line\":{\"colorbar\":{\"outlinewidth\":0,\"ticks\":\"\"}},\"type\":\"parcoords\"}],\"pie\":[{\"automargin\":true,\"type\":\"pie\"}],\"scatter\":[{\"marker\":{\"colorbar\":{\"outlinewidth\":0,\"ticks\":\"\"}},\"type\":\"scatter\"}],\"scatter3d\":[{\"line\":{\"colorbar\":{\"outlinewidth\":0,\"ticks\":\"\"}},\"marker\":{\"colorbar\":{\"outlinewidth\":0,\"ticks\":\"\"}},\"type\":\"scatter3d\"}],\"scattercarpet\":[{\"marker\":{\"colorbar\":{\"outlinewidth\":0,\"ticks\":\"\"}},\"type\":\"scattercarpet\"}],\"scattergeo\":[{\"marker\":{\"colorbar\":{\"outlinewidth\":0,\"ticks\":\"\"}},\"type\":\"scattergeo\"}],\"scattergl\":[{\"marker\":{\"colorbar\":{\"outlinewidth\":0,\"ticks\":\"\"}},\"type\":\"scattergl\"}],\"scattermapbox\":[{\"marker\":{\"colorbar\":{\"outlinewidth\":0,\"ticks\":\"\"}},\"type\":\"scattermapbox\"}],\"scatterpolar\":[{\"marker\":{\"colorbar\":{\"outlinewidth\":0,\"ticks\":\"\"}},\"type\":\"scatterpolar\"}],\"scatterpolargl\":[{\"marker\":{\"colorbar\":{\"outlinewidth\":0,\"ticks\":\"\"}},\"type\":\"scatterpolargl\"}],\"scatterternary\":[{\"marker\":{\"colorbar\":{\"outlinewidth\":0,\"ticks\":\"\"}},\"type\":\"scatterternary\"}],\"surface\":[{\"colorbar\":{\"outlinewidth\":0,\"ticks\":\"\"},\"colorscale\":[[0.0,\"#0d0887\"],[0.1111111111111111,\"#46039f\"],[0.2222222222222222,\"#7201a8\"],[0.3333333333333333,\"#9c179e\"],[0.4444444444444444,\"#bd3786\"],[0.5555555555555556,\"#d8576b\"],[0.6666666666666666,\"#ed7953\"],[0.7777777777777778,\"#fb9f3a\"],[0.8888888888888888,\"#fdca26\"],[1.0,\"#f0f921\"]],\"type\":\"surface\"}],\"table\":[{\"cells\":{\"fill\":{\"color\":\"#EBF0F8\"},\"line\":{\"color\":\"white\"}},\"header\":{\"fill\":{\"color\":\"#C8D4E3\"},\"line\":{\"color\":\"white\"}},\"type\":\"table\"}]},\"layout\":{\"annotationdefaults\":{\"arrowcolor\":\"#2a3f5f\",\"arrowhead\":0,\"arrowwidth\":1},\"autotypenumbers\":\"strict\",\"coloraxis\":{\"colorbar\":{\"outlinewidth\":0,\"ticks\":\"\"}},\"colorscale\":{\"diverging\":[[0,\"#8e0152\"],[0.1,\"#c51b7d\"],[0.2,\"#de77ae\"],[0.3,\"#f1b6da\"],[0.4,\"#fde0ef\"],[0.5,\"#f7f7f7\"],[0.6,\"#e6f5d0\"],[0.7,\"#b8e186\"],[0.8,\"#7fbc41\"],[0.9,\"#4d9221\"],[1,\"#276419\"]],\"sequential\":[[0.0,\"#0d0887\"],[0.1111111111111111,\"#46039f\"],[0.2222222222222222,\"#7201a8\"],[0.3333333333333333,\"#9c179e\"],[0.4444444444444444,\"#bd3786\"],[0.5555555555555556,\"#d8576b\"],[0.6666666666666666,\"#ed7953\"],[0.7777777777777778,\"#fb9f3a\"],[0.8888888888888888,\"#fdca26\"],[1.0,\"#f0f921\"]],\"sequentialminus\":[[0.0,\"#0d0887\"],[0.1111111111111111,\"#46039f\"],[0.2222222222222222,\"#7201a8\"],[0.3333333333333333,\"#9c179e\"],[0.4444444444444444,\"#bd3786\"],[0.5555555555555556,\"#d8576b\"],[0.6666666666666666,\"#ed7953\"],[0.7777777777777778,\"#fb9f3a\"],[0.8888888888888888,\"#fdca26\"],[1.0,\"#f0f921\"]]},\"colorway\":[\"#636efa\",\"#EF553B\",\"#00cc96\",\"#ab63fa\",\"#FFA15A\",\"#19d3f3\",\"#FF6692\",\"#B6E880\",\"#FF97FF\",\"#FECB52\"],\"font\":{\"color\":\"#2a3f5f\"},\"geo\":{\"bgcolor\":\"white\",\"lakecolor\":\"white\",\"landcolor\":\"#E5ECF6\",\"showlakes\":true,\"showland\":true,\"subunitcolor\":\"white\"},\"hoverlabel\":{\"align\":\"left\"},\"hovermode\":\"closest\",\"mapbox\":{\"style\":\"light\"},\"paper_bgcolor\":\"white\",\"plot_bgcolor\":\"#E5ECF6\",\"polar\":{\"angularaxis\":{\"gridcolor\":\"white\",\"linecolor\":\"white\",\"ticks\":\"\"},\"bgcolor\":\"#E5ECF6\",\"radialaxis\":{\"gridcolor\":\"white\",\"linecolor\":\"white\",\"ticks\":\"\"}},\"scene\":{\"xaxis\":{\"backgroundcolor\":\"#E5ECF6\",\"gridcolor\":\"white\",\"gridwidth\":2,\"linecolor\":\"white\",\"showbackground\":true,\"ticks\":\"\",\"zerolinecolor\":\"white\"},\"yaxis\":{\"backgroundcolor\":\"#E5ECF6\",\"gridcolor\":\"white\",\"gridwidth\":2,\"linecolor\":\"white\",\"showbackground\":true,\"ticks\":\"\",\"zerolinecolor\":\"white\"},\"zaxis\":{\"backgroundcolor\":\"#E5ECF6\",\"gridcolor\":\"white\",\"gridwidth\":2,\"linecolor\":\"white\",\"showbackground\":true,\"ticks\":\"\",\"zerolinecolor\":\"white\"}},\"shapedefaults\":{\"line\":{\"color\":\"#2a3f5f\"}},\"ternary\":{\"aaxis\":{\"gridcolor\":\"white\",\"linecolor\":\"white\",\"ticks\":\"\"},\"baxis\":{\"gridcolor\":\"white\",\"linecolor\":\"white\",\"ticks\":\"\"},\"bgcolor\":\"#E5ECF6\",\"caxis\":{\"gridcolor\":\"white\",\"linecolor\":\"white\",\"ticks\":\"\"}},\"title\":{\"x\":0.05},\"xaxis\":{\"automargin\":true,\"gridcolor\":\"white\",\"linecolor\":\"white\",\"ticks\":\"\",\"title\":{\"standoff\":15},\"zerolinecolor\":\"white\",\"zerolinewidth\":2},\"yaxis\":{\"automargin\":true,\"gridcolor\":\"white\",\"linecolor\":\"white\",\"ticks\":\"\",\"title\":{\"standoff\":15},\"zerolinecolor\":\"white\",\"zerolinewidth\":2}}}},                        {\"responsive\": true}                    ).then(function(){\n",
              "                            \n",
              "var gd = document.getElementById('2d61b578-84fc-4358-ad9b-fce1ea962230');\n",
              "var x = new MutationObserver(function (mutations, observer) {{\n",
              "        var display = window.getComputedStyle(gd).display;\n",
              "        if (!display || display === 'none') {{\n",
              "            console.log([gd, 'removed!']);\n",
              "            Plotly.purge(gd);\n",
              "            observer.disconnect();\n",
              "        }}\n",
              "}});\n",
              "\n",
              "// Listen for the removal of the full notebook cells\n",
              "var notebookContainer = gd.closest('#notebook-container');\n",
              "if (notebookContainer) {{\n",
              "    x.observe(notebookContainer, {childList: true});\n",
              "}}\n",
              "\n",
              "// Listen for the clearing of the current output cell\n",
              "var outputEl = gd.closest('.output');\n",
              "if (outputEl) {{\n",
              "    x.observe(outputEl, {childList: true});\n",
              "}}\n",
              "\n",
              "                        })                };                            </script>        </div>\n",
              "</body>\n",
              "</html>"
            ]
          },
          "metadata": {}
        },
        {
          "output_type": "stream",
          "name": "stdout",
          "text": [
            "\n",
            "\n",
            "Группа B\n"
          ]
        },
        {
          "output_type": "display_data",
          "data": {
            "text/html": [
              "<html>\n",
              "<head><meta charset=\"utf-8\" /></head>\n",
              "<body>\n",
              "    <div>            <script src=\"https://cdnjs.cloudflare.com/ajax/libs/mathjax/2.7.5/MathJax.js?config=TeX-AMS-MML_SVG\"></script><script type=\"text/javascript\">if (window.MathJax) {MathJax.Hub.Config({SVG: {font: \"STIX-Web\"}});}</script>                <script type=\"text/javascript\">window.PlotlyConfig = {MathJaxConfig: 'local'};</script>\n",
              "        <script src=\"https://cdn.plot.ly/plotly-2.8.3.min.js\"></script>                <div id=\"e7328fb0-26d7-4ea4-bb16-75bac166413c\" class=\"plotly-graph-div\" style=\"height:525px; width:100%;\"></div>            <script type=\"text/javascript\">                                    window.PLOTLYENV=window.PLOTLYENV || {};                                    if (document.getElementById(\"e7328fb0-26d7-4ea4-bb16-75bac166413c\")) {                    Plotly.newPlot(                        \"e7328fb0-26d7-4ea4-bb16-75bac166413c\",                        [{\"x\":[877,493,244,249],\"y\":[\"\\u041f\\u043e\\u0441\\u0435\\u0442\\u0438\\u0442\\u0435\\u043b\\u0435\\u0439\",\"\\u041f\\u0440\\u043e\\u0441\\u043c\\u043e\\u0442\\u0440 \\u043a\\u0430\\u0440\\u0442\\u043e\\u0447\\u0435\\u043a \\u0442\\u043e\\u0432\\u0430\\u0440\\u043e\\u0432\",\"\\u041f\\u0440\\u043e\\u0441\\u043c\\u043e\\u0442\\u0440 \\u043a\\u043e\\u0440\\u0437\\u0438\\u043d\\u044b\",\"\\u041f\\u043e\\u043a\\u0443\\u043f\\u043a\\u0430\"],\"type\":\"funnel\"}],                        {\"template\":{\"data\":{\"bar\":[{\"error_x\":{\"color\":\"#2a3f5f\"},\"error_y\":{\"color\":\"#2a3f5f\"},\"marker\":{\"line\":{\"color\":\"#E5ECF6\",\"width\":0.5},\"pattern\":{\"fillmode\":\"overlay\",\"size\":10,\"solidity\":0.2}},\"type\":\"bar\"}],\"barpolar\":[{\"marker\":{\"line\":{\"color\":\"#E5ECF6\",\"width\":0.5},\"pattern\":{\"fillmode\":\"overlay\",\"size\":10,\"solidity\":0.2}},\"type\":\"barpolar\"}],\"carpet\":[{\"aaxis\":{\"endlinecolor\":\"#2a3f5f\",\"gridcolor\":\"white\",\"linecolor\":\"white\",\"minorgridcolor\":\"white\",\"startlinecolor\":\"#2a3f5f\"},\"baxis\":{\"endlinecolor\":\"#2a3f5f\",\"gridcolor\":\"white\",\"linecolor\":\"white\",\"minorgridcolor\":\"white\",\"startlinecolor\":\"#2a3f5f\"},\"type\":\"carpet\"}],\"choropleth\":[{\"colorbar\":{\"outlinewidth\":0,\"ticks\":\"\"},\"type\":\"choropleth\"}],\"contour\":[{\"colorbar\":{\"outlinewidth\":0,\"ticks\":\"\"},\"colorscale\":[[0.0,\"#0d0887\"],[0.1111111111111111,\"#46039f\"],[0.2222222222222222,\"#7201a8\"],[0.3333333333333333,\"#9c179e\"],[0.4444444444444444,\"#bd3786\"],[0.5555555555555556,\"#d8576b\"],[0.6666666666666666,\"#ed7953\"],[0.7777777777777778,\"#fb9f3a\"],[0.8888888888888888,\"#fdca26\"],[1.0,\"#f0f921\"]],\"type\":\"contour\"}],\"contourcarpet\":[{\"colorbar\":{\"outlinewidth\":0,\"ticks\":\"\"},\"type\":\"contourcarpet\"}],\"heatmap\":[{\"colorbar\":{\"outlinewidth\":0,\"ticks\":\"\"},\"colorscale\":[[0.0,\"#0d0887\"],[0.1111111111111111,\"#46039f\"],[0.2222222222222222,\"#7201a8\"],[0.3333333333333333,\"#9c179e\"],[0.4444444444444444,\"#bd3786\"],[0.5555555555555556,\"#d8576b\"],[0.6666666666666666,\"#ed7953\"],[0.7777777777777778,\"#fb9f3a\"],[0.8888888888888888,\"#fdca26\"],[1.0,\"#f0f921\"]],\"type\":\"heatmap\"}],\"heatmapgl\":[{\"colorbar\":{\"outlinewidth\":0,\"ticks\":\"\"},\"colorscale\":[[0.0,\"#0d0887\"],[0.1111111111111111,\"#46039f\"],[0.2222222222222222,\"#7201a8\"],[0.3333333333333333,\"#9c179e\"],[0.4444444444444444,\"#bd3786\"],[0.5555555555555556,\"#d8576b\"],[0.6666666666666666,\"#ed7953\"],[0.7777777777777778,\"#fb9f3a\"],[0.8888888888888888,\"#fdca26\"],[1.0,\"#f0f921\"]],\"type\":\"heatmapgl\"}],\"histogram\":[{\"marker\":{\"pattern\":{\"fillmode\":\"overlay\",\"size\":10,\"solidity\":0.2}},\"type\":\"histogram\"}],\"histogram2d\":[{\"colorbar\":{\"outlinewidth\":0,\"ticks\":\"\"},\"colorscale\":[[0.0,\"#0d0887\"],[0.1111111111111111,\"#46039f\"],[0.2222222222222222,\"#7201a8\"],[0.3333333333333333,\"#9c179e\"],[0.4444444444444444,\"#bd3786\"],[0.5555555555555556,\"#d8576b\"],[0.6666666666666666,\"#ed7953\"],[0.7777777777777778,\"#fb9f3a\"],[0.8888888888888888,\"#fdca26\"],[1.0,\"#f0f921\"]],\"type\":\"histogram2d\"}],\"histogram2dcontour\":[{\"colorbar\":{\"outlinewidth\":0,\"ticks\":\"\"},\"colorscale\":[[0.0,\"#0d0887\"],[0.1111111111111111,\"#46039f\"],[0.2222222222222222,\"#7201a8\"],[0.3333333333333333,\"#9c179e\"],[0.4444444444444444,\"#bd3786\"],[0.5555555555555556,\"#d8576b\"],[0.6666666666666666,\"#ed7953\"],[0.7777777777777778,\"#fb9f3a\"],[0.8888888888888888,\"#fdca26\"],[1.0,\"#f0f921\"]],\"type\":\"histogram2dcontour\"}],\"mesh3d\":[{\"colorbar\":{\"outlinewidth\":0,\"ticks\":\"\"},\"type\":\"mesh3d\"}],\"parcoords\":[{\"line\":{\"colorbar\":{\"outlinewidth\":0,\"ticks\":\"\"}},\"type\":\"parcoords\"}],\"pie\":[{\"automargin\":true,\"type\":\"pie\"}],\"scatter\":[{\"marker\":{\"colorbar\":{\"outlinewidth\":0,\"ticks\":\"\"}},\"type\":\"scatter\"}],\"scatter3d\":[{\"line\":{\"colorbar\":{\"outlinewidth\":0,\"ticks\":\"\"}},\"marker\":{\"colorbar\":{\"outlinewidth\":0,\"ticks\":\"\"}},\"type\":\"scatter3d\"}],\"scattercarpet\":[{\"marker\":{\"colorbar\":{\"outlinewidth\":0,\"ticks\":\"\"}},\"type\":\"scattercarpet\"}],\"scattergeo\":[{\"marker\":{\"colorbar\":{\"outlinewidth\":0,\"ticks\":\"\"}},\"type\":\"scattergeo\"}],\"scattergl\":[{\"marker\":{\"colorbar\":{\"outlinewidth\":0,\"ticks\":\"\"}},\"type\":\"scattergl\"}],\"scattermapbox\":[{\"marker\":{\"colorbar\":{\"outlinewidth\":0,\"ticks\":\"\"}},\"type\":\"scattermapbox\"}],\"scatterpolar\":[{\"marker\":{\"colorbar\":{\"outlinewidth\":0,\"ticks\":\"\"}},\"type\":\"scatterpolar\"}],\"scatterpolargl\":[{\"marker\":{\"colorbar\":{\"outlinewidth\":0,\"ticks\":\"\"}},\"type\":\"scatterpolargl\"}],\"scatterternary\":[{\"marker\":{\"colorbar\":{\"outlinewidth\":0,\"ticks\":\"\"}},\"type\":\"scatterternary\"}],\"surface\":[{\"colorbar\":{\"outlinewidth\":0,\"ticks\":\"\"},\"colorscale\":[[0.0,\"#0d0887\"],[0.1111111111111111,\"#46039f\"],[0.2222222222222222,\"#7201a8\"],[0.3333333333333333,\"#9c179e\"],[0.4444444444444444,\"#bd3786\"],[0.5555555555555556,\"#d8576b\"],[0.6666666666666666,\"#ed7953\"],[0.7777777777777778,\"#fb9f3a\"],[0.8888888888888888,\"#fdca26\"],[1.0,\"#f0f921\"]],\"type\":\"surface\"}],\"table\":[{\"cells\":{\"fill\":{\"color\":\"#EBF0F8\"},\"line\":{\"color\":\"white\"}},\"header\":{\"fill\":{\"color\":\"#C8D4E3\"},\"line\":{\"color\":\"white\"}},\"type\":\"table\"}]},\"layout\":{\"annotationdefaults\":{\"arrowcolor\":\"#2a3f5f\",\"arrowhead\":0,\"arrowwidth\":1},\"autotypenumbers\":\"strict\",\"coloraxis\":{\"colorbar\":{\"outlinewidth\":0,\"ticks\":\"\"}},\"colorscale\":{\"diverging\":[[0,\"#8e0152\"],[0.1,\"#c51b7d\"],[0.2,\"#de77ae\"],[0.3,\"#f1b6da\"],[0.4,\"#fde0ef\"],[0.5,\"#f7f7f7\"],[0.6,\"#e6f5d0\"],[0.7,\"#b8e186\"],[0.8,\"#7fbc41\"],[0.9,\"#4d9221\"],[1,\"#276419\"]],\"sequential\":[[0.0,\"#0d0887\"],[0.1111111111111111,\"#46039f\"],[0.2222222222222222,\"#7201a8\"],[0.3333333333333333,\"#9c179e\"],[0.4444444444444444,\"#bd3786\"],[0.5555555555555556,\"#d8576b\"],[0.6666666666666666,\"#ed7953\"],[0.7777777777777778,\"#fb9f3a\"],[0.8888888888888888,\"#fdca26\"],[1.0,\"#f0f921\"]],\"sequentialminus\":[[0.0,\"#0d0887\"],[0.1111111111111111,\"#46039f\"],[0.2222222222222222,\"#7201a8\"],[0.3333333333333333,\"#9c179e\"],[0.4444444444444444,\"#bd3786\"],[0.5555555555555556,\"#d8576b\"],[0.6666666666666666,\"#ed7953\"],[0.7777777777777778,\"#fb9f3a\"],[0.8888888888888888,\"#fdca26\"],[1.0,\"#f0f921\"]]},\"colorway\":[\"#636efa\",\"#EF553B\",\"#00cc96\",\"#ab63fa\",\"#FFA15A\",\"#19d3f3\",\"#FF6692\",\"#B6E880\",\"#FF97FF\",\"#FECB52\"],\"font\":{\"color\":\"#2a3f5f\"},\"geo\":{\"bgcolor\":\"white\",\"lakecolor\":\"white\",\"landcolor\":\"#E5ECF6\",\"showlakes\":true,\"showland\":true,\"subunitcolor\":\"white\"},\"hoverlabel\":{\"align\":\"left\"},\"hovermode\":\"closest\",\"mapbox\":{\"style\":\"light\"},\"paper_bgcolor\":\"white\",\"plot_bgcolor\":\"#E5ECF6\",\"polar\":{\"angularaxis\":{\"gridcolor\":\"white\",\"linecolor\":\"white\",\"ticks\":\"\"},\"bgcolor\":\"#E5ECF6\",\"radialaxis\":{\"gridcolor\":\"white\",\"linecolor\":\"white\",\"ticks\":\"\"}},\"scene\":{\"xaxis\":{\"backgroundcolor\":\"#E5ECF6\",\"gridcolor\":\"white\",\"gridwidth\":2,\"linecolor\":\"white\",\"showbackground\":true,\"ticks\":\"\",\"zerolinecolor\":\"white\"},\"yaxis\":{\"backgroundcolor\":\"#E5ECF6\",\"gridcolor\":\"white\",\"gridwidth\":2,\"linecolor\":\"white\",\"showbackground\":true,\"ticks\":\"\",\"zerolinecolor\":\"white\"},\"zaxis\":{\"backgroundcolor\":\"#E5ECF6\",\"gridcolor\":\"white\",\"gridwidth\":2,\"linecolor\":\"white\",\"showbackground\":true,\"ticks\":\"\",\"zerolinecolor\":\"white\"}},\"shapedefaults\":{\"line\":{\"color\":\"#2a3f5f\"}},\"ternary\":{\"aaxis\":{\"gridcolor\":\"white\",\"linecolor\":\"white\",\"ticks\":\"\"},\"baxis\":{\"gridcolor\":\"white\",\"linecolor\":\"white\",\"ticks\":\"\"},\"bgcolor\":\"#E5ECF6\",\"caxis\":{\"gridcolor\":\"white\",\"linecolor\":\"white\",\"ticks\":\"\"}},\"title\":{\"x\":0.05},\"xaxis\":{\"automargin\":true,\"gridcolor\":\"white\",\"linecolor\":\"white\",\"ticks\":\"\",\"title\":{\"standoff\":15},\"zerolinecolor\":\"white\",\"zerolinewidth\":2},\"yaxis\":{\"automargin\":true,\"gridcolor\":\"white\",\"linecolor\":\"white\",\"ticks\":\"\",\"title\":{\"standoff\":15},\"zerolinecolor\":\"white\",\"zerolinewidth\":2}}}},                        {\"responsive\": true}                    ).then(function(){\n",
              "                            \n",
              "var gd = document.getElementById('e7328fb0-26d7-4ea4-bb16-75bac166413c');\n",
              "var x = new MutationObserver(function (mutations, observer) {{\n",
              "        var display = window.getComputedStyle(gd).display;\n",
              "        if (!display || display === 'none') {{\n",
              "            console.log([gd, 'removed!']);\n",
              "            Plotly.purge(gd);\n",
              "            observer.disconnect();\n",
              "        }}\n",
              "}});\n",
              "\n",
              "// Listen for the removal of the full notebook cells\n",
              "var notebookContainer = gd.closest('#notebook-container');\n",
              "if (notebookContainer) {{\n",
              "    x.observe(notebookContainer, {childList: true});\n",
              "}}\n",
              "\n",
              "// Listen for the clearing of the current output cell\n",
              "var outputEl = gd.closest('.output');\n",
              "if (outputEl) {{\n",
              "    x.observe(outputEl, {childList: true});\n",
              "}}\n",
              "\n",
              "                        })                };                            </script>        </div>\n",
              "</body>\n",
              "</html>"
            ]
          },
          "metadata": {}
        }
      ],
      "source": [
        "from plotly import graph_objects as go\n",
        "\n",
        "print('Группа A')\n",
        "\n",
        "fig_A = go.Figure(\n",
        "    go.Funnel(\n",
        "        y=[\n",
        "            'Посетителей',\n",
        "            'Просмотр карточек товаров',\n",
        "            'Просмотр корзины',\n",
        "            'Покупка',\n",
        "        ],\n",
        "        x=[funnel_df['A']['login'], \n",
        "           funnel_df['A']['product_page'], \n",
        "           funnel_df['A']['product_cart'], \n",
        "           funnel_df['A']['purchase']],\n",
        "        \n",
        "    )\n",
        ")\n",
        "\n",
        "fig_A.show() \n",
        "\n",
        "print('\\n\\nГруппа B')\n",
        "\n",
        "fig_B = go.Figure(\n",
        "    go.Funnel(\n",
        "        y=[\n",
        "            'Посетителей',\n",
        "            'Просмотр карточек товаров',\n",
        "            'Просмотр корзины',\n",
        "            'Покупка',\n",
        "        ],\n",
        "        x=[funnel_df['B']['login'], \n",
        "           funnel_df['B']['product_page'], \n",
        "           funnel_df['B']['product_cart'], \n",
        "           funnel_df['B']['purchase']],\n",
        "        \n",
        "    )\n",
        ")\n",
        "\n",
        "fig_B.show() \n",
        "\n"
      ]
    },
    {
      "cell_type": "markdown",
      "metadata": {
        "id": "XZrzNbrz_74R"
      },
      "source": [
        "Итак, в группе A до покупки дошло 32% посетителей, в группе B 28.4% посетителей. Для группы B показатели чуть меньше.\n",
        "\n",
        "&nbsp;&nbsp;&nbsp;&nbsp;&nbsp;&nbsp;&nbsp;&nbsp;&nbsp;&nbsp;&nbsp;&nbsp;&nbsp;&nbsp;&nbsp;&nbsp;&nbsp;&nbsp;&nbsp;&nbsp;&nbsp;&nbsp;&nbsp;&nbsp;&nbsp;&nbsp;&nbsp;&nbsp;&nbsp;&nbsp;&nbsp;&nbsp;&nbsp;&nbsp; **Группа A / Группа B**\n",
        "\n",
        "\n",
        "просмотр товара &nbsp;&nbsp;&nbsp;&nbsp;&nbsp;&nbsp;&nbsp;**64.7% / 56.2%**\n",
        "\n",
        "просмотр корзины &nbsp;&nbsp;&nbsp;**30.0% / 27.8%**  \n",
        "\n",
        "покупка &nbsp;&nbsp;&nbsp;&nbsp;&nbsp;&nbsp;&nbsp;&nbsp;&nbsp;&nbsp;&nbsp;&nbsp;&nbsp;&nbsp;&nbsp;&nbsp;&nbsp;&nbsp;&nbsp;&nbsp;&nbsp;&nbsp;&nbsp;&nbsp;**32.0% / 28.4%**\n",
        "\n",
        "Оказалось, что покупок больше, чем просмотров корзины. Вероятно, на сайте есть возможно быстрой покупки без просмотра страницы товара.\n",
        "\n",
        "Улучшения метрик для группы B не последовало. \n",
        "\n",
        "**Все показатели для группы B ниже показателей для группы A.**"
      ]
    },
    {
      "cell_type": "markdown",
      "metadata": {
        "id": "NqE1FUnIC9Zu"
      },
      "source": [
        "### Какие особенности данных нужно учесть, прежде чем приступать к A/B-тестированию?"
      ]
    },
    {
      "cell_type": "markdown",
      "metadata": {
        "id": "6NSRx7NWDA-9"
      },
      "source": [
        "- Во-первых, группы были разного размера, отличие в 30% ощутимо может повлиять на исход, но так как мы тестировани относительные метрики, то это не настолько критично;\n",
        "- Во-вторых, проведения тестирования перескается с проведением маркетинговых кампаний: Рождество и Новый Год\n",
        "- В-третьих, большая часть участников параллельно участвовали в другом тестировании, что могло негативно повлиять на результат\n",
        "- В-четвертых, в обеих группах очень много мертвых душ, которые вообще не совершали действий, причем в наименьшей группе их больше, что меняет соотношение групп еще больше\n",
        "- В-пятых, многие пользователи не успели прожить 14 дней, их действия закончились раньше ожидаемого срока\n",
        "\n",
        "\n",
        "В сумме все эти факторы могут очень сильно повлиять на результаты тестирования."
      ]
    },
    {
      "cell_type": "markdown",
      "metadata": {
        "id": "lzwT5QbVDBsU"
      },
      "source": [
        "## Оценка результатов A/B-тестирования"
      ]
    },
    {
      "cell_type": "code",
      "execution_count": 40,
      "metadata": {
        "id": "nySnXzdODFpb"
      },
      "outputs": [],
      "source": [
        "# функция для z-test'а\n",
        "def z_test(group_A, cnt_A, group_B, cnt_B, event, alpha=.05):\n",
        "    \n",
        "    successes = np.array([int(group_A[event]), int(group_B[event])])\n",
        "    trials = np.array([cnt_A, cnt_B])\n",
        "\n",
        "    # пропорция успехов в первой группе:\n",
        "    p1 = successes[0]/trials[0]\n",
        "\n",
        "    # пропорция успехов во второй группе:\n",
        "    p2 = successes[1]/trials[1]\n",
        "\n",
        "    # пропорция успехов в комбинированном датасете:\n",
        "    p_combined = (successes[0] + successes[1]) / (trials[0] + trials[1])\n",
        "\n",
        "    # разница пропорций в датасетах\n",
        "    difference = p1 - p2 \n",
        "\n",
        "    # считаем статистику в ст.отклонениях стандартного нормального распределения\n",
        "    z_value = difference / mth.sqrt(\n",
        "        p_combined * (1 - p_combined) * (1 / trials[0] + 1 / trials[1])\n",
        "    )\n",
        "\n",
        "    # задаем стандартное нормальное распределение (среднее 0, ст.отклонение 1)\n",
        "    distr = st.norm(0, 1)\n",
        "\n",
        "    p_value = (1 - distr.cdf(abs(z_value))) * 2\n",
        "    \n",
        "    print(f'alpha = {alpha}')\n",
        "    \n",
        "    print()\n",
        "\n",
        "    print('p-значение: ', round(p_value, 6))\n",
        "\n",
        "    if p_value < alpha:\n",
        "        print('Отвергаем нулевую гипотезу: между долями есть значимая разница')\n",
        "    else:\n",
        "        print(\n",
        "            'Не получилось отвергнуть нулевую гипотезу, нет оснований считать доли разными'\n",
        "        )     \n",
        "        \n",
        "    print()\n",
        "    print()\n",
        "    print('-' * 70)\n",
        "    print()\n",
        "\n",
        " "
      ]
    },
    {
      "cell_type": "markdown",
      "metadata": {
        "id": "ELDckUi-ZTy4"
      },
      "source": [
        "Сформулируем гипотезы для всех проверок сразу:\n",
        "\n",
        "**H0:** Доли совершивших действие среди общего количества пользователей для обеих групп одинаковы\n",
        "\n",
        "**H1:** Доли совершивших действие среди общего количества пользователей различны для групп"
      ]
    },
    {
      "cell_type": "code",
      "execution_count": 41,
      "metadata": {
        "colab": {
          "base_uri": "https://localhost:8080/"
        },
        "id": "K8KNoA_EGpU-",
        "outputId": "44d81881-e8f7-436e-d0dd-6b6caa00c37c"
      },
      "outputs": [
        {
          "output_type": "stream",
          "name": "stdout",
          "text": [
            "Z-test для события product_page\n",
            "alpha = 0.05\n",
            "\n",
            "p-значение:  7e-06\n",
            "Отвергаем нулевую гипотезу: между долями есть значимая разница\n",
            "\n",
            "\n",
            "----------------------------------------------------------------------\n",
            "\n",
            "Z-test для события product_cart\n",
            "alpha = 0.05\n",
            "\n",
            "p-значение:  0.214692\n",
            "Не получилось отвергнуть нулевую гипотезу, нет оснований считать доли разными\n",
            "\n",
            "\n",
            "----------------------------------------------------------------------\n",
            "\n",
            "Z-test для события purchase\n",
            "alpha = 0.05\n",
            "\n",
            "p-значение:  0.046525\n",
            "Отвергаем нулевую гипотезу: между долями есть значимая разница\n",
            "\n",
            "\n",
            "----------------------------------------------------------------------\n",
            "\n"
          ]
        }
      ],
      "source": [
        "events = ['product_page', 'product_cart', 'purchase']\n",
        "\n",
        "for event in events:\n",
        "    print(f'Z-test для события {event}')\n",
        "    z_test(funnel_df['A'], funnel_df['A']['login'], funnel_df['B'], funnel_df['B']['login'], event, alpha=.05)"
      ]
    },
    {
      "cell_type": "markdown",
      "metadata": {
        "id": "uTjm5Yk_ZARD"
      },
      "source": [
        "Попробуем с поправкой Бонферрони, так как сравниваем три конверсии, то будем делить alpha на 3."
      ]
    },
    {
      "cell_type": "code",
      "execution_count": 42,
      "metadata": {
        "colab": {
          "base_uri": "https://localhost:8080/"
        },
        "id": "koDLeGAdYfDs",
        "outputId": "cac90622-0f14-4b87-9026-8571dd5ba904"
      },
      "outputs": [
        {
          "output_type": "stream",
          "name": "stdout",
          "text": [
            "Z-test для события product_page\n",
            "alpha = 0.016666666666666666\n",
            "\n",
            "p-значение:  7e-06\n",
            "Отвергаем нулевую гипотезу: между долями есть значимая разница\n",
            "\n",
            "\n",
            "----------------------------------------------------------------------\n",
            "\n",
            "Z-test для события product_cart\n",
            "alpha = 0.016666666666666666\n",
            "\n",
            "p-значение:  0.214692\n",
            "Не получилось отвергнуть нулевую гипотезу, нет оснований считать доли разными\n",
            "\n",
            "\n",
            "----------------------------------------------------------------------\n",
            "\n",
            "Z-test для события purchase\n",
            "alpha = 0.016666666666666666\n",
            "\n",
            "p-значение:  0.046525\n",
            "Не получилось отвергнуть нулевую гипотезу, нет оснований считать доли разными\n",
            "\n",
            "\n",
            "----------------------------------------------------------------------\n",
            "\n"
          ]
        }
      ],
      "source": [
        "# тест, используя поправку Бонферрони\n",
        "for event in events:\n",
        "    print(f'Z-test для события {event}')\n",
        "    z_test(funnel_df['A'], funnel_df['A']['login'], funnel_df['B'], funnel_df['B']['login'], event, alpha=.05 / 3)"
      ]
    },
    {
      "cell_type": "markdown",
      "metadata": {
        "id": "sWKsO1iBIgH4"
      },
      "source": [
        "Получается, что есть основания считать доли разными, однако метрики только ухудшились.  \n",
        "\n",
        "Тест показал, что группа B менее эффективна.\n",
        "\n",
        "Мы не получили ожидаемого эффекта, заявленного в техническом задании."
      ]
    },
    {
      "cell_type": "markdown",
      "metadata": {
        "id": "0eAS5RRfI0Uw"
      },
      "source": [
        "## Выводы"
      ]
    },
    {
      "cell_type": "markdown",
      "metadata": {
        "id": "K-pJT9KJI2_q"
      },
      "source": [
        "**Исследовательский анализ данных:**\n",
        "\n",
        "1. Группы были разного размера, отличие в 30% ощутимо может повлиять на исход, но так как мы тестировани относительные метрики, то это не настолько критично;\n",
        "2. Проведение тестирования перескается с проведением маркетинговых кампаний: Рождество и Новый Год\n",
        "3. Значительная часть участников параллельно участвовали в другом тестировании, что могло негативно повлиять на результат\n",
        "4. В обеих группах очень много мертвых душ, которые вообще не совершали действий, причем в наименьшей группе их больше, что меняет соотношение групп еще больше\n",
        "5. Многие пользователи не успели прожить 14 дней, их действия закончились раньше ожидаемого срока\n",
        "\n",
        "В сумме все эти факторы могли очень сильно повлиять на результаты тестирования.\n",
        "\n",
        "**A/B тестирование**\n",
        "\n",
        "В техническом задании был заявлен ожидаемый результат в +10% к каждой конверсии на каждом этапе, на деле же конверсии в группе B только упали. \n",
        "\n",
        "&nbsp;&nbsp;&nbsp;&nbsp;&nbsp;&nbsp;&nbsp;&nbsp;&nbsp;&nbsp;&nbsp;&nbsp;&nbsp;&nbsp;&nbsp;&nbsp;&nbsp;&nbsp;&nbsp;&nbsp;&nbsp;&nbsp;&nbsp;&nbsp;&nbsp;&nbsp;&nbsp;&nbsp;&nbsp;&nbsp;&nbsp;&nbsp;&nbsp;&nbsp; **Группа A / Группа B**\n",
        "\n",
        "\n",
        "просмотр товара &nbsp;&nbsp;&nbsp;&nbsp;&nbsp;&nbsp;&nbsp;**64.7% / 56.2%**\n",
        "\n",
        "просмотр корзины &nbsp;&nbsp;&nbsp;**30.0% / 27.8%**  \n",
        "\n",
        "покупка &nbsp;&nbsp;&nbsp;&nbsp;&nbsp;&nbsp;&nbsp;&nbsp;&nbsp;&nbsp;&nbsp;&nbsp;&nbsp;&nbsp;&nbsp;&nbsp;&nbsp;&nbsp;&nbsp;&nbsp;&nbsp;&nbsp;&nbsp;&nbsp;**32.0% / 28.4%**\n",
        "\n",
        "Наиважнеший показатель - покупка - упал на 3.6%, \n",
        "\n",
        "A/B тестирование показало, что группа B была даже менее эффективна, чем группа A. \n",
        "\n",
        "Этот результат подкрепляет и z-test, который показал, что доли людей, просмотревших товары и купивших что-то -  действительно различны, и для группы B они меньше.\n",
        "\n",
        "**Корректность тестирования**\n",
        "\n",
        "Я бы не считала данное тестирование корректным, нельзя интрепретировать эти результаты как провал группы B. \n",
        "\n",
        "Исследовательский анализ выявил очень много факторов, негативно влияющих на корректность результатов тестирования (перечислены в начале). \n",
        "\n",
        "Стоит провести новое тестирование с более корректными данными, в которых будут правильные пропорции групп с похожими распределениями действий и в течение которого не будет внешних факторов, влияющих на этот тест.\n"
      ]
    }
  ],
  "metadata": {
    "ExecuteTimeLog": [
      {
        "duration": 1121,
        "start_time": "2022-10-28T12:35:46.132Z"
      },
      {
        "duration": 3,
        "start_time": "2022-10-28T12:35:47.256Z"
      },
      {
        "duration": 3689,
        "start_time": "2022-10-28T12:35:47.261Z"
      },
      {
        "duration": 4,
        "start_time": "2022-10-28T12:35:50.952Z"
      },
      {
        "duration": 24,
        "start_time": "2022-10-28T12:35:50.958Z"
      },
      {
        "duration": 29,
        "start_time": "2022-10-28T12:35:50.984Z"
      },
      {
        "duration": 73,
        "start_time": "2022-10-28T12:35:51.015Z"
      },
      {
        "duration": 35,
        "start_time": "2022-10-28T12:35:51.090Z"
      },
      {
        "duration": 609,
        "start_time": "2022-10-28T12:35:51.126Z"
      },
      {
        "duration": 145,
        "start_time": "2022-10-28T12:35:51.739Z"
      },
      {
        "duration": 38,
        "start_time": "2022-10-28T12:35:51.886Z"
      },
      {
        "duration": 25,
        "start_time": "2022-10-28T12:35:51.926Z"
      },
      {
        "duration": 39,
        "start_time": "2022-10-28T12:35:51.953Z"
      },
      {
        "duration": 40,
        "start_time": "2022-10-28T12:35:51.994Z"
      },
      {
        "duration": 5,
        "start_time": "2022-10-28T12:35:52.036Z"
      },
      {
        "duration": 12,
        "start_time": "2022-10-28T12:35:52.042Z"
      },
      {
        "duration": 14,
        "start_time": "2022-10-28T12:35:52.056Z"
      },
      {
        "duration": 25,
        "start_time": "2022-10-28T12:35:52.071Z"
      },
      {
        "duration": 31,
        "start_time": "2022-10-28T12:35:52.097Z"
      },
      {
        "duration": 14,
        "start_time": "2022-10-28T12:35:52.130Z"
      },
      {
        "duration": 509,
        "start_time": "2022-10-28T12:35:52.146Z"
      },
      {
        "duration": 653,
        "start_time": "2022-10-28T12:35:52.657Z"
      },
      {
        "duration": 20,
        "start_time": "2022-10-28T12:35:53.311Z"
      },
      {
        "duration": 14,
        "start_time": "2022-10-28T12:35:53.333Z"
      },
      {
        "duration": 43,
        "start_time": "2022-10-28T12:35:53.348Z"
      },
      {
        "duration": 7,
        "start_time": "2022-10-28T12:35:53.392Z"
      },
      {
        "duration": 14,
        "start_time": "2022-10-28T12:35:53.400Z"
      },
      {
        "duration": 23,
        "start_time": "2022-10-28T12:35:53.422Z"
      },
      {
        "duration": 380,
        "start_time": "2022-10-28T12:35:53.447Z"
      },
      {
        "duration": 25,
        "start_time": "2022-10-28T12:35:53.830Z"
      },
      {
        "duration": 525,
        "start_time": "2022-10-28T12:35:53.857Z"
      },
      {
        "duration": 3,
        "start_time": "2022-10-28T12:35:54.384Z"
      },
      {
        "duration": 562,
        "start_time": "2022-10-28T12:35:54.388Z"
      },
      {
        "duration": 407,
        "start_time": "2022-10-28T12:35:54.951Z"
      },
      {
        "duration": 332,
        "start_time": "2022-10-28T12:35:55.360Z"
      },
      {
        "duration": 36,
        "start_time": "2022-10-28T12:35:55.693Z"
      },
      {
        "duration": 228,
        "start_time": "2022-10-28T12:35:55.731Z"
      },
      {
        "duration": 6,
        "start_time": "2022-10-28T12:35:55.960Z"
      },
      {
        "duration": 72,
        "start_time": "2022-10-28T12:35:55.967Z"
      },
      {
        "duration": 22,
        "start_time": "2022-10-28T12:35:56.041Z"
      },
      {
        "duration": 16,
        "start_time": "2022-10-28T13:12:57.172Z"
      },
      {
        "duration": 6,
        "start_time": "2022-10-28T13:13:38.693Z"
      },
      {
        "duration": 12,
        "start_time": "2022-10-28T13:15:44.047Z"
      },
      {
        "duration": 106,
        "start_time": "2022-10-28T13:16:16.506Z"
      },
      {
        "duration": 21,
        "start_time": "2022-10-28T13:16:26.991Z"
      },
      {
        "duration": 1450,
        "start_time": "2022-10-28T13:41:44.499Z"
      },
      {
        "duration": 3,
        "start_time": "2022-10-28T13:41:45.951Z"
      },
      {
        "duration": 3861,
        "start_time": "2022-10-28T13:41:45.955Z"
      },
      {
        "duration": 4,
        "start_time": "2022-10-28T13:41:49.818Z"
      },
      {
        "duration": 21,
        "start_time": "2022-10-28T13:41:49.824Z"
      },
      {
        "duration": 19,
        "start_time": "2022-10-28T13:41:49.847Z"
      },
      {
        "duration": 95,
        "start_time": "2022-10-28T13:41:49.868Z"
      },
      {
        "duration": 25,
        "start_time": "2022-10-28T13:41:49.965Z"
      },
      {
        "duration": 590,
        "start_time": "2022-10-28T13:41:49.992Z"
      },
      {
        "duration": 148,
        "start_time": "2022-10-28T13:41:50.583Z"
      },
      {
        "duration": 28,
        "start_time": "2022-10-28T13:41:50.732Z"
      },
      {
        "duration": 30,
        "start_time": "2022-10-28T13:41:50.762Z"
      },
      {
        "duration": 72,
        "start_time": "2022-10-28T13:41:50.793Z"
      },
      {
        "duration": 15,
        "start_time": "2022-10-28T13:41:50.868Z"
      },
      {
        "duration": 3,
        "start_time": "2022-10-28T13:41:50.885Z"
      },
      {
        "duration": 6,
        "start_time": "2022-10-28T13:41:50.890Z"
      },
      {
        "duration": 6,
        "start_time": "2022-10-28T13:41:50.897Z"
      },
      {
        "duration": 34,
        "start_time": "2022-10-28T13:41:50.905Z"
      },
      {
        "duration": 20,
        "start_time": "2022-10-28T13:41:50.941Z"
      },
      {
        "duration": 9,
        "start_time": "2022-10-28T13:41:50.963Z"
      },
      {
        "duration": 539,
        "start_time": "2022-10-28T13:41:50.974Z"
      },
      {
        "duration": 688,
        "start_time": "2022-10-28T13:41:51.516Z"
      },
      {
        "duration": 14,
        "start_time": "2022-10-28T13:41:52.206Z"
      },
      {
        "duration": 10,
        "start_time": "2022-10-28T13:41:52.229Z"
      },
      {
        "duration": 43,
        "start_time": "2022-10-28T13:41:52.240Z"
      },
      {
        "duration": 7,
        "start_time": "2022-10-28T13:41:52.285Z"
      },
      {
        "duration": 4,
        "start_time": "2022-10-28T13:41:52.294Z"
      },
      {
        "duration": 22,
        "start_time": "2022-10-28T13:41:52.329Z"
      },
      {
        "duration": 426,
        "start_time": "2022-10-28T13:41:52.352Z"
      },
      {
        "duration": 23,
        "start_time": "2022-10-28T13:41:52.780Z"
      },
      {
        "duration": 532,
        "start_time": "2022-10-28T13:41:52.806Z"
      },
      {
        "duration": 4,
        "start_time": "2022-10-28T13:41:53.339Z"
      },
      {
        "duration": 597,
        "start_time": "2022-10-28T13:41:53.344Z"
      },
      {
        "duration": 460,
        "start_time": "2022-10-28T13:41:53.943Z"
      },
      {
        "duration": 368,
        "start_time": "2022-10-28T13:41:54.405Z"
      },
      {
        "duration": 32,
        "start_time": "2022-10-28T13:41:54.774Z"
      },
      {
        "duration": 215,
        "start_time": "2022-10-28T13:41:54.807Z"
      },
      {
        "duration": 6,
        "start_time": "2022-10-28T13:41:55.024Z"
      },
      {
        "duration": 25,
        "start_time": "2022-10-28T13:41:55.032Z"
      },
      {
        "duration": 12,
        "start_time": "2022-10-28T13:41:55.059Z"
      },
      {
        "duration": 11,
        "start_time": "2022-10-28T13:42:08.502Z"
      },
      {
        "duration": 15,
        "start_time": "2022-10-28T13:52:25.845Z"
      },
      {
        "duration": 107,
        "start_time": "2022-10-28T13:58:23.407Z"
      },
      {
        "duration": 4,
        "start_time": "2022-10-28T13:58:59.239Z"
      },
      {
        "duration": 11,
        "start_time": "2022-10-28T13:59:55.062Z"
      },
      {
        "duration": 3,
        "start_time": "2022-10-28T14:00:01.772Z"
      },
      {
        "duration": 10,
        "start_time": "2022-10-28T14:00:12.479Z"
      },
      {
        "duration": 4,
        "start_time": "2022-10-28T14:00:22.437Z"
      },
      {
        "duration": 10,
        "start_time": "2022-10-28T14:06:58.091Z"
      },
      {
        "duration": 11,
        "start_time": "2022-10-28T14:07:06.780Z"
      },
      {
        "duration": 10,
        "start_time": "2022-10-28T14:07:14.068Z"
      },
      {
        "duration": 10,
        "start_time": "2022-10-28T14:07:16.912Z"
      },
      {
        "duration": 3,
        "start_time": "2022-10-28T14:07:25.358Z"
      },
      {
        "duration": 13,
        "start_time": "2022-10-28T14:07:25.363Z"
      },
      {
        "duration": 4068,
        "start_time": "2022-10-28T14:07:25.377Z"
      },
      {
        "duration": 4,
        "start_time": "2022-10-28T14:07:29.447Z"
      },
      {
        "duration": 23,
        "start_time": "2022-10-28T14:07:29.454Z"
      },
      {
        "duration": 34,
        "start_time": "2022-10-28T14:07:29.479Z"
      },
      {
        "duration": 95,
        "start_time": "2022-10-28T14:07:29.515Z"
      },
      {
        "duration": 24,
        "start_time": "2022-10-28T14:07:29.611Z"
      },
      {
        "duration": 506,
        "start_time": "2022-10-28T14:07:29.637Z"
      },
      {
        "duration": 149,
        "start_time": "2022-10-28T14:07:30.145Z"
      },
      {
        "duration": 37,
        "start_time": "2022-10-28T14:07:30.295Z"
      },
      {
        "duration": 39,
        "start_time": "2022-10-28T14:07:30.334Z"
      },
      {
        "duration": 58,
        "start_time": "2022-10-28T14:07:30.376Z"
      },
      {
        "duration": 17,
        "start_time": "2022-10-28T14:07:30.437Z"
      },
      {
        "duration": 13,
        "start_time": "2022-10-28T14:07:30.455Z"
      },
      {
        "duration": 21,
        "start_time": "2022-10-28T14:07:30.470Z"
      },
      {
        "duration": 12,
        "start_time": "2022-10-28T14:07:30.492Z"
      },
      {
        "duration": 22,
        "start_time": "2022-10-28T14:07:30.505Z"
      },
      {
        "duration": 16,
        "start_time": "2022-10-28T14:07:30.529Z"
      },
      {
        "duration": 19,
        "start_time": "2022-10-28T14:07:30.547Z"
      },
      {
        "duration": 38,
        "start_time": "2022-10-28T14:07:30.568Z"
      },
      {
        "duration": 526,
        "start_time": "2022-10-28T14:07:30.608Z"
      },
      {
        "duration": 753,
        "start_time": "2022-10-28T14:07:31.136Z"
      },
      {
        "duration": 14,
        "start_time": "2022-10-28T14:07:31.890Z"
      },
      {
        "duration": 8,
        "start_time": "2022-10-28T14:07:31.906Z"
      },
      {
        "duration": 45,
        "start_time": "2022-10-28T14:07:31.930Z"
      },
      {
        "duration": 7,
        "start_time": "2022-10-28T14:07:31.977Z"
      },
      {
        "duration": 4,
        "start_time": "2022-10-28T14:07:31.986Z"
      },
      {
        "duration": 49,
        "start_time": "2022-10-28T14:07:31.991Z"
      },
      {
        "duration": 413,
        "start_time": "2022-10-28T14:07:32.042Z"
      },
      {
        "duration": 22,
        "start_time": "2022-10-28T14:07:32.457Z"
      },
      {
        "duration": 556,
        "start_time": "2022-10-28T14:07:32.481Z"
      },
      {
        "duration": 4,
        "start_time": "2022-10-28T14:07:33.039Z"
      },
      {
        "duration": 507,
        "start_time": "2022-10-28T14:07:33.044Z"
      },
      {
        "duration": 553,
        "start_time": "2022-10-28T14:07:33.553Z"
      },
      {
        "duration": 368,
        "start_time": "2022-10-28T14:07:34.108Z"
      },
      {
        "duration": 29,
        "start_time": "2022-10-28T14:07:34.478Z"
      },
      {
        "duration": 29,
        "start_time": "2022-10-28T14:07:34.508Z"
      },
      {
        "duration": 6,
        "start_time": "2022-10-28T14:07:34.539Z"
      },
      {
        "duration": 25,
        "start_time": "2022-10-28T14:07:34.547Z"
      },
      {
        "duration": 9,
        "start_time": "2022-10-28T14:07:34.576Z"
      },
      {
        "duration": 10,
        "start_time": "2022-10-28T14:07:47.242Z"
      },
      {
        "duration": 3,
        "start_time": "2022-10-28T14:07:54.675Z"
      },
      {
        "duration": 5,
        "start_time": "2022-10-28T14:07:54.680Z"
      },
      {
        "duration": 2813,
        "start_time": "2022-10-28T14:07:54.686Z"
      },
      {
        "duration": 4,
        "start_time": "2022-10-28T14:07:57.500Z"
      },
      {
        "duration": 18,
        "start_time": "2022-10-28T14:07:57.507Z"
      },
      {
        "duration": 19,
        "start_time": "2022-10-28T14:07:57.527Z"
      },
      {
        "duration": 91,
        "start_time": "2022-10-28T14:07:57.548Z"
      },
      {
        "duration": 25,
        "start_time": "2022-10-28T14:07:57.641Z"
      },
      {
        "duration": 515,
        "start_time": "2022-10-28T14:07:57.667Z"
      },
      {
        "duration": 186,
        "start_time": "2022-10-28T14:07:58.184Z"
      },
      {
        "duration": 32,
        "start_time": "2022-10-28T14:07:58.373Z"
      },
      {
        "duration": 50,
        "start_time": "2022-10-28T14:07:58.407Z"
      },
      {
        "duration": 43,
        "start_time": "2022-10-28T14:07:58.458Z"
      },
      {
        "duration": 40,
        "start_time": "2022-10-28T14:07:58.503Z"
      },
      {
        "duration": 4,
        "start_time": "2022-10-28T14:07:58.544Z"
      },
      {
        "duration": 5,
        "start_time": "2022-10-28T14:07:58.550Z"
      },
      {
        "duration": 7,
        "start_time": "2022-10-28T14:07:58.556Z"
      },
      {
        "duration": 13,
        "start_time": "2022-10-28T14:07:58.565Z"
      },
      {
        "duration": 13,
        "start_time": "2022-10-28T14:07:58.580Z"
      },
      {
        "duration": 3,
        "start_time": "2022-10-28T14:07:58.595Z"
      },
      {
        "duration": 11,
        "start_time": "2022-10-28T14:07:58.629Z"
      },
      {
        "duration": 522,
        "start_time": "2022-10-28T14:07:58.641Z"
      },
      {
        "duration": 658,
        "start_time": "2022-10-28T14:07:59.165Z"
      },
      {
        "duration": 13,
        "start_time": "2022-10-28T14:07:59.829Z"
      },
      {
        "duration": 9,
        "start_time": "2022-10-28T14:07:59.844Z"
      },
      {
        "duration": 39,
        "start_time": "2022-10-28T14:07:59.854Z"
      },
      {
        "duration": 7,
        "start_time": "2022-10-28T14:07:59.894Z"
      },
      {
        "duration": 3,
        "start_time": "2022-10-28T14:07:59.930Z"
      },
      {
        "duration": 26,
        "start_time": "2022-10-28T14:07:59.934Z"
      },
      {
        "duration": 411,
        "start_time": "2022-10-28T14:07:59.962Z"
      },
      {
        "duration": 24,
        "start_time": "2022-10-28T14:08:00.375Z"
      },
      {
        "duration": 639,
        "start_time": "2022-10-28T14:08:00.401Z"
      },
      {
        "duration": 3,
        "start_time": "2022-10-28T14:08:01.041Z"
      },
      {
        "duration": 564,
        "start_time": "2022-10-28T14:08:01.046Z"
      },
      {
        "duration": 439,
        "start_time": "2022-10-28T14:08:01.612Z"
      },
      {
        "duration": 366,
        "start_time": "2022-10-28T14:08:02.053Z"
      },
      {
        "duration": 34,
        "start_time": "2022-10-28T14:08:02.421Z"
      },
      {
        "duration": 31,
        "start_time": "2022-10-28T14:08:02.457Z"
      },
      {
        "duration": 12,
        "start_time": "2022-10-28T14:08:02.489Z"
      },
      {
        "duration": 59,
        "start_time": "2022-10-28T14:08:02.503Z"
      },
      {
        "duration": 36,
        "start_time": "2022-10-28T14:08:02.566Z"
      },
      {
        "duration": 4,
        "start_time": "2022-10-28T14:12:04.747Z"
      },
      {
        "duration": 3,
        "start_time": "2022-10-28T14:12:28.494Z"
      },
      {
        "duration": 5,
        "start_time": "2022-10-28T14:12:28.499Z"
      },
      {
        "duration": 2413,
        "start_time": "2022-10-28T14:12:28.505Z"
      },
      {
        "duration": 4,
        "start_time": "2022-10-28T14:12:30.920Z"
      },
      {
        "duration": 32,
        "start_time": "2022-10-28T14:12:30.926Z"
      },
      {
        "duration": 24,
        "start_time": "2022-10-28T14:12:30.960Z"
      },
      {
        "duration": 89,
        "start_time": "2022-10-28T14:12:30.986Z"
      },
      {
        "duration": 27,
        "start_time": "2022-10-28T14:12:31.077Z"
      },
      {
        "duration": 589,
        "start_time": "2022-10-28T14:12:31.106Z"
      },
      {
        "duration": 149,
        "start_time": "2022-10-28T14:12:31.697Z"
      },
      {
        "duration": 26,
        "start_time": "2022-10-28T14:12:31.848Z"
      },
      {
        "duration": 28,
        "start_time": "2022-10-28T14:12:31.876Z"
      },
      {
        "duration": 42,
        "start_time": "2022-10-28T14:12:31.930Z"
      },
      {
        "duration": 18,
        "start_time": "2022-10-28T14:12:31.974Z"
      },
      {
        "duration": 5,
        "start_time": "2022-10-28T14:12:31.993Z"
      },
      {
        "duration": 34,
        "start_time": "2022-10-28T14:12:31.999Z"
      },
      {
        "duration": 8,
        "start_time": "2022-10-28T14:12:32.035Z"
      },
      {
        "duration": 13,
        "start_time": "2022-10-28T14:12:32.045Z"
      },
      {
        "duration": 15,
        "start_time": "2022-10-28T14:12:32.060Z"
      },
      {
        "duration": 4,
        "start_time": "2022-10-28T14:12:32.077Z"
      },
      {
        "duration": 16,
        "start_time": "2022-10-28T14:12:32.082Z"
      },
      {
        "duration": 525,
        "start_time": "2022-10-28T14:12:32.099Z"
      },
      {
        "duration": 793,
        "start_time": "2022-10-28T14:12:32.625Z"
      },
      {
        "duration": 17,
        "start_time": "2022-10-28T14:12:33.420Z"
      },
      {
        "duration": 9,
        "start_time": "2022-10-28T14:12:33.439Z"
      },
      {
        "duration": 70,
        "start_time": "2022-10-28T14:12:33.450Z"
      },
      {
        "duration": 7,
        "start_time": "2022-10-28T14:12:33.522Z"
      },
      {
        "duration": 21,
        "start_time": "2022-10-28T14:12:33.530Z"
      },
      {
        "duration": 33,
        "start_time": "2022-10-28T14:12:33.552Z"
      },
      {
        "duration": 410,
        "start_time": "2022-10-28T14:12:33.587Z"
      },
      {
        "duration": 30,
        "start_time": "2022-10-28T14:12:33.999Z"
      },
      {
        "duration": 512,
        "start_time": "2022-10-28T14:12:34.031Z"
      },
      {
        "duration": 4,
        "start_time": "2022-10-28T14:12:34.545Z"
      },
      {
        "duration": 538,
        "start_time": "2022-10-28T14:12:34.550Z"
      },
      {
        "duration": 552,
        "start_time": "2022-10-28T14:12:35.090Z"
      },
      {
        "duration": 385,
        "start_time": "2022-10-28T14:12:35.644Z"
      },
      {
        "duration": 31,
        "start_time": "2022-10-28T14:12:36.031Z"
      },
      {
        "duration": 18,
        "start_time": "2022-10-28T14:12:36.064Z"
      },
      {
        "duration": 6,
        "start_time": "2022-10-28T14:12:36.084Z"
      },
      {
        "duration": 48,
        "start_time": "2022-10-28T14:12:36.092Z"
      },
      {
        "duration": 10,
        "start_time": "2022-10-28T14:12:36.143Z"
      },
      {
        "duration": 1341,
        "start_time": "2022-10-30T17:39:23.090Z"
      },
      {
        "duration": 4,
        "start_time": "2022-10-30T17:39:25.417Z"
      },
      {
        "duration": 3951,
        "start_time": "2022-10-30T17:39:27.009Z"
      },
      {
        "duration": 306,
        "start_time": "2022-10-30T17:39:51.150Z"
      }
    ],
    "colab": {
      "provenance": [],
      "toc_visible": true
    },
    "kernelspec": {
      "display_name": "Python 3 (ipykernel)",
      "language": "python",
      "name": "python3"
    },
    "language_info": {
      "codemirror_mode": {
        "name": "ipython",
        "version": 3
      },
      "file_extension": ".py",
      "mimetype": "text/x-python",
      "name": "python",
      "nbconvert_exporter": "python",
      "pygments_lexer": "ipython3",
      "version": "3.9.5"
    },
    "toc": {
      "base_numbering": 1,
      "nav_menu": {},
      "number_sections": true,
      "sideBar": true,
      "skip_h1_title": true,
      "title_cell": "Table of Contents",
      "title_sidebar": "Contents",
      "toc_cell": false,
      "toc_position": {},
      "toc_section_display": true,
      "toc_window_display": false
    }
  },
  "nbformat": 4,
  "nbformat_minor": 0
}