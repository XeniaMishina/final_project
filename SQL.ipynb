{
  "cells": [
    {
      "cell_type": "markdown",
      "metadata": {
        "id": "T9GKCpmtMQLM"
      },
      "source": [
        "# ~~Чихай~~ Читай\n",
        "\n",
        "**Цели исследования:** \n",
        "\n",
        "Коронавирус застал мир врасплох, изменив привычный порядок вещей. В свободное время жители городов больше не выходят на улицу, не посещают кафе и торговые центры. Зато стало больше времени для книг. Это заметили стартаперы — и бросились создавать приложения для тех, кто любит читать.\n",
        "\n",
        "**Описание исследования:**\n",
        "\n",
        "Компания решила быть на волне и купила крупный сервис для чтения книг по подписке. Задача — проанализировать базу данных.\n",
        "В ней — информация о книгах, издательствах, авторах, а также пользовательские обзоры книг. Эти данные помогут сформулировать ценностное предложение для нового продукта.\n"
      ]
    },
    {
      "cell_type": "code",
      "execution_count": null,
      "metadata": {
        "id": "9Ft6SJShMGPx"
      },
      "outputs": [],
      "source": [
        "# импортируем библиотеки\n",
        "import pandas as pd\n",
        "from sqlalchemy import create_engine"
      ]
    },
    {
      "cell_type": "code",
      "execution_count": null,
      "metadata": {
        "id": "is7WY4TkMCt5"
      },
      "outputs": [],
      "source": [
        "# устанавливаем параметры\n",
        "db_config = {'user': 'praktikum_student', # имя пользователя\n",
        "'pwd': 'Sdf4$2;d-d30pp', # пароль\n",
        "'host': 'rc1b-wcoijxj3yxfsf3fs.mdb.yandexcloud.net',\n",
        "'port': 6432, # порт подключения\n",
        "'db': 'data-analyst-final-project-db'} # название базы данных\n",
        "connection_string = 'postgresql://{}:{}@{}:{}/{}'.format(db_config['user'],\n",
        " db_config['pwd'],\n",
        " db_config['host'],\n",
        " db_config['port'],\n",
        " db_config['db'])\n",
        "# сохраняем коннектор\n",
        "engine = create_engine(connection_string, connect_args={'sslmode':'require'})"
      ]
    },
    {
      "cell_type": "markdown",
      "metadata": {
        "id": "snnLnQ1ZR5_z"
      },
      "source": [
        "## Схема базы данных"
      ]
    },
    {
      "cell_type": "markdown",
      "metadata": {
        "id": "Zr26O2hsRVZ5"
      },
      "source": [
        "![Тег изображения](https://concrete-web-bad.notion.site/image/https%3A%2F%2Fs3-us-west-2.amazonaws.com%2Fsecure.notion-static.com%2F069818d1-0e5c-4d87-a461-0de584ab9c33%2FUntitled_(33).png?table=block&id=bd53c8db-b4fd-49eb-8cc9-572ebb3c9163&spaceId=9e4bd47b-c6e6-4ca3-bcee-279794b47315&width=1640&userId=&cache=v2)"
      ]
    },
    {
      "cell_type": "markdown",
      "metadata": {
        "id": "pUOyhMaOOtOc"
      },
      "source": [
        "## Знакомство с данными"
      ]
    },
    {
      "cell_type": "code",
      "execution_count": null,
      "metadata": {
        "id": "Dr3Np3uyOtOc",
        "outputId": "61b41cd0-b7aa-4122-be4e-82a999963228"
      },
      "outputs": [
        {
          "name": "stdout",
          "output_type": "stream",
          "text": [
            "\n",
            "--------------------------------------------------------------------------------\n",
            "\n",
            "Первые 5 строк из таблицы books\n"
          ]
        },
        {
          "data": {
            "text/html": [
              "<div>\n",
              "<style scoped>\n",
              "    .dataframe tbody tr th:only-of-type {\n",
              "        vertical-align: middle;\n",
              "    }\n",
              "\n",
              "    .dataframe tbody tr th {\n",
              "        vertical-align: top;\n",
              "    }\n",
              "\n",
              "    .dataframe thead th {\n",
              "        text-align: right;\n",
              "    }\n",
              "</style>\n",
              "<table border=\"1\" class=\"dataframe\">\n",
              "  <thead>\n",
              "    <tr style=\"text-align: right;\">\n",
              "      <th></th>\n",
              "      <th>book_id</th>\n",
              "      <th>author_id</th>\n",
              "      <th>title</th>\n",
              "      <th>num_pages</th>\n",
              "      <th>publication_date</th>\n",
              "      <th>publisher_id</th>\n",
              "    </tr>\n",
              "  </thead>\n",
              "  <tbody>\n",
              "    <tr>\n",
              "      <th>0</th>\n",
              "      <td>1</td>\n",
              "      <td>546</td>\n",
              "      <td>'Salem's Lot</td>\n",
              "      <td>594</td>\n",
              "      <td>2005-11-01</td>\n",
              "      <td>93</td>\n",
              "    </tr>\n",
              "    <tr>\n",
              "      <th>1</th>\n",
              "      <td>2</td>\n",
              "      <td>465</td>\n",
              "      <td>1 000 Places to See Before You Die</td>\n",
              "      <td>992</td>\n",
              "      <td>2003-05-22</td>\n",
              "      <td>336</td>\n",
              "    </tr>\n",
              "    <tr>\n",
              "      <th>2</th>\n",
              "      <td>3</td>\n",
              "      <td>407</td>\n",
              "      <td>13 Little Blue Envelopes (Little Blue Envelope...</td>\n",
              "      <td>322</td>\n",
              "      <td>2010-12-21</td>\n",
              "      <td>135</td>\n",
              "    </tr>\n",
              "    <tr>\n",
              "      <th>3</th>\n",
              "      <td>4</td>\n",
              "      <td>82</td>\n",
              "      <td>1491: New Revelations of the Americas Before C...</td>\n",
              "      <td>541</td>\n",
              "      <td>2006-10-10</td>\n",
              "      <td>309</td>\n",
              "    </tr>\n",
              "    <tr>\n",
              "      <th>4</th>\n",
              "      <td>5</td>\n",
              "      <td>125</td>\n",
              "      <td>1776</td>\n",
              "      <td>386</td>\n",
              "      <td>2006-07-04</td>\n",
              "      <td>268</td>\n",
              "    </tr>\n",
              "  </tbody>\n",
              "</table>\n",
              "</div>"
            ],
            "text/plain": [
              "   book_id  author_id                                              title  \\\n",
              "0        1        546                                       'Salem's Lot   \n",
              "1        2        465                 1 000 Places to See Before You Die   \n",
              "2        3        407  13 Little Blue Envelopes (Little Blue Envelope...   \n",
              "3        4         82  1491: New Revelations of the Americas Before C...   \n",
              "4        5        125                                               1776   \n",
              "\n",
              "   num_pages publication_date  publisher_id  \n",
              "0        594       2005-11-01            93  \n",
              "1        992       2003-05-22           336  \n",
              "2        322       2010-12-21           135  \n",
              "3        541       2006-10-10           309  \n",
              "4        386       2006-07-04           268  "
            ]
          },
          "metadata": {},
          "output_type": "display_data"
        },
        {
          "name": "stdout",
          "output_type": "stream",
          "text": [
            "\n",
            "--------------------------------------------------------------------------------\n",
            "\n",
            "Первые 5 строк из таблицы authors\n"
          ]
        },
        {
          "data": {
            "text/html": [
              "<div>\n",
              "<style scoped>\n",
              "    .dataframe tbody tr th:only-of-type {\n",
              "        vertical-align: middle;\n",
              "    }\n",
              "\n",
              "    .dataframe tbody tr th {\n",
              "        vertical-align: top;\n",
              "    }\n",
              "\n",
              "    .dataframe thead th {\n",
              "        text-align: right;\n",
              "    }\n",
              "</style>\n",
              "<table border=\"1\" class=\"dataframe\">\n",
              "  <thead>\n",
              "    <tr style=\"text-align: right;\">\n",
              "      <th></th>\n",
              "      <th>author_id</th>\n",
              "      <th>author</th>\n",
              "    </tr>\n",
              "  </thead>\n",
              "  <tbody>\n",
              "    <tr>\n",
              "      <th>0</th>\n",
              "      <td>1</td>\n",
              "      <td>A.S. Byatt</td>\n",
              "    </tr>\n",
              "    <tr>\n",
              "      <th>1</th>\n",
              "      <td>2</td>\n",
              "      <td>Aesop/Laura Harris/Laura Gibbs</td>\n",
              "    </tr>\n",
              "    <tr>\n",
              "      <th>2</th>\n",
              "      <td>3</td>\n",
              "      <td>Agatha Christie</td>\n",
              "    </tr>\n",
              "    <tr>\n",
              "      <th>3</th>\n",
              "      <td>4</td>\n",
              "      <td>Alan Brennert</td>\n",
              "    </tr>\n",
              "    <tr>\n",
              "      <th>4</th>\n",
              "      <td>5</td>\n",
              "      <td>Alan Moore/David   Lloyd</td>\n",
              "    </tr>\n",
              "  </tbody>\n",
              "</table>\n",
              "</div>"
            ],
            "text/plain": [
              "   author_id                          author\n",
              "0          1                      A.S. Byatt\n",
              "1          2  Aesop/Laura Harris/Laura Gibbs\n",
              "2          3                 Agatha Christie\n",
              "3          4                   Alan Brennert\n",
              "4          5        Alan Moore/David   Lloyd"
            ]
          },
          "metadata": {},
          "output_type": "display_data"
        },
        {
          "name": "stdout",
          "output_type": "stream",
          "text": [
            "\n",
            "--------------------------------------------------------------------------------\n",
            "\n",
            "Первые 5 строк из таблицы ratings\n"
          ]
        },
        {
          "data": {
            "text/html": [
              "<div>\n",
              "<style scoped>\n",
              "    .dataframe tbody tr th:only-of-type {\n",
              "        vertical-align: middle;\n",
              "    }\n",
              "\n",
              "    .dataframe tbody tr th {\n",
              "        vertical-align: top;\n",
              "    }\n",
              "\n",
              "    .dataframe thead th {\n",
              "        text-align: right;\n",
              "    }\n",
              "</style>\n",
              "<table border=\"1\" class=\"dataframe\">\n",
              "  <thead>\n",
              "    <tr style=\"text-align: right;\">\n",
              "      <th></th>\n",
              "      <th>rating_id</th>\n",
              "      <th>book_id</th>\n",
              "      <th>username</th>\n",
              "      <th>rating</th>\n",
              "    </tr>\n",
              "  </thead>\n",
              "  <tbody>\n",
              "    <tr>\n",
              "      <th>0</th>\n",
              "      <td>1</td>\n",
              "      <td>1</td>\n",
              "      <td>ryanfranco</td>\n",
              "      <td>4</td>\n",
              "    </tr>\n",
              "    <tr>\n",
              "      <th>1</th>\n",
              "      <td>2</td>\n",
              "      <td>1</td>\n",
              "      <td>grantpatricia</td>\n",
              "      <td>2</td>\n",
              "    </tr>\n",
              "    <tr>\n",
              "      <th>2</th>\n",
              "      <td>3</td>\n",
              "      <td>1</td>\n",
              "      <td>brandtandrea</td>\n",
              "      <td>5</td>\n",
              "    </tr>\n",
              "    <tr>\n",
              "      <th>3</th>\n",
              "      <td>4</td>\n",
              "      <td>2</td>\n",
              "      <td>lorichen</td>\n",
              "      <td>3</td>\n",
              "    </tr>\n",
              "    <tr>\n",
              "      <th>4</th>\n",
              "      <td>5</td>\n",
              "      <td>2</td>\n",
              "      <td>mariokeller</td>\n",
              "      <td>2</td>\n",
              "    </tr>\n",
              "  </tbody>\n",
              "</table>\n",
              "</div>"
            ],
            "text/plain": [
              "   rating_id  book_id       username  rating\n",
              "0          1        1     ryanfranco       4\n",
              "1          2        1  grantpatricia       2\n",
              "2          3        1   brandtandrea       5\n",
              "3          4        2       lorichen       3\n",
              "4          5        2    mariokeller       2"
            ]
          },
          "metadata": {},
          "output_type": "display_data"
        },
        {
          "name": "stdout",
          "output_type": "stream",
          "text": [
            "\n",
            "--------------------------------------------------------------------------------\n",
            "\n",
            "Первые 5 строк из таблицы reviews\n"
          ]
        },
        {
          "data": {
            "text/html": [
              "<div>\n",
              "<style scoped>\n",
              "    .dataframe tbody tr th:only-of-type {\n",
              "        vertical-align: middle;\n",
              "    }\n",
              "\n",
              "    .dataframe tbody tr th {\n",
              "        vertical-align: top;\n",
              "    }\n",
              "\n",
              "    .dataframe thead th {\n",
              "        text-align: right;\n",
              "    }\n",
              "</style>\n",
              "<table border=\"1\" class=\"dataframe\">\n",
              "  <thead>\n",
              "    <tr style=\"text-align: right;\">\n",
              "      <th></th>\n",
              "      <th>review_id</th>\n",
              "      <th>book_id</th>\n",
              "      <th>username</th>\n",
              "      <th>text</th>\n",
              "    </tr>\n",
              "  </thead>\n",
              "  <tbody>\n",
              "    <tr>\n",
              "      <th>0</th>\n",
              "      <td>1</td>\n",
              "      <td>1</td>\n",
              "      <td>brandtandrea</td>\n",
              "      <td>Mention society tell send professor analysis. ...</td>\n",
              "    </tr>\n",
              "    <tr>\n",
              "      <th>1</th>\n",
              "      <td>2</td>\n",
              "      <td>1</td>\n",
              "      <td>ryanfranco</td>\n",
              "      <td>Foot glass pretty audience hit themselves. Amo...</td>\n",
              "    </tr>\n",
              "    <tr>\n",
              "      <th>2</th>\n",
              "      <td>3</td>\n",
              "      <td>2</td>\n",
              "      <td>lorichen</td>\n",
              "      <td>Listen treat keep worry. Miss husband tax but ...</td>\n",
              "    </tr>\n",
              "    <tr>\n",
              "      <th>3</th>\n",
              "      <td>4</td>\n",
              "      <td>3</td>\n",
              "      <td>johnsonamanda</td>\n",
              "      <td>Finally month interesting blue could nature cu...</td>\n",
              "    </tr>\n",
              "    <tr>\n",
              "      <th>4</th>\n",
              "      <td>5</td>\n",
              "      <td>3</td>\n",
              "      <td>scotttamara</td>\n",
              "      <td>Nation purpose heavy give wait song will. List...</td>\n",
              "    </tr>\n",
              "  </tbody>\n",
              "</table>\n",
              "</div>"
            ],
            "text/plain": [
              "   review_id  book_id       username  \\\n",
              "0          1        1   brandtandrea   \n",
              "1          2        1     ryanfranco   \n",
              "2          3        2       lorichen   \n",
              "3          4        3  johnsonamanda   \n",
              "4          5        3    scotttamara   \n",
              "\n",
              "                                                text  \n",
              "0  Mention society tell send professor analysis. ...  \n",
              "1  Foot glass pretty audience hit themselves. Amo...  \n",
              "2  Listen treat keep worry. Miss husband tax but ...  \n",
              "3  Finally month interesting blue could nature cu...  \n",
              "4  Nation purpose heavy give wait song will. List...  "
            ]
          },
          "metadata": {},
          "output_type": "display_data"
        },
        {
          "name": "stdout",
          "output_type": "stream",
          "text": [
            "\n",
            "--------------------------------------------------------------------------------\n",
            "\n",
            "Первые 5 строк из таблицы publishers\n"
          ]
        },
        {
          "data": {
            "text/html": [
              "<div>\n",
              "<style scoped>\n",
              "    .dataframe tbody tr th:only-of-type {\n",
              "        vertical-align: middle;\n",
              "    }\n",
              "\n",
              "    .dataframe tbody tr th {\n",
              "        vertical-align: top;\n",
              "    }\n",
              "\n",
              "    .dataframe thead th {\n",
              "        text-align: right;\n",
              "    }\n",
              "</style>\n",
              "<table border=\"1\" class=\"dataframe\">\n",
              "  <thead>\n",
              "    <tr style=\"text-align: right;\">\n",
              "      <th></th>\n",
              "      <th>publisher_id</th>\n",
              "      <th>publisher</th>\n",
              "    </tr>\n",
              "  </thead>\n",
              "  <tbody>\n",
              "    <tr>\n",
              "      <th>0</th>\n",
              "      <td>1</td>\n",
              "      <td>Ace</td>\n",
              "    </tr>\n",
              "    <tr>\n",
              "      <th>1</th>\n",
              "      <td>2</td>\n",
              "      <td>Ace Book</td>\n",
              "    </tr>\n",
              "    <tr>\n",
              "      <th>2</th>\n",
              "      <td>3</td>\n",
              "      <td>Ace Books</td>\n",
              "    </tr>\n",
              "    <tr>\n",
              "      <th>3</th>\n",
              "      <td>4</td>\n",
              "      <td>Ace Hardcover</td>\n",
              "    </tr>\n",
              "    <tr>\n",
              "      <th>4</th>\n",
              "      <td>5</td>\n",
              "      <td>Addison Wesley Publishing Company</td>\n",
              "    </tr>\n",
              "  </tbody>\n",
              "</table>\n",
              "</div>"
            ],
            "text/plain": [
              "   publisher_id                          publisher\n",
              "0             1                                Ace\n",
              "1             2                           Ace Book\n",
              "2             3                          Ace Books\n",
              "3             4                      Ace Hardcover\n",
              "4             5  Addison Wesley Publishing Company"
            ]
          },
          "metadata": {},
          "output_type": "display_data"
        },
        {
          "name": "stdout",
          "output_type": "stream",
          "text": [
            "\n",
            "--------------------------------------------------------------------------------\n",
            "\n"
          ]
        }
      ],
      "source": [
        "# выведем 5 первых строк каждой таблицы\n",
        "print()\n",
        "print('-' * 80)\n",
        "print()\n",
        "for table in ['books', 'authors', 'ratings', 'reviews', 'publishers']:\n",
        "    query = (\n",
        "        f'''SELECT *\n",
        "            FROM {table}\n",
        "            LIMIT 5\n",
        "            ''')\n",
        "    print(f'Первые 5 строк из таблицы {table}')\n",
        "    display(pd.io.sql.read_sql(query, con = engine))\n",
        "    print()\n",
        "    print('-' * 80)\n",
        "    print()"
      ]
    },
    {
      "cell_type": "markdown",
      "metadata": {
        "id": "1g16hCvbPWEi"
      },
      "source": [
        "## Посчитать, сколько книг вышло после 1 января 2000 года"
      ]
    },
    {
      "cell_type": "code",
      "execution_count": null,
      "metadata": {
        "colab": {
          "base_uri": "https://localhost:8080/",
          "height": 81
        },
        "id": "Un55_QG8PxF5",
        "outputId": "436bffd5-3b50-4f25-fbe4-05222e5a869f"
      },
      "outputs": [
        {
          "data": {
            "text/html": [
              "<div>\n",
              "<style scoped>\n",
              "    .dataframe tbody tr th:only-of-type {\n",
              "        vertical-align: middle;\n",
              "    }\n",
              "\n",
              "    .dataframe tbody tr th {\n",
              "        vertical-align: top;\n",
              "    }\n",
              "\n",
              "    .dataframe thead th {\n",
              "        text-align: right;\n",
              "    }\n",
              "</style>\n",
              "<table border=\"1\" class=\"dataframe\">\n",
              "  <thead>\n",
              "    <tr style=\"text-align: right;\">\n",
              "      <th></th>\n",
              "      <th>book_count</th>\n",
              "    </tr>\n",
              "  </thead>\n",
              "  <tbody>\n",
              "    <tr>\n",
              "      <th>0</th>\n",
              "      <td>819</td>\n",
              "    </tr>\n",
              "  </tbody>\n",
              "</table>\n",
              "</div>"
            ],
            "text/plain": [
              "   book_count\n",
              "0         819"
            ]
          },
          "execution_count": 3,
          "metadata": {},
          "output_type": "execute_result"
        }
      ],
      "source": [
        "query = (\n",
        "'''SELECT COUNT(book_id) AS book_count\n",
        "   FROM books\n",
        "   WHERE publication_date > CAST('01/01/2000' as date)\n",
        "''')\n",
        "\n",
        "pd.io.sql.read_sql(query, con = engine) "
      ]
    },
    {
      "cell_type": "markdown",
      "metadata": {
        "id": "rFItNswn2Gu2"
      },
      "source": [
        "В нашем приложении не так уж и много книг."
      ]
    },
    {
      "cell_type": "markdown",
      "metadata": {
        "id": "DMo5dQhZQp5m"
      },
      "source": [
        "## Для каждой книги посчитайть количество обзоров и среднюю оценку"
      ]
    },
    {
      "cell_type": "code",
      "execution_count": null,
      "metadata": {
        "colab": {
          "base_uri": "https://localhost:8080/",
          "height": 424
        },
        "id": "TrnH2M_PQsK2",
        "outputId": "159be848-e923-47b2-8dfd-4dc33a3d0d83"
      },
      "outputs": [
        {
          "data": {
            "text/html": [
              "<div>\n",
              "<style scoped>\n",
              "    .dataframe tbody tr th:only-of-type {\n",
              "        vertical-align: middle;\n",
              "    }\n",
              "\n",
              "    .dataframe tbody tr th {\n",
              "        vertical-align: top;\n",
              "    }\n",
              "\n",
              "    .dataframe thead th {\n",
              "        text-align: right;\n",
              "    }\n",
              "</style>\n",
              "<table border=\"1\" class=\"dataframe\">\n",
              "  <thead>\n",
              "    <tr style=\"text-align: right;\">\n",
              "      <th></th>\n",
              "      <th>book_id</th>\n",
              "      <th>title</th>\n",
              "      <th>review_count</th>\n",
              "      <th>round</th>\n",
              "    </tr>\n",
              "  </thead>\n",
              "  <tbody>\n",
              "    <tr>\n",
              "      <th>0</th>\n",
              "      <td>948</td>\n",
              "      <td>Twilight (Twilight  #1)</td>\n",
              "      <td>7</td>\n",
              "      <td>3.66</td>\n",
              "    </tr>\n",
              "    <tr>\n",
              "      <th>1</th>\n",
              "      <td>302</td>\n",
              "      <td>Harry Potter and the Prisoner of Azkaban (Harr...</td>\n",
              "      <td>6</td>\n",
              "      <td>4.41</td>\n",
              "    </tr>\n",
              "    <tr>\n",
              "      <th>2</th>\n",
              "      <td>299</td>\n",
              "      <td>Harry Potter and the Chamber of Secrets (Harry...</td>\n",
              "      <td>6</td>\n",
              "      <td>4.29</td>\n",
              "    </tr>\n",
              "    <tr>\n",
              "      <th>3</th>\n",
              "      <td>656</td>\n",
              "      <td>The Book Thief</td>\n",
              "      <td>6</td>\n",
              "      <td>4.26</td>\n",
              "    </tr>\n",
              "    <tr>\n",
              "      <th>4</th>\n",
              "      <td>734</td>\n",
              "      <td>The Glass Castle</td>\n",
              "      <td>6</td>\n",
              "      <td>4.21</td>\n",
              "    </tr>\n",
              "    <tr>\n",
              "      <th>...</th>\n",
              "      <td>...</td>\n",
              "      <td>...</td>\n",
              "      <td>...</td>\n",
              "      <td>...</td>\n",
              "    </tr>\n",
              "    <tr>\n",
              "      <th>995</th>\n",
              "      <td>191</td>\n",
              "      <td>Disney's Beauty and the Beast (A Little Golden...</td>\n",
              "      <td>0</td>\n",
              "      <td>4.00</td>\n",
              "    </tr>\n",
              "    <tr>\n",
              "      <th>996</th>\n",
              "      <td>387</td>\n",
              "      <td>Leonardo's Notebooks</td>\n",
              "      <td>0</td>\n",
              "      <td>4.00</td>\n",
              "    </tr>\n",
              "    <tr>\n",
              "      <th>997</th>\n",
              "      <td>221</td>\n",
              "      <td>Essential Tales and Poems</td>\n",
              "      <td>0</td>\n",
              "      <td>4.00</td>\n",
              "    </tr>\n",
              "    <tr>\n",
              "      <th>998</th>\n",
              "      <td>83</td>\n",
              "      <td>Anne Rice's The Vampire Lestat: A Graphic Novel</td>\n",
              "      <td>0</td>\n",
              "      <td>3.67</td>\n",
              "    </tr>\n",
              "    <tr>\n",
              "      <th>999</th>\n",
              "      <td>808</td>\n",
              "      <td>The Natural Way to Draw</td>\n",
              "      <td>0</td>\n",
              "      <td>3.00</td>\n",
              "    </tr>\n",
              "  </tbody>\n",
              "</table>\n",
              "<p>1000 rows × 4 columns</p>\n",
              "</div>"
            ],
            "text/plain": [
              "     book_id                                              title  review_count  \\\n",
              "0        948                            Twilight (Twilight  #1)             7   \n",
              "1        302  Harry Potter and the Prisoner of Azkaban (Harr...             6   \n",
              "2        299  Harry Potter and the Chamber of Secrets (Harry...             6   \n",
              "3        656                                     The Book Thief             6   \n",
              "4        734                                   The Glass Castle             6   \n",
              "..       ...                                                ...           ...   \n",
              "995      191  Disney's Beauty and the Beast (A Little Golden...             0   \n",
              "996      387                               Leonardo's Notebooks             0   \n",
              "997      221                          Essential Tales and Poems             0   \n",
              "998       83    Anne Rice's The Vampire Lestat: A Graphic Novel             0   \n",
              "999      808                            The Natural Way to Draw             0   \n",
              "\n",
              "     round  \n",
              "0     3.66  \n",
              "1     4.41  \n",
              "2     4.29  \n",
              "3     4.26  \n",
              "4     4.21  \n",
              "..     ...  \n",
              "995   4.00  \n",
              "996   4.00  \n",
              "997   4.00  \n",
              "998   3.67  \n",
              "999   3.00  \n",
              "\n",
              "[1000 rows x 4 columns]"
            ]
          },
          "execution_count": 11,
          "metadata": {},
          "output_type": "execute_result"
        }
      ],
      "source": [
        "query = (\n",
        "'''SELECT b.book_id,\n",
        "          b.title,\n",
        "          q1.review_count, \n",
        "          ROUND(q2.avg_rating, 2)\n",
        "   FROM books AS b\n",
        "   LEFT JOIN (SELECT b.book_id,\n",
        "                     COUNT(DISTINCT rv.review_id) AS review_count\n",
        "              FROM books AS b\n",
        "              LEFT JOIN reviews AS rv ON b.book_id = rv.book_id\n",
        "              GROUP BY b.book_id\n",
        "              ) AS q1 ON q1.book_id=b.book_id\n",
        "   LEFT JOIN (SELECT b.book_id,\n",
        "                     AVG(r.rating) AS avg_rating\n",
        "              FROM books AS b\n",
        "              LEFT JOIN ratings AS r ON b.book_id = r.book_id\n",
        "              GROUP BY b.book_id\n",
        "              ) AS q2 ON q2.book_id=b.book_id\n",
        "  ORDER BY 3 desc, q2.avg_rating DESC\n",
        "   \n",
        "''')\n",
        "\n",
        "pd.io.sql.read_sql(query, con = engine) "
      ]
    },
    {
      "cell_type": "markdown",
      "metadata": {
        "id": "38v4RYgu2Oxr"
      },
      "source": [
        "Посчитали."
      ]
    },
    {
      "cell_type": "markdown",
      "metadata": {
        "id": "fokkWJqNQszP"
      },
      "source": [
        "## Определить издательство, которое выпустило наибольшее число книг толще 50 страниц\n",
        "(так мы исключим из анализа брошюры)"
      ]
    },
    {
      "cell_type": "code",
      "execution_count": null,
      "metadata": {
        "colab": {
          "base_uri": "https://localhost:8080/",
          "height": 81
        },
        "id": "OqOPrpPXQxRe",
        "outputId": "4bdac212-2d99-428c-ce54-2774f3a9e60c"
      },
      "outputs": [
        {
          "data": {
            "text/html": [
              "<div>\n",
              "<style scoped>\n",
              "    .dataframe tbody tr th:only-of-type {\n",
              "        vertical-align: middle;\n",
              "    }\n",
              "\n",
              "    .dataframe tbody tr th {\n",
              "        vertical-align: top;\n",
              "    }\n",
              "\n",
              "    .dataframe thead th {\n",
              "        text-align: right;\n",
              "    }\n",
              "</style>\n",
              "<table border=\"1\" class=\"dataframe\">\n",
              "  <thead>\n",
              "    <tr style=\"text-align: right;\">\n",
              "      <th></th>\n",
              "      <th>publisher</th>\n",
              "      <th>books_cnt</th>\n",
              "    </tr>\n",
              "  </thead>\n",
              "  <tbody>\n",
              "    <tr>\n",
              "      <th>0</th>\n",
              "      <td>Penguin Books</td>\n",
              "      <td>42</td>\n",
              "    </tr>\n",
              "  </tbody>\n",
              "</table>\n",
              "</div>"
            ],
            "text/plain": [
              "       publisher  books_cnt\n",
              "0  Penguin Books         42"
            ]
          },
          "execution_count": 5,
          "metadata": {},
          "output_type": "execute_result"
        }
      ],
      "source": [
        "query = (\n",
        "'''SELECT p.publisher,\n",
        "          COUNT(b.book_id) AS books_cnt\n",
        "   FROM books AS b\n",
        "   LEFT JOIN publishers AS p ON b.publisher_id = p.publisher_id\n",
        "   WHERE b.num_pages > 50\n",
        "   GROUP BY p.publisher\n",
        "   ORDER BY COUNT(b.book_id) DESC\n",
        "   LIMIT 1\n",
        "''')\n",
        "\n",
        "pd.io.sql.read_sql(query, con = engine) "
      ]
    },
    {
      "cell_type": "markdown",
      "metadata": {
        "id": "gvesPoXR2eHd"
      },
      "source": [
        "Penguin Books — британское издательство, основанное в 1935 году в Лондоне сэром Алленом Лейном и его братьями Ричардом и Джоном. Главной заслугой издательства считают демократизацию книжного рынка, превратившую книгу из предмета роскоши в удовольствие, доступное массам. (Википедия)"
      ]
    },
    {
      "cell_type": "markdown",
      "metadata": {
        "id": "vhByJWE-Q8kU"
      },
      "source": [
        "## Определить автора с самой высокой средней оценкой книг (учитывая только книги с 50 и более оценками)"
      ]
    },
    {
      "cell_type": "code",
      "execution_count": null,
      "metadata": {
        "colab": {
          "base_uri": "https://localhost:8080/",
          "height": 81
        },
        "id": "neSwKXabRBIk",
        "outputId": "f7074f9d-1d48-4013-b9e1-e0df7ba6a7d1"
      },
      "outputs": [
        {
          "data": {
            "text/html": [
              "<div>\n",
              "<style scoped>\n",
              "    .dataframe tbody tr th:only-of-type {\n",
              "        vertical-align: middle;\n",
              "    }\n",
              "\n",
              "    .dataframe tbody tr th {\n",
              "        vertical-align: top;\n",
              "    }\n",
              "\n",
              "    .dataframe thead th {\n",
              "        text-align: right;\n",
              "    }\n",
              "</style>\n",
              "<table border=\"1\" class=\"dataframe\">\n",
              "  <thead>\n",
              "    <tr style=\"text-align: right;\">\n",
              "      <th></th>\n",
              "      <th>author</th>\n",
              "      <th>avg_rating</th>\n",
              "    </tr>\n",
              "  </thead>\n",
              "  <tbody>\n",
              "    <tr>\n",
              "      <th>0</th>\n",
              "      <td>J.K. Rowling/Mary GrandPré</td>\n",
              "      <td>4.29</td>\n",
              "    </tr>\n",
              "  </tbody>\n",
              "</table>\n",
              "</div>"
            ],
            "text/plain": [
              "                       author  avg_rating\n",
              "0  J.K. Rowling/Mary GrandPré        4.29"
            ]
          },
          "execution_count": 10,
          "metadata": {},
          "output_type": "execute_result"
        }
      ],
      "source": [
        "query = (\n",
        "'''SELECT a.author,\n",
        "          ROUND(AVG(r.rating), 2) AS avg_rating\n",
        "   FROM books AS b\n",
        "   LEFT JOIN authors AS a ON a.author_id = b.author_id\n",
        "   LEFT JOIN ratings AS r ON b.book_id = r.book_id\n",
        "   WHERE b.book_id IN (SELECT b.book_id\n",
        "                       FROM books AS b\n",
        "                       LEFT JOIN ratings AS r ON b.book_id = r.book_id\n",
        "                       GROUP BY b.book_id\n",
        "                       HAVING COUNT(r.rating_id) >= 50)\n",
        "   GROUP BY a.author\n",
        "   ORDER BY AVG(r.rating) DESC\n",
        "   LIMIT 1\n",
        "''')\n",
        "\n",
        "pd.io.sql.read_sql(query, con = engine) "
      ]
    },
    {
      "cell_type": "markdown",
      "metadata": {
        "id": "9YJ9_v0v2hM2"
      },
      "source": [
        "Джонана Роулинг - неудивительно))\n",
        "\n",
        "Гарри Поттера любят все!\n"
      ]
    },
    {
      "cell_type": "markdown",
      "metadata": {
        "id": "RjPFE8doVh92"
      },
      "source": [
        "![Тег изображения](https://media.giphy.com/media/jNcu2YunWZBcI/giphy.gif)"
      ]
    },
    {
      "cell_type": "markdown",
      "metadata": {
        "id": "EBips21SRHtp"
      },
      "source": [
        "# Посчитать среднее количество обзоров от пользователей, которые поставили больше 50 оценок"
      ]
    },
    {
      "cell_type": "code",
      "execution_count": null,
      "metadata": {
        "colab": {
          "base_uri": "https://localhost:8080/",
          "height": 81
        },
        "id": "DXq-4X91fb5F",
        "outputId": "98662770-9ff8-47c7-d13e-0bfe1e46bcfb"
      },
      "outputs": [
        {
          "data": {
            "text/html": [
              "<div>\n",
              "<style scoped>\n",
              "    .dataframe tbody tr th:only-of-type {\n",
              "        vertical-align: middle;\n",
              "    }\n",
              "\n",
              "    .dataframe tbody tr th {\n",
              "        vertical-align: top;\n",
              "    }\n",
              "\n",
              "    .dataframe thead th {\n",
              "        text-align: right;\n",
              "    }\n",
              "</style>\n",
              "<table border=\"1\" class=\"dataframe\">\n",
              "  <thead>\n",
              "    <tr style=\"text-align: right;\">\n",
              "      <th></th>\n",
              "      <th>avg_review_count</th>\n",
              "    </tr>\n",
              "  </thead>\n",
              "  <tbody>\n",
              "    <tr>\n",
              "      <th>0</th>\n",
              "      <td>24.33</td>\n",
              "    </tr>\n",
              "  </tbody>\n",
              "</table>\n",
              "</div>"
            ],
            "text/plain": [
              "   avg_review_count\n",
              "0             24.33"
            ]
          },
          "execution_count": 9,
          "metadata": {},
          "output_type": "execute_result"
        }
      ],
      "source": [
        "query = (\n",
        "'''SELECT ROUND(AVG(q.review_count), 2) AS avg_review_count\n",
        "   FROM (\n",
        "        SELECT review.username,\n",
        "               COUNT(review.review_id)  AS review_count\n",
        "        FROM reviews AS review\n",
        "        WHERE review.username IN (SELECT r.username\n",
        "                                  FROM ratings AS r\n",
        "                                  GROUP BY r.username\n",
        "                                  HAVING COUNT(r.rating_id) > 50\n",
        "                                  ) \n",
        "        GROUP BY review.username\n",
        "      ) AS q\n",
        "''')\n",
        "\n",
        "pd.io.sql.read_sql(query, con = engine) "
      ]
    },
    {
      "cell_type": "markdown",
      "metadata": {
        "id": "lrqT8f-o28Eo"
      },
      "source": [
        "Пользователи в пандемию на удивление много читают и оставляют отзывов..."
      ]
    },
    {
      "cell_type": "markdown",
      "metadata": {
        "id": "TmHllcYAOtOj"
      },
      "source": [
        "# Выводы"
      ]
    },
    {
      "cell_type": "markdown",
      "metadata": {
        "id": "tegpTHYBOtOj"
      },
      "source": [
        "- Приложение, видимо, очень новое, поэтому ассортимент книг довольно скудный.  \n",
        "   Книг, выпущенных после 2000 года в приложении всего `819`.\n",
        "   \n",
        "   \n",
        "- Пока что наибольшее количество обзоров на одну книгу - 7, не так уж и много. Но и немало. \n",
        "  Приложение новое, но пользователи ведут себя достаточно активно.\n",
        "  \n",
        "  \n",
        "- Издательство, выпустившее наибольшее количество книг длиннее 50 страниц - Penguin Books — британское издательство, основанное в 1935 году в Лондоне сэром Алленом Лейном и его братьями Ричардом и Джоном. Главной заслугой издательства считают демократизацию книжного рынка, превратившую книгу из предмета роскоши в удовольствие, доступное массам. \n",
        "\n",
        "   Возможно, с ними можно начать сотрудничать, чтобы расширить ассортимент приложения.\n",
        "   \n",
        "- Самая высокая средняя оценка книг в нашем приложении достается автору саги о Гарри Поттере - Джоане Роулинг. Это совсем неудивительно, так как эти книги знает и любит практически весь земной шар. Первая книга о Гарри Поттере - `Гарри Поттер и философский камень` - одна из самых продаваемых книг в мире за все время. \n",
        "\n",
        "\n",
        "- Среднее количество обзоров от людей, поставивших более 50 оценкам - около 24. Пользователи этого приложения действительо ведут себя очень активно. Вероятно, приложение им нравится. \n",
        "\n",
        "Если расширить асссортимент книг - все станет еще лучше!"
      ]
    }
  ],
  "metadata": {
    "ExecuteTimeLog": [
      {
        "duration": 59,
        "start_time": "2022-10-30T13:30:09.252Z"
      },
      {
        "duration": 49,
        "start_time": "2022-10-30T13:30:43.478Z"
      },
      {
        "duration": 544,
        "start_time": "2022-10-30T13:31:16.115Z"
      },
      {
        "duration": 5235,
        "start_time": "2022-10-30T13:31:16.661Z"
      },
      {
        "duration": 252,
        "start_time": "2022-10-30T13:31:21.898Z"
      },
      {
        "duration": 104,
        "start_time": "2022-10-30T13:31:22.152Z"
      },
      {
        "duration": 70,
        "start_time": "2022-10-30T13:31:22.257Z"
      },
      {
        "duration": 73,
        "start_time": "2022-10-30T13:31:22.329Z"
      },
      {
        "duration": 71,
        "start_time": "2022-10-30T13:31:22.404Z"
      },
      {
        "duration": 488,
        "start_time": "2022-10-30T14:12:33.747Z"
      },
      {
        "duration": 4,
        "start_time": "2022-10-30T14:12:41.328Z"
      },
      {
        "duration": 521,
        "start_time": "2022-10-30T14:12:43.230Z"
      },
      {
        "duration": 344,
        "start_time": "2022-10-30T14:12:52.227Z"
      },
      {
        "duration": 347,
        "start_time": "2022-10-30T14:13:20.261Z"
      },
      {
        "duration": 344,
        "start_time": "2022-10-30T14:13:30.114Z"
      },
      {
        "duration": 350,
        "start_time": "2022-10-30T14:14:07.351Z"
      },
      {
        "duration": 72,
        "start_time": "2022-10-30T14:15:48.320Z"
      },
      {
        "duration": 79,
        "start_time": "2022-10-30T14:16:00.976Z"
      },
      {
        "duration": 102,
        "start_time": "2022-10-30T14:16:13.650Z"
      },
      {
        "duration": 56,
        "start_time": "2022-10-31T13:29:06.083Z"
      }
    ],
    "colab": {
      "provenance": []
    },
    "kernelspec": {
      "display_name": "Python 3 (ipykernel)",
      "language": "python",
      "name": "python3"
    },
    "language_info": {
      "codemirror_mode": {
        "name": "ipython",
        "version": 3
      },
      "file_extension": ".py",
      "mimetype": "text/x-python",
      "name": "python",
      "nbconvert_exporter": "python",
      "pygments_lexer": "ipython3",
      "version": "3.9.5"
    },
    "toc": {
      "base_numbering": 1,
      "nav_menu": {},
      "number_sections": true,
      "sideBar": true,
      "skip_h1_title": true,
      "title_cell": "Table of Contents",
      "title_sidebar": "Contents",
      "toc_cell": false,
      "toc_position": {},
      "toc_section_display": true,
      "toc_window_display": false
    }
  },
  "nbformat": 4,
  "nbformat_minor": 0
}