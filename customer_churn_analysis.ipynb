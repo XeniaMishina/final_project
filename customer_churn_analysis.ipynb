{
  "cells": [
    {
      "cell_type": "markdown",
      "metadata": {
        "id": "epTitfoSAJEi"
      },
      "source": [
        "# Анализ оттока клиентов"
      ]
    },
    {
      "cell_type": "markdown",
      "metadata": {
        "id": "AhmZL3uBofDl"
      },
      "source": [
        "## Описание проекта\n",
        "\n",
        "### Задача**:**\n",
        "\n",
        "Проанализировать клиентов регионального банка и выделите сегменты клиентов, которые склонны уходить из банка.\n",
        "\n",
        "- Провести исследовательский анализ данных,\n",
        "- Выделить портреты клиентов, которые склонны уходить из банка,\n",
        "- Сформулировать и проверить статистические гипотезы.\n",
        "    \n"
      ]
    },
    {
      "cell_type": "markdown",
      "metadata": {
        "id": "6fFbEv9eDf2c"
      },
      "source": [
        "## Материалы\n",
        "\n",
        "- [Презентация](https://drive.google.com/file/d/1QrJwSvfKA9E8jrMFpvNAxeF7yEWYYiAJ/view?usp=sharing)  \n",
        "- [Дашборд](https://public.tableau.com/views/Bank_16663927209710/Dashboard?:language=en-US&publish=yes&:display_count=n&:origin=viz_share_link)\n",
        "\n"
      ]
    },
    {
      "cell_type": "markdown",
      "metadata": {
        "id": "QrQ6aiFnAJEm"
      },
      "source": [
        "## Получение и обработка данных"
      ]
    },
    {
      "cell_type": "code",
      "execution_count": null,
      "metadata": {
        "id": "vCSWuuoAAYYD"
      },
      "outputs": [],
      "source": [
        "# импорт библиотек\n",
        "import pandas as pd\n",
        "import seaborn as sns\n",
        "import matplotlib.pyplot as plt\n",
        "\n",
        "from sklearn.preprocessing import LabelEncoder\n",
        "\n",
        "from scipy import stats as st\n"
      ]
    },
    {
      "cell_type": "markdown",
      "metadata": {
        "id": "cErtzGrgDCeJ"
      },
      "source": [
        "### Загрузка данных"
      ]
    },
    {
      "cell_type": "code",
      "execution_count": null,
      "metadata": {
        "id": "sP0FrQNFAbKb"
      },
      "outputs": [],
      "source": [
        "# загружаем данные\n",
        "url = \"https://raw.githubusercontent.com/XeniaMishina/final_project/main/bank_dataset.csv\"\n",
        "\n",
        "df = pd.read_csv(url)"
      ]
    },
    {
      "cell_type": "markdown",
      "metadata": {
        "id": "IS58w1GiDGIU"
      },
      "source": [
        "### Проверка данных на пропуски"
      ]
    },
    {
      "cell_type": "code",
      "execution_count": null,
      "metadata": {
        "id": "rDXNtNVsTFzj"
      },
      "outputs": [],
      "source": [
        "# функция, дающая общую информацию о датасете\n",
        "def first_impression(df):\n",
        "    print()\n",
        "    print('Первые 5 строк данных:')\n",
        "    display(df.head())\n",
        "    print('\\n')\n",
        "    print('Общая информация о данных:\\n')\n",
        "    print(df.info())\n",
        "    print('\\n')\n",
        "    print(f'Количество полных строк-дубликатов = {df.duplicated().sum()},')\n",
        "    print(f'что составляет {(df.duplicated().sum() / len(df)):.3%} датафрейма')"
      ]
    },
    {
      "cell_type": "code",
      "execution_count": null,
      "metadata": {
        "colab": {
          "base_uri": "https://localhost:8080/",
          "height": 742
        },
        "id": "c1t1SEqXTHTm",
        "outputId": "de84dab5-326f-419c-c891-9f381c905bf5"
      },
      "outputs": [
        {
          "name": "stdout",
          "output_type": "stream",
          "text": [
            "\n",
            "Первые 5 строк данных:\n"
          ]
        },
        {
          "data": {
            "text/html": [
              "<div>\n",
              "<style scoped>\n",
              "    .dataframe tbody tr th:only-of-type {\n",
              "        vertical-align: middle;\n",
              "    }\n",
              "\n",
              "    .dataframe tbody tr th {\n",
              "        vertical-align: top;\n",
              "    }\n",
              "\n",
              "    .dataframe thead th {\n",
              "        text-align: right;\n",
              "    }\n",
              "</style>\n",
              "<table border=\"1\" class=\"dataframe\">\n",
              "  <thead>\n",
              "    <tr style=\"text-align: right;\">\n",
              "      <th></th>\n",
              "      <th>userid</th>\n",
              "      <th>score</th>\n",
              "      <th>City</th>\n",
              "      <th>Gender</th>\n",
              "      <th>Age</th>\n",
              "      <th>Objects</th>\n",
              "      <th>Balance</th>\n",
              "      <th>Products</th>\n",
              "      <th>CreditCard</th>\n",
              "      <th>Loyalty</th>\n",
              "      <th>estimated_salary</th>\n",
              "      <th>Churn</th>\n",
              "    </tr>\n",
              "  </thead>\n",
              "  <tbody>\n",
              "    <tr>\n",
              "      <th>0</th>\n",
              "      <td>15677338</td>\n",
              "      <td>619</td>\n",
              "      <td>Ярославль</td>\n",
              "      <td>Ж</td>\n",
              "      <td>42</td>\n",
              "      <td>2</td>\n",
              "      <td>NaN</td>\n",
              "      <td>1</td>\n",
              "      <td>1</td>\n",
              "      <td>1</td>\n",
              "      <td>101348.88</td>\n",
              "      <td>1</td>\n",
              "    </tr>\n",
              "    <tr>\n",
              "      <th>1</th>\n",
              "      <td>15690047</td>\n",
              "      <td>608</td>\n",
              "      <td>Рыбинск</td>\n",
              "      <td>Ж</td>\n",
              "      <td>41</td>\n",
              "      <td>1</td>\n",
              "      <td>83807.86</td>\n",
              "      <td>1</td>\n",
              "      <td>0</td>\n",
              "      <td>1</td>\n",
              "      <td>112542.58</td>\n",
              "      <td>0</td>\n",
              "    </tr>\n",
              "    <tr>\n",
              "      <th>2</th>\n",
              "      <td>15662040</td>\n",
              "      <td>502</td>\n",
              "      <td>Ярославль</td>\n",
              "      <td>Ж</td>\n",
              "      <td>42</td>\n",
              "      <td>8</td>\n",
              "      <td>159660.80</td>\n",
              "      <td>3</td>\n",
              "      <td>1</td>\n",
              "      <td>0</td>\n",
              "      <td>113931.57</td>\n",
              "      <td>1</td>\n",
              "    </tr>\n",
              "    <tr>\n",
              "      <th>3</th>\n",
              "      <td>15744090</td>\n",
              "      <td>699</td>\n",
              "      <td>Ярославль</td>\n",
              "      <td>Ж</td>\n",
              "      <td>39</td>\n",
              "      <td>1</td>\n",
              "      <td>NaN</td>\n",
              "      <td>2</td>\n",
              "      <td>0</td>\n",
              "      <td>0</td>\n",
              "      <td>93826.63</td>\n",
              "      <td>0</td>\n",
              "    </tr>\n",
              "    <tr>\n",
              "      <th>4</th>\n",
              "      <td>15780624</td>\n",
              "      <td>850</td>\n",
              "      <td>Рыбинск</td>\n",
              "      <td>Ж</td>\n",
              "      <td>43</td>\n",
              "      <td>2</td>\n",
              "      <td>125510.82</td>\n",
              "      <td>1</td>\n",
              "      <td>1</td>\n",
              "      <td>1</td>\n",
              "      <td>79084.10</td>\n",
              "      <td>0</td>\n",
              "    </tr>\n",
              "  </tbody>\n",
              "</table>\n",
              "</div>"
            ],
            "text/plain": [
              "     userid  score       City Gender  Age  Objects    Balance  Products  \\\n",
              "0  15677338    619  Ярославль      Ж   42        2        NaN         1   \n",
              "1  15690047    608    Рыбинск      Ж   41        1   83807.86         1   \n",
              "2  15662040    502  Ярославль      Ж   42        8  159660.80         3   \n",
              "3  15744090    699  Ярославль      Ж   39        1        NaN         2   \n",
              "4  15780624    850    Рыбинск      Ж   43        2  125510.82         1   \n",
              "\n",
              "   CreditCard  Loyalty  estimated_salary  Churn  \n",
              "0           1        1         101348.88      1  \n",
              "1           0        1         112542.58      0  \n",
              "2           1        0         113931.57      1  \n",
              "3           0        0          93826.63      0  \n",
              "4           1        1          79084.10      0  "
            ]
          },
          "metadata": {},
          "output_type": "display_data"
        },
        {
          "name": "stdout",
          "output_type": "stream",
          "text": [
            "\n",
            "\n",
            "Общая информация о данных:\n",
            "\n",
            "<class 'pandas.core.frame.DataFrame'>\n",
            "RangeIndex: 10000 entries, 0 to 9999\n",
            "Data columns (total 12 columns):\n",
            " #   Column            Non-Null Count  Dtype  \n",
            "---  ------            --------------  -----  \n",
            " 0   userid            10000 non-null  int64  \n",
            " 1   score             10000 non-null  int64  \n",
            " 2   City              10000 non-null  object \n",
            " 3   Gender            10000 non-null  object \n",
            " 4   Age               10000 non-null  int64  \n",
            " 5   Objects           10000 non-null  int64  \n",
            " 6   Balance           6383 non-null   float64\n",
            " 7   Products          10000 non-null  int64  \n",
            " 8   CreditCard        10000 non-null  int64  \n",
            " 9   Loyalty           10000 non-null  int64  \n",
            " 10  estimated_salary  10000 non-null  float64\n",
            " 11  Churn             10000 non-null  int64  \n",
            "dtypes: float64(2), int64(8), object(2)\n",
            "memory usage: 937.6+ KB\n",
            "None\n",
            "\n",
            "\n",
            "Количество полных строк-дубликатов = 0,\n",
            "что составляет 0.000% датафрейма\n"
          ]
        }
      ],
      "source": [
        "first_impression(df)"
      ]
    },
    {
      "cell_type": "code",
      "execution_count": null,
      "metadata": {
        "colab": {
          "base_uri": "https://localhost:8080/",
          "height": 206
        },
        "id": "rXSf2CM55ESv",
        "outputId": "f8c48391-9c6b-485d-feef-8ce23fa2f7b5"
      },
      "outputs": [
        {
          "data": {
            "text/html": [
              "<div>\n",
              "<style scoped>\n",
              "    .dataframe tbody tr th:only-of-type {\n",
              "        vertical-align: middle;\n",
              "    }\n",
              "\n",
              "    .dataframe tbody tr th {\n",
              "        vertical-align: top;\n",
              "    }\n",
              "\n",
              "    .dataframe thead th {\n",
              "        text-align: right;\n",
              "    }\n",
              "</style>\n",
              "<table border=\"1\" class=\"dataframe\">\n",
              "  <thead>\n",
              "    <tr style=\"text-align: right;\">\n",
              "      <th></th>\n",
              "      <th>user_id</th>\n",
              "      <th>score</th>\n",
              "      <th>city</th>\n",
              "      <th>gender</th>\n",
              "      <th>age</th>\n",
              "      <th>objects</th>\n",
              "      <th>balance</th>\n",
              "      <th>products</th>\n",
              "      <th>credit_card</th>\n",
              "      <th>loyalty</th>\n",
              "      <th>estimated_salary</th>\n",
              "      <th>churn</th>\n",
              "    </tr>\n",
              "  </thead>\n",
              "  <tbody>\n",
              "    <tr>\n",
              "      <th>0</th>\n",
              "      <td>15677338</td>\n",
              "      <td>619</td>\n",
              "      <td>Ярославль</td>\n",
              "      <td>Ж</td>\n",
              "      <td>42</td>\n",
              "      <td>2</td>\n",
              "      <td>NaN</td>\n",
              "      <td>1</td>\n",
              "      <td>1</td>\n",
              "      <td>1</td>\n",
              "      <td>101348.88</td>\n",
              "      <td>1</td>\n",
              "    </tr>\n",
              "    <tr>\n",
              "      <th>1</th>\n",
              "      <td>15690047</td>\n",
              "      <td>608</td>\n",
              "      <td>Рыбинск</td>\n",
              "      <td>Ж</td>\n",
              "      <td>41</td>\n",
              "      <td>1</td>\n",
              "      <td>83807.86</td>\n",
              "      <td>1</td>\n",
              "      <td>0</td>\n",
              "      <td>1</td>\n",
              "      <td>112542.58</td>\n",
              "      <td>0</td>\n",
              "    </tr>\n",
              "    <tr>\n",
              "      <th>2</th>\n",
              "      <td>15662040</td>\n",
              "      <td>502</td>\n",
              "      <td>Ярославль</td>\n",
              "      <td>Ж</td>\n",
              "      <td>42</td>\n",
              "      <td>8</td>\n",
              "      <td>159660.80</td>\n",
              "      <td>3</td>\n",
              "      <td>1</td>\n",
              "      <td>0</td>\n",
              "      <td>113931.57</td>\n",
              "      <td>1</td>\n",
              "    </tr>\n",
              "    <tr>\n",
              "      <th>3</th>\n",
              "      <td>15744090</td>\n",
              "      <td>699</td>\n",
              "      <td>Ярославль</td>\n",
              "      <td>Ж</td>\n",
              "      <td>39</td>\n",
              "      <td>1</td>\n",
              "      <td>NaN</td>\n",
              "      <td>2</td>\n",
              "      <td>0</td>\n",
              "      <td>0</td>\n",
              "      <td>93826.63</td>\n",
              "      <td>0</td>\n",
              "    </tr>\n",
              "    <tr>\n",
              "      <th>4</th>\n",
              "      <td>15780624</td>\n",
              "      <td>850</td>\n",
              "      <td>Рыбинск</td>\n",
              "      <td>Ж</td>\n",
              "      <td>43</td>\n",
              "      <td>2</td>\n",
              "      <td>125510.82</td>\n",
              "      <td>1</td>\n",
              "      <td>1</td>\n",
              "      <td>1</td>\n",
              "      <td>79084.10</td>\n",
              "      <td>0</td>\n",
              "    </tr>\n",
              "  </tbody>\n",
              "</table>\n",
              "</div>"
            ],
            "text/plain": [
              "    user_id  score       city gender  age  objects    balance  products  \\\n",
              "0  15677338    619  Ярославль      Ж   42        2        NaN         1   \n",
              "1  15690047    608    Рыбинск      Ж   41        1   83807.86         1   \n",
              "2  15662040    502  Ярославль      Ж   42        8  159660.80         3   \n",
              "3  15744090    699  Ярославль      Ж   39        1        NaN         2   \n",
              "4  15780624    850    Рыбинск      Ж   43        2  125510.82         1   \n",
              "\n",
              "   credit_card  loyalty  estimated_salary  churn  \n",
              "0            1        1         101348.88      1  \n",
              "1            0        1         112542.58      0  \n",
              "2            1        0         113931.57      1  \n",
              "3            0        0          93826.63      0  \n",
              "4            1        1          79084.10      0  "
            ]
          },
          "execution_count": 34,
          "metadata": {},
          "output_type": "execute_result"
        }
      ],
      "source": [
        "# приведем столбцы в нижний регистр и разделим слова\n",
        "\n",
        "df.columns = df.columns.str.lower()\n",
        "df = df.rename(columns={'userid': 'user_id',\n",
        "                        'creditcard': 'credit_card'})\n",
        "df.head()\n"
      ]
    },
    {
      "cell_type": "markdown",
      "metadata": {
        "id": "SZyBDugA48MR"
      },
      "source": [
        "Дубликатов нет, пропуски имеются лишь в одной колонке - `balance`, но заменять их смысла нет, потому что рационального способа находить примерный баланс на счету нет, он может никак не зависеть от других данных."
      ]
    },
    {
      "cell_type": "markdown",
      "metadata": {
        "id": "QvsNrNnzAJEn"
      },
      "source": [
        "### Проверка данных на выбросы"
      ]
    },
    {
      "cell_type": "code",
      "execution_count": null,
      "metadata": {
        "colab": {
          "base_uri": "https://localhost:8080/"
        },
        "id": "OIOYzd8d-cYl",
        "outputId": "cb6c1ca1-022c-44ef-edc2-99c19a6e9a49"
      },
      "outputs": [
        {
          "name": "stdout",
          "output_type": "stream",
          "text": [
            "score\n",
            "count    10000.000000\n",
            "mean       650.528800\n",
            "std         96.653299\n",
            "min        350.000000\n",
            "25%        584.000000\n",
            "50%        652.000000\n",
            "75%        718.000000\n",
            "max        850.000000\n",
            "Name: score, dtype: float64\n",
            "----------------------------------------------------------------------\n",
            "\n",
            "age\n",
            "count    10000.000000\n",
            "mean        38.921800\n",
            "std         10.487806\n",
            "min         18.000000\n",
            "25%         32.000000\n",
            "50%         37.000000\n",
            "75%         44.000000\n",
            "max         92.000000\n",
            "Name: age, dtype: float64\n",
            "----------------------------------------------------------------------\n",
            "\n",
            "balance\n",
            "count      6383.000000\n",
            "mean     119827.493793\n",
            "std       30095.056462\n",
            "min        3768.690000\n",
            "25%      100181.975000\n",
            "50%      119839.690000\n",
            "75%      139512.290000\n",
            "max      250898.090000\n",
            "Name: balance, dtype: float64\n",
            "----------------------------------------------------------------------\n",
            "\n",
            "estimated_salary\n",
            "count     10000.000000\n",
            "mean     100090.239881\n",
            "std       57510.492818\n",
            "min          11.580000\n",
            "25%       51002.110000\n",
            "50%      100193.915000\n",
            "75%      149388.247500\n",
            "max      199992.480000\n",
            "Name: estimated_salary, dtype: float64\n",
            "----------------------------------------------------------------------\n",
            "\n"
          ]
        }
      ],
      "source": [
        "# проверяем числовые столбцы\n",
        "features = ['score', 'age', 'balance', 'estimated_salary']\n",
        "\n",
        "for feature in features:\n",
        "  print(feature)\n",
        "  print(df[feature].describe())\n",
        "  print('-' * 70)\n",
        "  print()"
      ]
    },
    {
      "cell_type": "code",
      "execution_count": null,
      "metadata": {
        "id": "tnReHZt3CnxQ"
      },
      "outputs": [],
      "source": [
        "# выделяем числовые и категориальные переменные\n",
        "num_columns = ['score', 'age', 'balance', 'estimated_salary']\n",
        "not_num_columns = ['gender', 'objects', 'products', 'credit_card', 'loyalty', 'city']\n"
      ]
    },
    {
      "cell_type": "code",
      "execution_count": null,
      "metadata": {
        "colab": {
          "base_uri": "https://localhost:8080/",
          "height": 1000
        },
        "id": "USRMGCLdAHel",
        "outputId": "2071408b-582a-4543-8c1a-1eaf823b8d8a"
      },
      "outputs": [
        {
          "data": {
            "image/png": "[encoded data removed]",
            "text/plain": [
              "<Figure size 1152x1296 with 4 Axes>"
            ]
          },
          "metadata": {
            "needs_background": "light"
          },
          "output_type": "display_data"
        }
      ],
      "source": [
        "# проверяем данные на выбросы\n",
        "fig, axes = plt.subplots(nrows=2, ncols=2, figsize=(16,18))\n",
        "axes_list = [item for sublist in axes for item in sublist]\n",
        "for column in df.columns:\n",
        "  if column in num_columns:\n",
        "    ax = axes_list.pop(0)\n",
        "    sns.boxplot(data=df, y=\"score\", x=\"churn\", ax=ax)\n",
        "    #sns.boxplot(y=column, data=df, hue='churn', ax=ax)\n",
        "    ax.set_title(f'Диаграмма размаха для {column}')"
      ]
    },
    {
      "cell_type": "markdown",
      "metadata": {
        "id": "UD2BevF1_h_T"
      },
      "source": [
        "Данные довольно чистые, перекосов или выбросов в них не обнаружено.   \n",
        "Значит, можно приступать к анализу."
      ]
    },
    {
      "cell_type": "markdown",
      "metadata": {
        "id": "bTxMNcoSAJEo"
      },
      "source": [
        "## Исследовательский анализ данных"
      ]
    },
    {
      "cell_type": "markdown",
      "metadata": {
        "id": "6PasvyICAJEo"
      },
      "source": [
        "### Изучим средние значения и отклонения для ушедших и оставшихся\n",
        "\n"
      ]
    },
    {
      "cell_type": "code",
      "execution_count": null,
      "metadata": {
        "colab": {
          "base_uri": "https://localhost:8080/",
          "height": 363
        },
        "id": "zovxSnscDJ_M",
        "outputId": "26b3d9b3-c72d-4746-b534-926b33b51cd5"
      },
      "outputs": [
        {
          "data": {
            "text/html": [
              "<div>\n",
              "<style scoped>\n",
              "    .dataframe tbody tr th:only-of-type {\n",
              "        vertical-align: middle;\n",
              "    }\n",
              "\n",
              "    .dataframe tbody tr th {\n",
              "        vertical-align: top;\n",
              "    }\n",
              "\n",
              "    .dataframe thead th {\n",
              "        text-align: right;\n",
              "    }\n",
              "</style>\n",
              "<table border=\"1\" class=\"dataframe\">\n",
              "  <thead>\n",
              "    <tr style=\"text-align: right;\">\n",
              "      <th></th>\n",
              "      <th>score</th>\n",
              "      <th>age</th>\n",
              "      <th>objects</th>\n",
              "      <th>balance</th>\n",
              "      <th>products</th>\n",
              "      <th>credit_card</th>\n",
              "      <th>loyalty</th>\n",
              "      <th>estimated_salary</th>\n",
              "      <th>churn</th>\n",
              "    </tr>\n",
              "  </thead>\n",
              "  <tbody>\n",
              "    <tr>\n",
              "      <th>count</th>\n",
              "      <td>10000.000000</td>\n",
              "      <td>10000.000000</td>\n",
              "      <td>10000.000000</td>\n",
              "      <td>6383.000000</td>\n",
              "      <td>10000.000000</td>\n",
              "      <td>10000.00000</td>\n",
              "      <td>10000.000000</td>\n",
              "      <td>10000.000000</td>\n",
              "      <td>10000.000000</td>\n",
              "    </tr>\n",
              "    <tr>\n",
              "      <th>mean</th>\n",
              "      <td>650.528800</td>\n",
              "      <td>38.921800</td>\n",
              "      <td>5.012800</td>\n",
              "      <td>119827.493793</td>\n",
              "      <td>1.530200</td>\n",
              "      <td>0.70550</td>\n",
              "      <td>0.515100</td>\n",
              "      <td>100090.239881</td>\n",
              "      <td>0.203700</td>\n",
              "    </tr>\n",
              "    <tr>\n",
              "      <th>std</th>\n",
              "      <td>96.653299</td>\n",
              "      <td>10.487806</td>\n",
              "      <td>2.892174</td>\n",
              "      <td>30095.056462</td>\n",
              "      <td>0.581654</td>\n",
              "      <td>0.45584</td>\n",
              "      <td>0.499797</td>\n",
              "      <td>57510.492818</td>\n",
              "      <td>0.402769</td>\n",
              "    </tr>\n",
              "    <tr>\n",
              "      <th>min</th>\n",
              "      <td>350.000000</td>\n",
              "      <td>18.000000</td>\n",
              "      <td>0.000000</td>\n",
              "      <td>3768.690000</td>\n",
              "      <td>1.000000</td>\n",
              "      <td>0.00000</td>\n",
              "      <td>0.000000</td>\n",
              "      <td>11.580000</td>\n",
              "      <td>0.000000</td>\n",
              "    </tr>\n",
              "    <tr>\n",
              "      <th>5%</th>\n",
              "      <td>489.000000</td>\n",
              "      <td>25.000000</td>\n",
              "      <td>1.000000</td>\n",
              "      <td>70367.943000</td>\n",
              "      <td>1.000000</td>\n",
              "      <td>0.00000</td>\n",
              "      <td>0.000000</td>\n",
              "      <td>9851.818500</td>\n",
              "      <td>0.000000</td>\n",
              "    </tr>\n",
              "    <tr>\n",
              "      <th>25%</th>\n",
              "      <td>584.000000</td>\n",
              "      <td>32.000000</td>\n",
              "      <td>3.000000</td>\n",
              "      <td>100181.975000</td>\n",
              "      <td>1.000000</td>\n",
              "      <td>0.00000</td>\n",
              "      <td>0.000000</td>\n",
              "      <td>51002.110000</td>\n",
              "      <td>0.000000</td>\n",
              "    </tr>\n",
              "    <tr>\n",
              "      <th>50%</th>\n",
              "      <td>652.000000</td>\n",
              "      <td>37.000000</td>\n",
              "      <td>5.000000</td>\n",
              "      <td>119839.690000</td>\n",
              "      <td>1.000000</td>\n",
              "      <td>1.00000</td>\n",
              "      <td>1.000000</td>\n",
              "      <td>100193.915000</td>\n",
              "      <td>0.000000</td>\n",
              "    </tr>\n",
              "    <tr>\n",
              "      <th>75%</th>\n",
              "      <td>718.000000</td>\n",
              "      <td>44.000000</td>\n",
              "      <td>7.000000</td>\n",
              "      <td>139512.290000</td>\n",
              "      <td>2.000000</td>\n",
              "      <td>1.00000</td>\n",
              "      <td>1.000000</td>\n",
              "      <td>149388.247500</td>\n",
              "      <td>0.000000</td>\n",
              "    </tr>\n",
              "    <tr>\n",
              "      <th>95%</th>\n",
              "      <td>812.000000</td>\n",
              "      <td>60.000000</td>\n",
              "      <td>9.000000</td>\n",
              "      <td>169984.256000</td>\n",
              "      <td>2.000000</td>\n",
              "      <td>1.00000</td>\n",
              "      <td>1.000000</td>\n",
              "      <td>190155.375500</td>\n",
              "      <td>1.000000</td>\n",
              "    </tr>\n",
              "    <tr>\n",
              "      <th>max</th>\n",
              "      <td>850.000000</td>\n",
              "      <td>92.000000</td>\n",
              "      <td>10.000000</td>\n",
              "      <td>250898.090000</td>\n",
              "      <td>4.000000</td>\n",
              "      <td>1.00000</td>\n",
              "      <td>1.000000</td>\n",
              "      <td>199992.480000</td>\n",
              "      <td>1.000000</td>\n",
              "    </tr>\n",
              "  </tbody>\n",
              "</table>\n",
              "</div>"
            ],
            "text/plain": [
              "              score           age       objects        balance      products  \\\n",
              "count  10000.000000  10000.000000  10000.000000    6383.000000  10000.000000   \n",
              "mean     650.528800     38.921800      5.012800  119827.493793      1.530200   \n",
              "std       96.653299     10.487806      2.892174   30095.056462      0.581654   \n",
              "min      350.000000     18.000000      0.000000    3768.690000      1.000000   \n",
              "5%       489.000000     25.000000      1.000000   70367.943000      1.000000   \n",
              "25%      584.000000     32.000000      3.000000  100181.975000      1.000000   \n",
              "50%      652.000000     37.000000      5.000000  119839.690000      1.000000   \n",
              "75%      718.000000     44.000000      7.000000  139512.290000      2.000000   \n",
              "95%      812.000000     60.000000      9.000000  169984.256000      2.000000   \n",
              "max      850.000000     92.000000     10.000000  250898.090000      4.000000   \n",
              "\n",
              "       credit_card       loyalty  estimated_salary         churn  \n",
              "count  10000.00000  10000.000000      10000.000000  10000.000000  \n",
              "mean       0.70550      0.515100     100090.239881      0.203700  \n",
              "std        0.45584      0.499797      57510.492818      0.402769  \n",
              "min        0.00000      0.000000         11.580000      0.000000  \n",
              "5%         0.00000      0.000000       9851.818500      0.000000  \n",
              "25%        0.00000      0.000000      51002.110000      0.000000  \n",
              "50%        1.00000      1.000000     100193.915000      0.000000  \n",
              "75%        1.00000      1.000000     149388.247500      0.000000  \n",
              "95%        1.00000      1.000000     190155.375500      1.000000  \n",
              "max        1.00000      1.000000     199992.480000      1.000000  "
            ]
          },
          "execution_count": 38,
          "metadata": {},
          "output_type": "execute_result"
        }
      ],
      "source": [
        "# общий портрет клиентов\n",
        "df.drop(columns=['user_id']).describe(percentiles=[.05, .25, .5, .75, .95])"
      ]
    },
    {
      "cell_type": "markdown",
      "metadata": {
        "id": "G2ApZKtIEPO0"
      },
      "source": [
        "Если человек является клиентом данного банка, то скорее всего\n",
        "-  ему около 30-45 лет, \n",
        "- у него около 5 объектов недвижимости,\n",
        "- баланс около 120.000,\n",
        "- он пользуется хотя бы одним продуктом банка,\n",
        "- у него есть кредитная карта даннного банка,\n",
        "- средняя зарплата около 100.000"
      ]
    },
    {
      "cell_type": "code",
      "execution_count": null,
      "metadata": {
        "colab": {
          "base_uri": "https://localhost:8080/",
          "height": 143
        },
        "id": "uxfZErP9Ddcc",
        "outputId": "2ab53baa-71d7-42c1-e750-783aa3854e61"
      },
      "outputs": [
        {
          "data": {
            "text/html": [
              "<div>\n",
              "<style scoped>\n",
              "    .dataframe tbody tr th:only-of-type {\n",
              "        vertical-align: middle;\n",
              "    }\n",
              "\n",
              "    .dataframe tbody tr th {\n",
              "        vertical-align: top;\n",
              "    }\n",
              "\n",
              "    .dataframe thead th {\n",
              "        text-align: right;\n",
              "    }\n",
              "</style>\n",
              "<table border=\"1\" class=\"dataframe\">\n",
              "  <thead>\n",
              "    <tr style=\"text-align: right;\">\n",
              "      <th></th>\n",
              "      <th>score</th>\n",
              "      <th>age</th>\n",
              "      <th>objects</th>\n",
              "      <th>balance</th>\n",
              "      <th>products</th>\n",
              "      <th>credit_card</th>\n",
              "      <th>loyalty</th>\n",
              "      <th>estimated_salary</th>\n",
              "    </tr>\n",
              "    <tr>\n",
              "      <th>churn</th>\n",
              "      <th></th>\n",
              "      <th></th>\n",
              "      <th></th>\n",
              "      <th></th>\n",
              "      <th></th>\n",
              "      <th></th>\n",
              "      <th></th>\n",
              "      <th></th>\n",
              "    </tr>\n",
              "  </thead>\n",
              "  <tbody>\n",
              "    <tr>\n",
              "      <th>0</th>\n",
              "      <td>651.853196</td>\n",
              "      <td>37.408389</td>\n",
              "      <td>5.033279</td>\n",
              "      <td>119535.864270</td>\n",
              "      <td>1.544267</td>\n",
              "      <td>0.707146</td>\n",
              "      <td>0.554565</td>\n",
              "      <td>99738.391772</td>\n",
              "    </tr>\n",
              "    <tr>\n",
              "      <th>1</th>\n",
              "      <td>645.351497</td>\n",
              "      <td>44.837997</td>\n",
              "      <td>4.932744</td>\n",
              "      <td>120746.971132</td>\n",
              "      <td>1.475209</td>\n",
              "      <td>0.699067</td>\n",
              "      <td>0.360825</td>\n",
              "      <td>101465.677531</td>\n",
              "    </tr>\n",
              "  </tbody>\n",
              "</table>\n",
              "</div>"
            ],
            "text/plain": [
              "            score        age   objects        balance  products  credit_card  \\\n",
              "churn                                                                          \n",
              "0      651.853196  37.408389  5.033279  119535.864270  1.544267     0.707146   \n",
              "1      645.351497  44.837997  4.932744  120746.971132  1.475209     0.699067   \n",
              "\n",
              "        loyalty  estimated_salary  \n",
              "churn                              \n",
              "0      0.554565      99738.391772  \n",
              "1      0.360825     101465.677531  "
            ]
          },
          "execution_count": 39,
          "metadata": {},
          "output_type": "execute_result"
        }
      ],
      "source": [
        "# средние значеия для ушедших и оставшихся\n",
        "df.drop(columns=['user_id']).groupby('churn').mean()"
      ]
    },
    {
      "cell_type": "code",
      "execution_count": null,
      "metadata": {
        "colab": {
          "base_uri": "https://localhost:8080/",
          "height": 143
        },
        "id": "E8aOLkOfEGhj",
        "outputId": "76ed203e-8728-4187-e7c6-8f495e8693b6"
      },
      "outputs": [
        {
          "data": {
            "text/html": [
              "<div>\n",
              "<style scoped>\n",
              "    .dataframe tbody tr th:only-of-type {\n",
              "        vertical-align: middle;\n",
              "    }\n",
              "\n",
              "    .dataframe tbody tr th {\n",
              "        vertical-align: top;\n",
              "    }\n",
              "\n",
              "    .dataframe thead th {\n",
              "        text-align: right;\n",
              "    }\n",
              "</style>\n",
              "<table border=\"1\" class=\"dataframe\">\n",
              "  <thead>\n",
              "    <tr style=\"text-align: right;\">\n",
              "      <th></th>\n",
              "      <th>score</th>\n",
              "      <th>age</th>\n",
              "      <th>objects</th>\n",
              "      <th>balance</th>\n",
              "      <th>products</th>\n",
              "      <th>credit_card</th>\n",
              "      <th>loyalty</th>\n",
              "      <th>estimated_salary</th>\n",
              "    </tr>\n",
              "    <tr>\n",
              "      <th>churn</th>\n",
              "      <th></th>\n",
              "      <th></th>\n",
              "      <th></th>\n",
              "      <th></th>\n",
              "      <th></th>\n",
              "      <th></th>\n",
              "      <th></th>\n",
              "      <th></th>\n",
              "    </tr>\n",
              "  </thead>\n",
              "  <tbody>\n",
              "    <tr>\n",
              "      <th>0</th>\n",
              "      <td>653</td>\n",
              "      <td>36</td>\n",
              "      <td>5</td>\n",
              "      <td>119791.215</td>\n",
              "      <td>2</td>\n",
              "      <td>1</td>\n",
              "      <td>1</td>\n",
              "      <td>99645.04</td>\n",
              "    </tr>\n",
              "    <tr>\n",
              "      <th>1</th>\n",
              "      <td>646</td>\n",
              "      <td>45</td>\n",
              "      <td>5</td>\n",
              "      <td>119948.090</td>\n",
              "      <td>1</td>\n",
              "      <td>1</td>\n",
              "      <td>0</td>\n",
              "      <td>102460.84</td>\n",
              "    </tr>\n",
              "  </tbody>\n",
              "</table>\n",
              "</div>"
            ],
            "text/plain": [
              "       score  age  objects     balance  products  credit_card  loyalty  \\\n",
              "churn                                                                    \n",
              "0        653   36        5  119791.215         2            1        1   \n",
              "1        646   45        5  119948.090         1            1        0   \n",
              "\n",
              "       estimated_salary  \n",
              "churn                    \n",
              "0              99645.04  \n",
              "1             102460.84  "
            ]
          },
          "execution_count": 40,
          "metadata": {},
          "output_type": "execute_result"
        }
      ],
      "source": [
        "# медианные значеия для ушедших и оставшихся\n",
        "df.drop(columns=['user_id']).groupby('churn').median()"
      ]
    },
    {
      "cell_type": "markdown",
      "metadata": {
        "id": "vWHLvg_LE8Ee"
      },
      "source": [
        "Различия для оставшихся и ушедших на первый взгляд не кажутся слишком заметными, можно сказать, что\n",
        "- средний возраст ушедших заметно больше среднего возраста оставшихся,\n",
        "- лояльность ушедших заметно ниже, оно и понятно,\n",
        "- все остальные показатели в среднем практически одинаковы и разница по ним не превышает нескольких процентов, \n",
        "- больше половины оставшихся пользуются двумя продуктами банка в противовес одному продукту для более половины ушедших, однако средние значения используемых продуктов отличаются несильно."
      ]
    },
    {
      "cell_type": "markdown",
      "metadata": {
        "id": "uozw8c-CwRAX"
      },
      "source": [
        "### Построим распределения признаков для ушедших и не ушедших в сравнении\n"
      ]
    },
    {
      "cell_type": "code",
      "execution_count": null,
      "metadata": {
        "colab": {
          "base_uri": "https://localhost:8080/",
          "height": 622
        },
        "id": "t0iER3PsCjUa",
        "outputId": "0692d8f1-efbe-48e5-9057-092b8777d081"
      },
      "outputs": [
        {
          "data": {
            "image/png": "[encoded data removed]",
            "text/plain": [
              "<Figure size 1440x720 with 4 Axes>"
            ]
          },
          "metadata": {
            "needs_background": "light"
          },
          "output_type": "display_data"
        }
      ],
      "source": [
        "fig, axes = plt.subplots(nrows=2, ncols=2, figsize=(20,10))\n",
        "axes_list = [item for sublist in axes for item in sublist]\n",
        "for column in df.columns:\n",
        "  if column in num_columns:\n",
        "    ax = axes_list.pop(0)\n",
        "    sns.histplot(x = df[column], hue='churn', data=df, ax=ax, alpha=0.7)\n",
        "    ax.legend(['Оставшиеся', 'Отток'])\n",
        "    ax.set_title(f'Распределение признака для {column}')\n",
        "\n",
        "\n"
      ]
    },
    {
      "cell_type": "markdown",
      "metadata": {
        "id": "luFZ7ZT_F-_r"
      },
      "source": [
        "Распределения для всех признаков, кроме возраста, имеют похожую форму. Возраст ушедших заметно выше возраста оставшихся клиентов."
      ]
    },
    {
      "cell_type": "code",
      "execution_count": null,
      "metadata": {
        "colab": {
          "base_uri": "https://localhost:8080/",
          "height": 622
        },
        "id": "m6jIAMKlsigb",
        "outputId": "3c8e88c6-f763-4b08-9f19-7a6231f5faa2"
      },
      "outputs": [
        {
          "data": {
            "image/png": "[encoded data removed]",
            "text/plain": [
              "<Figure size 1440x720 with 6 Axes>"
            ]
          },
          "metadata": {
            "needs_background": "light"
          },
          "output_type": "display_data"
        }
      ],
      "source": [
        "fig, axes = plt.subplots(nrows=2, ncols=3, figsize=(20,10))\n",
        "axes_list = [item for sublist in axes for item in sublist]\n",
        "for column in df.columns:\n",
        "  if column in not_num_columns:\n",
        "    ax = axes_list.pop(0)\n",
        "    sns.countplot(x = column, hue='churn', data=df, ax=ax)\n",
        "    ax.legend(['Оставшиеся', 'Отток'])\n",
        "    ax.set_title(f'Распределение признака для {column}')"
      ]
    },
    {
      "cell_type": "markdown",
      "metadata": {
        "id": "PhvrP1IFFycD"
      },
      "source": [
        "Распределения для недвижимости, кредитных карт выглядят идентично и для ушедших, и для оставшихся.   \n",
        "\n",
        "Лояльность среди ушедших ниже, чем среди оставшихся - перед уходом большая часть людей не пользовались банком - это понятно. \n",
        "\n",
        "Заметно, что среди оставшихся практически все пользуются 1 или 2 продуктами банка, а среди ушедших большая часть пользовалась 1 продуктом, но немаленькая доля людей пользовалась и 3, и 4 продуктами.\n",
        "\n",
        "Хотя в среднем большая часть клиентов - мужчины, большая часть ушедших - женщины. Надо этим стоит задуматься...\n",
        "\n",
        "Наибольший отток среди городов наблюдается в Ростове Великом, около трети клиентов оттуда ушли. Здесь меньше всего оставшихся и при этом больше всего ушедших. Возможно, в Ростове что-то идет не так.\n"
      ]
    },
    {
      "cell_type": "code",
      "execution_count": null,
      "metadata": {
        "colab": {
          "base_uri": "https://localhost:8080/"
        },
        "id": "94tbdiHjHA8O",
        "outputId": "0b234fa0-9f21-4f44-e847-03b99ec5b269"
      },
      "outputs": [
        {
          "name": "stdout",
          "output_type": "stream",
          "text": [
            "М    5457\n",
            "Ж    4543\n",
            "Name: gender, dtype: int64\n",
            "Доля женщин в среднем:  45.43%\n"
          ]
        }
      ],
      "source": [
        "# доля женщин в среднем \n",
        "print(df['gender'].value_counts())\n",
        "genders = df['gender'].value_counts().tolist()\n",
        "print(f'Доля женщин в среднем: {genders[1] / sum(genders): .2%}')"
      ]
    },
    {
      "cell_type": "code",
      "execution_count": null,
      "metadata": {
        "colab": {
          "base_uri": "https://localhost:8080/"
        },
        "id": "wb_5xH8NHpB3",
        "outputId": "73e25b30-326b-49fd-a73a-5cc7f0aae2ab"
      },
      "outputs": [
        {
          "name": "stdout",
          "output_type": "stream",
          "text": [
            "М    4559\n",
            "Ж    3404\n",
            "Name: gender, dtype: int64\n",
            "Доля женщин среди оставшихся:  42.75%\n"
          ]
        }
      ],
      "source": [
        "# доля женщин среди оставшихся\n",
        "print(df.query('churn == 0')['gender'].value_counts())\n",
        "genders_churn_0 = df.query('churn == 0')['gender'].value_counts().tolist()\n",
        "print(f'Доля женщин среди оставшихся: {genders_churn_0[1] / sum(genders_churn_0): .2%}')"
      ]
    },
    {
      "cell_type": "code",
      "execution_count": null,
      "metadata": {
        "colab": {
          "base_uri": "https://localhost:8080/"
        },
        "id": "bmNnA-XeH1Hk",
        "outputId": "6f47256a-4375-4658-e5d5-6bad6af32bcc"
      },
      "outputs": [
        {
          "name": "stdout",
          "output_type": "stream",
          "text": [
            "Ж    1139\n",
            "М     898\n",
            "Name: gender, dtype: int64\n",
            "Доля женщин среди ушедших:  55.92%\n"
          ]
        }
      ],
      "source": [
        "# доля женщин среди ушедших\n",
        "print(df.query('churn == 1')['gender'].value_counts())\n",
        "genders_churn_1 = df.query('churn == 1')['gender'].value_counts().tolist()\n",
        "print(f'Доля женщин среди ушедших: {genders_churn_1[0] / sum(genders_churn_1): .2%}')"
      ]
    },
    {
      "cell_type": "markdown",
      "metadata": {
        "id": "k_sJM8ShIy1V"
      },
      "source": [
        "Хотя среди всех клиентов банка доля женщин - 0.45, среди ушедших - 0.56,   \n",
        "стоит обратить на это внимание."
      ]
    },
    {
      "cell_type": "code",
      "execution_count": null,
      "metadata": {
        "id": "I4OO_RgyMt3o",
        "outputId": "e6a420e3-3ecb-4b81-d93b-a0aa1311bd13"
      },
      "outputs": [
        {
          "name": "stdout",
          "output_type": "stream",
          "text": [
            "Параметр:    gender\n",
            "Для значения = Ж, отток = 0.25\n",
            "Для значения = М, отток = 0.16\n",
            "\n",
            "Параметр:    objects\n",
            "Для значения = 2, отток = 0.19\n",
            "Для значения = 1, отток = 0.22\n",
            "Для значения = 8, отток = 0.19\n",
            "Для значения = 7, отток = 0.17\n",
            "Для значения = 4, отток = 0.21\n",
            "Для значения = 6, отток = 0.2\n",
            "Для значения = 3, отток = 0.21\n",
            "Для значения = 10, отток = 0.21\n",
            "Для значения = 5, отток = 0.21\n",
            "Для значения = 9, отток = 0.22\n",
            "Для значения = 0, отток = 0.23\n",
            "\n",
            "Параметр:    products\n",
            "Для значения = 1, отток = 0.28\n",
            "Для значения = 3, отток = 0.83\n",
            "Для значения = 2, отток = 0.076\n",
            "Для значения = 4, отток = 1.0\n",
            "\n",
            "Параметр:    credit_card\n",
            "Для значения = 1, отток = 0.2\n",
            "Для значения = 0, отток = 0.21\n",
            "\n",
            "Параметр:    loyalty\n",
            "Для значения = 1, отток = 0.14\n",
            "Для значения = 0, отток = 0.27\n",
            "\n",
            "Параметр:    city\n",
            "Для значения = Ярославль, отток = 0.16\n",
            "Для значения = Рыбинск, отток = 0.17\n",
            "Для значения = Ростов Великий, отток = 0.32\n",
            "\n"
          ]
        }
      ],
      "source": [
        "for column in not_num_columns:\n",
        "    print(f'Параметр:    {column}')\n",
        "    for value in df[column].unique().tolist():\n",
        "        print(f'Для значения = {value}, отток ={df[df[column] == value][\"churn\"].mean(): .2}')\n",
        "    print()"
      ]
    },
    {
      "cell_type": "markdown",
      "metadata": {
        "id": "b48Qler5Mt3o"
      },
      "source": [
        "Наиболее склонны к оттоку:\n",
        "- при сравнении полов: женщины\n",
        "- при сравнении количества недвижимости: нет явных различий\n",
        "- при сравнении количества используемых продуктов: пользующиеся 3 и 4 продуктами, с оттоками 83% и 100%\n",
        "- при сравнении наличия кредитной карты: нет явных различий\n",
        "- при сравнения лояльности: менее лояльные клиенты\n",
        "- при сравнении города: в Ростове Великом отток в 2 раза больше, чем в других городах"
      ]
    },
    {
      "cell_type": "markdown",
      "metadata": {
        "id": "VF5iUKg0wS7w"
      },
      "source": [
        "### Построим матрицу корреляций\n"
      ]
    },
    {
      "cell_type": "code",
      "execution_count": null,
      "metadata": {
        "colab": {
          "base_uri": "https://localhost:8080/",
          "height": 623
        },
        "id": "PkQcEJ8-VOJh",
        "outputId": "4ec08dcd-754d-4a97-dd26-83b9188cef32"
      },
      "outputs": [
        {
          "data": {
            "image/png": "[encoded data removed]",
            "text/plain": [
              "<Figure size 720x720 with 2 Axes>"
            ]
          },
          "metadata": {
            "needs_background": "light"
          },
          "output_type": "display_data"
        }
      ],
      "source": [
        "# строим матрицу корреляций\n",
        "cm = df_with_city_gender.drop(columns=['user_id']).corr()\n",
        "fig, ax = plt.subplots(figsize=(10,10))\n",
        "\n",
        "sns.heatmap(cm, annot=True, square=True, vmin=-1, vmax=1) \n",
        "plt.title('Матрица корреляций между признаками клиентов', \n",
        "          fontdict={'fontsize': 16})\n",
        "plt.show()"
      ]
    },
    {
      "cell_type": "markdown",
      "metadata": {
        "id": "U7v1_l4bVleu"
      },
      "source": [
        "Можно видеть, что есть прямая корреляция между возрастом и оттоком, а так же небольшая корреляция оттока с городом, полом и лояльностью.\n"
      ]
    },
    {
      "cell_type": "markdown",
      "metadata": {
        "id": "EjxGuQa_wUkB"
      },
      "source": [
        "### Сформируем портрет ушедшего клиента"
      ]
    },
    {
      "cell_type": "markdown",
      "metadata": {
        "id": "0bq4tq4vWETe"
      },
      "source": [
        "Если человек перестал быть клиентом данного банка, то скорее всего\n",
        "\n",
        "- ему около 40-50 лет,\n",
        "- у него около 5 объектов недвижимости,\n",
        "- баланс около 120.000,\n",
        "- он пользуется 1, 3 или 4 продуктами банка,\n",
        "- у него есть кредитная карта даннного банка,\n",
        "- средняя зарплата около 100.000,\n",
        "- последнее время не был активным пользователем банка,\n",
        "- с большей вероятностью это женщина\n",
        "- он из Ростова Великого\n",
        "\n",
        "\n",
        "\n"
      ]
    },
    {
      "cell_type": "markdown",
      "metadata": {
        "id": "s23HcuK-AJEo"
      },
      "source": [
        "## Проверка гипотез "
      ]
    },
    {
      "cell_type": "markdown",
      "metadata": {
        "id": "b3SQFSpOAJEp"
      },
      "source": [
        "### Гипотеза о различии дохода между теми клиентами, которые ушли и теми, которые остались\n",
        "\n"
      ]
    },
    {
      "cell_type": "markdown",
      "metadata": {
        "id": "VJc3RkPxaN61"
      },
      "source": [
        "**H0**: Средний доход ушедших и оставшихся не отличается.   \n",
        "\n",
        "**H1**: Средний доход ушедших и оставшихся отличается"
      ]
    },
    {
      "cell_type": "code",
      "execution_count": null,
      "metadata": {
        "colab": {
          "base_uri": "https://localhost:8080/"
        },
        "id": "A2OmQiQ_aLzb",
        "outputId": "d1588033-1ec3-496c-9c58-cf7ae91cbbd4"
      },
      "outputs": [
        {
          "name": "stdout",
          "output_type": "stream",
          "text": [
            "p-значение:  0.229\n",
            "Не можем отвергнуть нулевую гипотезу\n"
          ]
        }
      ],
      "source": [
        "sample1 = df.query('churn == 0')['estimated_salary']\n",
        "sample2 = df.query('churn == 1')['estimated_salary']\n",
        "results = st.ttest_ind(sample1, sample2, equal_var=False)\n",
        "\n",
        "alpha = .01\n",
        "\n",
        "print(f'p-значение: {results.pvalue: .3}')\n",
        "\n",
        "if results.pvalue < alpha:\n",
        "  print('Отвергаем нулевую гипотезу')\n",
        "else:\n",
        "  print('Не можем отвергнуть нулевую гипотезу')\n",
        "\n"
      ]
    },
    {
      "cell_type": "markdown",
      "metadata": {
        "id": "jsd97i8bbsPf"
      },
      "source": [
        "Разница между доходами ушедших и оставшихся не является статистически значимой. "
      ]
    },
    {
      "cell_type": "markdown",
      "metadata": {
        "id": "CmMha22zZiAE"
      },
      "source": [
        "### Гипотеза о различии баланса на счете между теми клиентами, которые ушли и теми, которые остались\n",
        "\n"
      ]
    },
    {
      "cell_type": "markdown",
      "metadata": {
        "id": "9mgMLL02aufy"
      },
      "source": [
        "**H0**: Средний баланс на счету ушедших и оставшихся не отличается.   \n",
        "\n",
        "**H1**: Средний баланс на счету ушедших и оставшихся отличается"
      ]
    },
    {
      "cell_type": "code",
      "execution_count": null,
      "metadata": {
        "colab": {
          "base_uri": "https://localhost:8080/"
        },
        "id": "v6MalocmazYW",
        "outputId": "36bf616f-25b6-4dc6-cb68-37a5d827b68f"
      },
      "outputs": [
        {
          "name": "stdout",
          "output_type": "stream",
          "text": [
            "p-значение:  0.174\n",
            "Не можем отвергнуть нулевую гипотезу\n"
          ]
        }
      ],
      "source": [
        "sample1 = df.query('churn == 0')['balance'].dropna()\n",
        "sample2 = df.query('churn == 1')['balance'].dropna()\n",
        "results = st.ttest_ind(sample1, sample2, equal_var=False)\n",
        "\n",
        "alpha = .01\n",
        "\n",
        "print(f'p-значение: {results.pvalue: .3}')\n",
        "\n",
        "if results.pvalue < alpha:\n",
        "  print('Отвергаем нулевую гипотезу')\n",
        "else:\n",
        "  print('Не можем отвергнуть нулевую гипотезу')\n"
      ]
    },
    {
      "cell_type": "markdown",
      "metadata": {
        "id": "u2AGb0wpb_MO"
      },
      "source": [
        "Разница между балансом ушедших и оставшихся не является статистически значимой. "
      ]
    },
    {
      "cell_type": "markdown",
      "metadata": {
        "id": "wwZOdxcHZjxK"
      },
      "source": [
        "### Гипотеза о различии баллов кредитного скоринга между теми клиентами, которые ушли и теми, которые остались"
      ]
    },
    {
      "cell_type": "markdown",
      "metadata": {
        "id": "Vh4Lu8bebSKl"
      },
      "source": [
        "**H0**: Средний балл кредитного скоринга ушедших и оставшихся не отличается.   \n",
        "\n",
        "**H1**: Средний балл кредитного скоринга ушедших и оставшихся отличается"
      ]
    },
    {
      "cell_type": "code",
      "execution_count": null,
      "metadata": {
        "colab": {
          "base_uri": "https://localhost:8080/"
        },
        "id": "IHd2nLlzbcN1",
        "outputId": "2060befc-8a85-46da-f1a5-9d8dd89ac078"
      },
      "outputs": [
        {
          "name": "stdout",
          "output_type": "stream",
          "text": [
            "p-значение:  0.008\n",
            "Отвергаем нулевую гипотезу\n"
          ]
        }
      ],
      "source": [
        "sample1 = df.query('churn == 0')['score']\n",
        "sample2 = df.query('churn == 1')['score']\n",
        "results = st.ttest_ind(sample1, sample2, equal_var=False)\n",
        "\n",
        "alpha = .01\n",
        "\n",
        "print(f'p-значение: {results.pvalue: .1}')\n",
        "\n",
        "if results.pvalue < alpha:\n",
        "  print('Отвергаем нулевую гипотезу')\n",
        "else:\n",
        "  print('Не можем отвергнуть нулевую гипотезу')"
      ]
    },
    {
      "cell_type": "markdown",
      "metadata": {
        "id": "0sxdl5rPcCBp"
      },
      "source": [
        "Разница между баллами кредитного скоринга ушедших и оставшихся является статистически значимой. Можно предположить, что средние значения действительно отличаются."
      ]
    },
    {
      "cell_type": "code",
      "execution_count": null,
      "metadata": {
        "colab": {
          "base_uri": "https://localhost:8080/",
          "height": 112
        },
        "id": "cs-absyWcKlp",
        "outputId": "9810c0a6-ca1b-4894-f888-ae5ce7bc7afe"
      },
      "outputs": [
        {
          "data": {
            "text/html": [
              "<div>\n",
              "<style scoped>\n",
              "    .dataframe tbody tr th:only-of-type {\n",
              "        vertical-align: middle;\n",
              "    }\n",
              "\n",
              "    .dataframe tbody tr th {\n",
              "        vertical-align: top;\n",
              "    }\n",
              "\n",
              "    .dataframe thead th {\n",
              "        text-align: right;\n",
              "    }\n",
              "</style>\n",
              "<table border=\"1\" class=\"dataframe\">\n",
              "  <thead>\n",
              "    <tr style=\"text-align: right;\">\n",
              "      <th></th>\n",
              "      <th>churn</th>\n",
              "      <th>score</th>\n",
              "    </tr>\n",
              "  </thead>\n",
              "  <tbody>\n",
              "    <tr>\n",
              "      <th>0</th>\n",
              "      <td>0</td>\n",
              "      <td>651.853196</td>\n",
              "    </tr>\n",
              "    <tr>\n",
              "      <th>1</th>\n",
              "      <td>1</td>\n",
              "      <td>645.351497</td>\n",
              "    </tr>\n",
              "  </tbody>\n",
              "</table>\n",
              "</div>"
            ],
            "text/plain": [
              "   churn       score\n",
              "0      0  651.853196\n",
              "1      1  645.351497"
            ]
          },
          "execution_count": 50,
          "metadata": {},
          "output_type": "execute_result"
        }
      ],
      "source": [
        "df.groupby('churn', as_index=False)['score'].mean()"
      ]
    },
    {
      "cell_type": "markdown",
      "metadata": {
        "id": "PZ8QQOBacSu7"
      },
      "source": [
        "У оставшихся баллы кредитного скоринга в среднем больше."
      ]
    },
    {
      "cell_type": "markdown",
      "metadata": {
        "id": "p-tXVnRNMt3q"
      },
      "source": [
        "Почему было решено использовать именно критерий Стьюдента, а не критерий Манна-Уитни?\n"
      ]
    },
    {
      "cell_type": "markdown",
      "metadata": {
        "id": "RGFTepZcMt3q"
      },
      "source": [
        "1. У нас ожидается примерно одинаковая дисперсия и распределение близкое к нормальному, поэтому критерий Стьюдента применим, и он просто хорошо работает для сравнения средних.\n",
        "\n",
        "2. Критерий Манна-Уитни плохо работает, если в выборке есть повторяющиеся значения. Баллы кредитного скоринга вполне могут совпадать не раз, поэтому этот критерий будет плохо работать."
      ]
    },
    {
      "cell_type": "code",
      "execution_count": null,
      "metadata": {
        "scrolled": true,
        "id": "rgWeUOtlMt3q",
        "outputId": "86ad9d82-10b2-49bd-838b-f5e2a8cd2afe"
      },
      "outputs": [
        {
          "data": {
            "text/plain": [
              "850    233\n",
              "678     63\n",
              "655     54\n",
              "667     53\n",
              "705     53\n",
              "      ... \n",
              "440      1\n",
              "424      1\n",
              "367      1\n",
              "358      1\n",
              "423      1\n",
              "Name: score, Length: 460, dtype: int64"
            ]
          },
          "execution_count": 71,
          "metadata": {},
          "output_type": "execute_result"
        }
      ],
      "source": [
        "# Количество повторений баллов кредитного скоринга\n",
        "df['score'].value_counts().sort_values(ascending=False)"
      ]
    },
    {
      "cell_type": "markdown",
      "metadata": {
        "id": "CpcVbq05AJEq"
      },
      "source": [
        "## Выводы\n"
      ]
    },
    {
      "cell_type": "markdown",
      "metadata": {
        "id": "Fm0V__Z7cdZ2"
      },
      "source": [
        "Был проведен исследовательский анализ данных, в ходе которого удалось выявить разницу между ушедшими и оставшимися клиентами, а так же сформулировать портрет ушедшего клиента:\n",
        "\n",
        "- **разница между ушедшими и оставшимися:**\n",
        "  - лояльность: ушедшие были нелояльными чаще, чем оставшиеся\n",
        "  - количестве используемых продуктов банка: большая часть ушедших пользовалась всего 1 продуктом, хотя среди оставшихся больше половины используют по крайней мере 2 продукта\n",
        "  - возраст: средний и медианный возрасты ушедших и оставшихся клиентов сильно отличаются - около 36 для оставшихся и около 45 для ушедших\n",
        "\n",
        "\n",
        "- **портрет ушедшего клиента:** \n",
        "  - с большей вероятностью это женщина\n",
        "  - возраст около 40-50 лет,\n",
        "  - у него около 5 объектов недвижимости,\n",
        "  - баланс около 120.000,\n",
        "  - он пользуется 1, 3 или 4 продуктами банка,\n",
        "  - у него есть кредитная карта данного банка,\n",
        "  - средняя зарплата около 100.000,\n",
        "  - последнее время не был активным пользователем банка\n",
        "  - из Ростова Великого\n",
        "\n",
        "\n",
        "**Было замечено следующее:** при том, что среди всех клиентов около **45%** женщин, среди ушедших этот показатель заметно выше - около **56%**.\n",
        "\n",
        "**Наиболее склонны к оттоку:**\n",
        "- при сравнении полов: женщины\n",
        "- при сравнении количества недвижимости: нет явных различий\n",
        "- при сравнении количсевта используемых продуктов: пользующиеся 3 и 4 продуктами, с оттоками 83% и 100%\n",
        "- при сравнении наличия кредитной карты: нет явных различий\n",
        "- при сравнения лояльности: менее лояльыне клиенты\n",
        "- при сравнении города: в Ростове Великом отток в 2 раза больше, чем в других городах\n",
        "\n",
        "Так же было протестировано 3 гипотезы:\n",
        "- *о различии средних доходов*: различия не выявлено\n",
        "- *о различии среднего баланса*: различия не выявлено\n",
        "- *о различии среднего балла кредитного скоринга*: различие было признано статистически важным, среди ушедших балл кредитного скоринга меньше\n",
        "\n",
        "Можно сделать вывод, что скорее всего средние доходы и балансы оставшихся и ушедших не различаются, а средние баллы кредитного скоринга выше у оставшихся. \n",
        "\n",
        "Есть небольшая корреляция оттока с возрастом, средний возраст ушедших выше, а так же с лояльностью и городом.\n",
        "\n",
        "Среди ушедших много женщин. \n",
        "\n",
        "Город, с наибольшим отттоком - ростов Великий.\n",
        "\n",
        "**Рекомендации по снижению оттока:**\n",
        "\n",
        "Возможно, отток женщин связан с тем, что в этом банке есть специальные предложения для мужчин, а для женщин нет, либо в этом банке нет вообще специальных предложений для представителей любого пола, а в других банках они есть. В любом случае, стоит задуматься, почему уходит такой процент женщин.\n",
        "\n",
        "Средний возраст уходящих около 45 лет, он сильно выше среднего возраста клиента оставшегося, возможно, в таком возрасте люди уже сильнее задумываются о пенсии, так что возможно такой средний возраст ушедших связан с невыгодными условиями накопления или чего-то подобного. \n",
        "\n",
        "В Ростове Великом очень большой отток, вероятно, что-то не так с местными филиалами. Нужно проверить именно их и найти различия с отделениями в дргуих городах.\n",
        "\n",
        "Я бы обратила внимание именно на женщин, людей за 40 лет и жителей Ростова Великого, стоит выяснить, почему уходят именно они."
      ]
    }
  ],
  "metadata": {
    "ExecuteTimeLog": [
      {
        "duration": 4,
        "start_time": "2022-10-12T11:28:13.212Z"
      },
      {
        "duration": 78,
        "start_time": "2022-10-22T20:48:50.047Z"
      },
      {
        "duration": 1516,
        "start_time": "2022-10-22T20:49:08.227Z"
      },
      {
        "duration": 604,
        "start_time": "2022-10-22T20:49:09.745Z"
      },
      {
        "duration": 3,
        "start_time": "2022-10-22T20:49:10.351Z"
      },
      {
        "duration": 36,
        "start_time": "2022-10-22T20:49:10.356Z"
      },
      {
        "duration": 14,
        "start_time": "2022-10-22T20:49:10.394Z"
      },
      {
        "duration": 19,
        "start_time": "2022-10-22T20:49:10.410Z"
      },
      {
        "duration": 4,
        "start_time": "2022-10-22T20:49:10.430Z"
      },
      {
        "duration": 448,
        "start_time": "2022-10-22T20:49:10.436Z"
      },
      {
        "duration": 39,
        "start_time": "2022-10-22T20:49:10.885Z"
      },
      {
        "duration": 16,
        "start_time": "2022-10-22T20:49:10.927Z"
      },
      {
        "duration": 12,
        "start_time": "2022-10-22T20:49:10.944Z"
      },
      {
        "duration": 1310,
        "start_time": "2022-10-22T20:49:10.958Z"
      },
      {
        "duration": 835,
        "start_time": "2022-10-22T20:49:12.270Z"
      },
      {
        "duration": 7,
        "start_time": "2022-10-22T20:49:13.106Z"
      },
      {
        "duration": 12,
        "start_time": "2022-10-22T20:49:13.115Z"
      },
      {
        "duration": 10,
        "start_time": "2022-10-22T20:49:13.128Z"
      },
      {
        "duration": 892,
        "start_time": "2022-10-22T20:49:13.140Z"
      },
      {
        "duration": 17,
        "start_time": "2022-10-22T20:49:14.033Z"
      },
      {
        "duration": 1035,
        "start_time": "2022-10-22T20:49:14.051Z"
      },
      {
        "duration": 10,
        "start_time": "2022-10-22T20:49:15.090Z"
      },
      {
        "duration": 18,
        "start_time": "2022-10-22T20:49:15.101Z"
      },
      {
        "duration": 10,
        "start_time": "2022-10-22T20:49:15.121Z"
      },
      {
        "duration": 11,
        "start_time": "2022-10-22T20:49:15.132Z"
      },
      {
        "duration": 22,
        "start_time": "2022-10-22T21:01:34.130Z"
      },
      {
        "duration": 75,
        "start_time": "2022-10-22T21:14:16.453Z"
      },
      {
        "duration": 49,
        "start_time": "2022-10-24T21:21:20.580Z"
      },
      {
        "duration": 1560,
        "start_time": "2022-10-24T21:21:31.988Z"
      },
      {
        "duration": 621,
        "start_time": "2022-10-24T21:21:33.551Z"
      },
      {
        "duration": 4,
        "start_time": "2022-10-24T21:21:34.174Z"
      },
      {
        "duration": 42,
        "start_time": "2022-10-24T21:21:34.180Z"
      },
      {
        "duration": 36,
        "start_time": "2022-10-24T21:21:34.225Z"
      },
      {
        "duration": 31,
        "start_time": "2022-10-24T21:21:34.263Z"
      },
      {
        "duration": 3,
        "start_time": "2022-10-24T21:21:34.296Z"
      },
      {
        "duration": 499,
        "start_time": "2022-10-24T21:21:34.300Z"
      },
      {
        "duration": 39,
        "start_time": "2022-10-24T21:21:34.800Z"
      },
      {
        "duration": 18,
        "start_time": "2022-10-24T21:21:34.864Z"
      },
      {
        "duration": 16,
        "start_time": "2022-10-24T21:21:34.885Z"
      },
      {
        "duration": 1469,
        "start_time": "2022-10-24T21:21:34.903Z"
      },
      {
        "duration": 971,
        "start_time": "2022-10-24T21:21:36.374Z"
      },
      {
        "duration": 18,
        "start_time": "2022-10-24T21:21:37.353Z"
      },
      {
        "duration": 22,
        "start_time": "2022-10-24T21:21:37.374Z"
      },
      {
        "duration": 17,
        "start_time": "2022-10-24T21:21:37.398Z"
      },
      {
        "duration": 953,
        "start_time": "2022-10-24T21:21:37.417Z"
      },
      {
        "duration": 70,
        "start_time": "2022-10-24T21:21:38.372Z"
      },
      {
        "duration": 0,
        "start_time": "2022-10-24T21:21:38.444Z"
      },
      {
        "duration": 0,
        "start_time": "2022-10-24T21:21:38.446Z"
      },
      {
        "duration": 0,
        "start_time": "2022-10-24T21:21:38.448Z"
      },
      {
        "duration": 0,
        "start_time": "2022-10-24T21:21:38.449Z"
      },
      {
        "duration": 0,
        "start_time": "2022-10-24T21:21:38.450Z"
      },
      {
        "duration": 17,
        "start_time": "2022-10-24T21:22:09.522Z"
      },
      {
        "duration": 25,
        "start_time": "2022-10-24T21:22:13.297Z"
      },
      {
        "duration": 32,
        "start_time": "2022-10-24T21:22:13.326Z"
      },
      {
        "duration": 0,
        "start_time": "2022-10-24T21:22:13.361Z"
      },
      {
        "duration": 0,
        "start_time": "2022-10-24T21:22:13.362Z"
      },
      {
        "duration": 0,
        "start_time": "2022-10-24T21:22:13.364Z"
      },
      {
        "duration": 0,
        "start_time": "2022-10-24T21:22:13.364Z"
      },
      {
        "duration": 1101,
        "start_time": "2022-10-24T21:22:25.673Z"
      },
      {
        "duration": 1336,
        "start_time": "2022-10-24T21:22:36.019Z"
      },
      {
        "duration": 20,
        "start_time": "2022-10-24T21:22:37.358Z"
      },
      {
        "duration": 19,
        "start_time": "2022-10-24T21:22:37.380Z"
      },
      {
        "duration": 12,
        "start_time": "2022-10-24T21:22:37.403Z"
      },
      {
        "duration": 45,
        "start_time": "2022-10-24T21:22:37.417Z"
      },
      {
        "duration": 3,
        "start_time": "2022-10-24T21:27:28.911Z"
      },
      {
        "duration": 3,
        "start_time": "2022-10-24T21:27:32.776Z"
      },
      {
        "duration": 501,
        "start_time": "2022-10-24T21:27:32.781Z"
      },
      {
        "duration": 4,
        "start_time": "2022-10-24T21:27:33.284Z"
      },
      {
        "duration": 54,
        "start_time": "2022-10-24T21:27:33.290Z"
      },
      {
        "duration": 17,
        "start_time": "2022-10-24T21:27:33.346Z"
      },
      {
        "duration": 59,
        "start_time": "2022-10-24T21:27:33.364Z"
      },
      {
        "duration": 4,
        "start_time": "2022-10-24T21:27:33.424Z"
      },
      {
        "duration": 497,
        "start_time": "2022-10-24T21:27:33.429Z"
      },
      {
        "duration": 54,
        "start_time": "2022-10-24T21:27:33.928Z"
      },
      {
        "duration": 27,
        "start_time": "2022-10-24T21:27:33.984Z"
      },
      {
        "duration": 15,
        "start_time": "2022-10-24T21:27:34.014Z"
      },
      {
        "duration": 1409,
        "start_time": "2022-10-24T21:27:34.030Z"
      },
      {
        "duration": 1106,
        "start_time": "2022-10-24T21:27:35.441Z"
      },
      {
        "duration": 16,
        "start_time": "2022-10-24T21:27:36.549Z"
      },
      {
        "duration": 48,
        "start_time": "2022-10-24T21:27:36.566Z"
      },
      {
        "duration": 70,
        "start_time": "2022-10-24T21:27:36.616Z"
      },
      {
        "duration": 1188,
        "start_time": "2022-10-24T21:27:36.688Z"
      },
      {
        "duration": 12,
        "start_time": "2022-10-24T21:27:37.878Z"
      },
      {
        "duration": 25,
        "start_time": "2022-10-24T21:27:37.891Z"
      },
      {
        "duration": 29,
        "start_time": "2022-10-24T21:27:37.917Z"
      },
      {
        "duration": 34,
        "start_time": "2022-10-24T21:27:37.948Z"
      },
      {
        "duration": 10,
        "start_time": "2022-10-24T21:33:43.865Z"
      },
      {
        "duration": 29,
        "start_time": "2022-10-24T21:50:39.407Z"
      },
      {
        "duration": 3332,
        "start_time": "2022-10-24T21:51:09.828Z"
      },
      {
        "duration": 3227,
        "start_time": "2022-10-24T21:51:20.642Z"
      },
      {
        "duration": 2217,
        "start_time": "2022-10-24T21:52:23.070Z"
      },
      {
        "duration": 8,
        "start_time": "2022-10-24T21:53:17.687Z"
      },
      {
        "duration": 9,
        "start_time": "2022-10-24T21:53:24.667Z"
      },
      {
        "duration": 19,
        "start_time": "2022-10-24T21:53:36.726Z"
      },
      {
        "duration": 36,
        "start_time": "2022-10-24T21:54:15.225Z"
      },
      {
        "duration": 35,
        "start_time": "2022-10-24T21:54:24.086Z"
      },
      {
        "duration": 35,
        "start_time": "2022-10-24T21:54:38.566Z"
      },
      {
        "duration": 32,
        "start_time": "2022-10-24T21:54:43.866Z"
      },
      {
        "duration": 21,
        "start_time": "2022-10-24T21:58:13.053Z"
      },
      {
        "duration": 33,
        "start_time": "2022-10-24T21:59:50.313Z"
      },
      {
        "duration": 37,
        "start_time": "2022-10-24T22:00:09.528Z"
      },
      {
        "duration": 12,
        "start_time": "2022-10-24T22:14:37.249Z"
      },
      {
        "duration": 8,
        "start_time": "2022-10-24T22:14:55.950Z"
      },
      {
        "duration": 8,
        "start_time": "2022-10-24T22:15:14.229Z"
      },
      {
        "duration": 8,
        "start_time": "2022-10-24T22:15:37.080Z"
      },
      {
        "duration": 7,
        "start_time": "2022-10-24T22:15:48.943Z"
      },
      {
        "duration": 12,
        "start_time": "2022-10-24T22:16:28.278Z"
      },
      {
        "duration": 11,
        "start_time": "2022-10-24T22:16:52.873Z"
      },
      {
        "duration": 79,
        "start_time": "2022-10-25T21:56:49.019Z"
      },
      {
        "duration": 62,
        "start_time": "2022-10-26T10:16:29.712Z"
      }
    ],
    "colab": {
      "provenance": []
    },
    "kernelspec": {
      "display_name": "Python 3 (ipykernel)",
      "language": "python",
      "name": "python3"
    },
    "language_info": {
      "codemirror_mode": {
        "name": "ipython",
        "version": 3
      },
      "file_extension": ".py",
      "mimetype": "text/x-python",
      "name": "python",
      "nbconvert_exporter": "python",
      "pygments_lexer": "ipython3",
      "version": "3.9.5"
    },
    "toc": {
      "base_numbering": 1,
      "nav_menu": {},
      "number_sections": true,
      "sideBar": true,
      "skip_h1_title": true,
      "title_cell": "Table of Contents",
      "title_sidebar": "Contents",
      "toc_cell": false,
      "toc_position": {},
      "toc_section_display": true,
      "toc_window_display": false
    }
  },
  "nbformat": 4,
  "nbformat_minor": 0
}